{
 "cells": [
  {
   "cell_type": "markdown",
   "metadata": {},
   "source": [
    "### This is designed to merge the single papers together to assemble one bigger data-csv that we can at some point use for model training\n",
    "\n",
    "TODO: \n",
    "Investigate: \n",
    "https://www.nature.com/articles/s41598-023-41443-4?fromPaywallRec=false \n",
    "https://www.nature.com/articles/s41593-023-01514-1.pdf \n"
   ]
  },
  {
   "cell_type": "markdown",
   "metadata": {},
   "source": [
    "# General Notes: \n",
    "- To execute the notebook, you frist need to produce the .csv from the underlying papers\n",
    "- I try to convert and select for ENSG gene rows as we got  datasets from Flo with 60k entries which most probably will be me mayjority\n"
   ]
  },
  {
   "cell_type": "code",
   "execution_count": null,
   "metadata": {},
   "outputs": [],
   "source": [
    "%load_ext autoreload\n",
    "%autoreload 2\n",
    "\n",
    "import pandas as pd\n",
    "import numpy as np \n",
    "import matplotlib.pyplot as plt\n",
    "import seaborn as sns\n",
    "import os\n",
    "import sys\n",
    "from scipy.io import mmread\n",
    "from utils.helper import manhattanplot, violinplot_overall, scatter_plot, get_negative_values, METADATA_COLS, reorder_columns_by_metadata_and_gene_counts, convert_gene_names_to_ensembl, clean_age\n",
    "BASE_PATH=\"/work/transcriptomics_norm_model\"\n"
   ]
  },
  {
   "cell_type": "code",
   "execution_count": null,
   "metadata": {},
   "outputs": [],
   "source": [
    "### Wimmers 2023 (NOT INCLUDED)\n",
    "#NOTE This is 1 of 2 Datasets from this paper. \n",
    "#NOTE Also this datasets should be clarified with Flo first. It´s PBMC but not clear from whom ? (maybe GSE239799 ??? but also different)\n",
    "wimmers_2_df = pd.read_csv(f'{BASE_PATH}/2023_wimmers/2023_Wimmers_combi_df.csv')\n",
    "print(wimmers_2_df.shape)\n",
    "wimmers_2_df.head()\n",
    "PLATFORM_GEO_ID_wimmers_23 = \"GPL24676\"\n",
    "PLATFORM_DESCRIPTION_wimmers_23 = \"Illumina NovaSeq 6000 (Homo sapiens)\"\n",
    "METHOD_wimmers_23 = \"RNAseq\"\n",
    "#TODO in the data itself PBMC is mentioned but https://www.ncbi.nlm.nih.gov/geo/query/acc.cgi?acc=GSE239787 it is whole blood \n",
    "TYPE_wimmers_23 = \"blood\"\n",
    "study_accession_wimmers_23 = \"???\"\n",
    "desease_wimmers_23 = \"SARS-CoV-2 / healthy\""
   ]
  },
  {
   "cell_type": "code",
   "execution_count": null,
   "metadata": {},
   "outputs": [],
   "source": [
    "### Wimmers 2023 \n",
    "#NOTE This is 2 of 2 Datasets from this paper. \n",
    "wimmers_GEO239787_df = pd.read_csv(PATH_WIMMER2023, index_col=0)\n",
    "print(wimmers_GEO239787_df.shape)\n",
    "wimmers_GEO239787_df = wimmers_GEO239787_df.rename(columns={\n",
    "  'ID':'subject_accession', \n",
    "  'geo_accession':'data_accession',\n",
    "  'characteristics_ch1.4':'age',\n",
    "  'characteristics_ch1.3':'gender',\n",
    "  'Status':'desease', \n",
    "  'contact_city':'origin',\n",
    "  'library_strategy':'METHOD', \n",
    "  'source_name_ch1':'TYPE',\n",
    "  'platform_id':'PLATFORM_GEO_ID',\n",
    "  'instrument_model':'PLATFORM_DESCRIPTION',\n",
    "})\n",
    "wimmers_GEO239787_df['study_accession']='GSE239787'\n",
    "wimmers_GEO239787_df['origin']='Contact City: Palo Alto'\n",
    "wimmers_GEO239787_df['age']=wimmers_GEO239787_df['age'].str.replace('age, months: ', '').astype(float)\n",
    "wimmers_GEO239787_df['age']=wimmers_GEO239787_df['age']/12\n",
    "\n",
    "wimmers_GEO239787_df_reduced = reorder_columns_by_metadata_and_gene_counts(wimmers_GEO239787_df)\n",
    "\n",
    "print(wimmers_GEO239787_df_reduced.shape)\n",
    "wimmers_GEO239787_df_reduced.tail()"
   ]
  },
  {
   "cell_type": "code",
   "execution_count": null,
   "metadata": {},
   "outputs": [],
   "source": [
    "# 2020 Arunachalam, Wimmers\n",
    "#NOTE migh had some issues in the prep df file, but the GEO actually did a good job \n",
    "#NOTE I can probably add 4 more subjects but want to clarify with flo first\n",
    "aranachalam_2020_GSE152418_df = pd.read_csv(PATH_ARUNACHALAM2020_FINALDESTINATION, index_col=0)\n",
    "print(aranachalam_2020_GSE152418_df.shape)\n",
    "aranachalam_2020_GSE152418_df = aranachalam_2020_GSE152418_df.rename(columns={\n",
    "  'title':'subject_accession', \n",
    "  'geo_accession':'data_accession',\n",
    "  'Age':'age',\n",
    "  'characteristics_ch1.2':'gender',\n",
    "  'characteristics_ch1.3':'desease', \n",
    "  'contact_city':'origin',\n",
    "  'library_strategy':'METHOD', \n",
    "  'source_name_ch1':'TYPE',\n",
    "  'instrument_model':'PLATFORM_DESCRIPTION',\n",
    "  'platform_id':'PLATFORM_GEO_ID',\n",
    "})\n",
    "aranachalam_2020_GSE152418_df['study_accession'] = 'GSE152418'\n",
    "aranachalam_2020_GSE152418_df = reorder_columns_by_metadata_and_gene_counts(aranachalam_2020_GSE152418_df)\n",
    "print(aranachalam_2020_GSE152418_df.shape)\n",
    "aranachalam_2020_GSE152418_df.head()"
   ]
  },
  {
   "cell_type": "code",
   "execution_count": null,
   "metadata": {},
   "outputs": [],
   "source": [
    "\n"
   ]
  },
  {
   "cell_type": "code",
   "execution_count": null,
   "metadata": {},
   "outputs": [],
   "source": [
    "# 2021 Thair COVID \n",
    "# NOTE \n",
    "\n",
    "thair_2021_GSE152641_df = pd.read_csv(f\"{BASE_PATH}/2021_thair/thair_combi_covid.csv\", low_memory=False, index_col=0)\n",
    "thair_2021_GSE152641_df = thair_2021_GSE152641_df.loc[1:86, :] # there are 3 meta rows in the csv... \n",
    "print(thair_2021_GSE152641_df.shape)\n",
    "thair_2021_GSE152641_df = thair_2021_GSE152641_df.rename(columns={\n",
    "  'title':'subject_accession', \n",
    "    'geo_accession':'data_accession',\n",
    "    'characteristics_ch1.3':'age',\n",
    "    'characteristics_ch1.4':'gender',\n",
    "    'characteristics_ch1':'desease',\n",
    "  'contact_city':'origin',\n",
    "  'library_strategy':'METHOD',\n",
    "  'characteristics_ch1.2':'TYPE',\n",
    "  'instrument_model':'PLATFORM_DESCRIPTION',\n",
    "  'platform_id':'PLATFORM_GEO_ID',\n",
    "})\n",
    "thair_2021_GSE152641_df['study_accession'] ='GSE152641'\n",
    "thair_2021_GSE152641_ordered_df = reorder_columns_by_metadata_and_gene_counts(thair_2021_GSE152641_df)\n",
    "print(thair_2021_GSE152641_ordered_df.shape)\n",
    "thair_2021_GSE152641_ordered_df.head()"
   ]
  },
  {
   "cell_type": "code",
   "execution_count": null,
   "metadata": {},
   "outputs": [],
   "source": [
    "# 2021 Aranachalam VACCINE\n",
    "#NOTE Had to convert Gene names to ENSEMBL which sometimes results in a not found version -> Flo how to handle \n",
    "#NOTE Vaccine study, i just took the Baseline (blood before the vaccine was given)\n",
    "\n",
    "import copy\n",
    "\n",
    "aranachalam_2021_GSE169159_df = pd.read_csv(f'{BASE_PATH}/2021_arunachalam/2021_aranachalam_vaccine_combi_df_baseline.csv')\n",
    "print(aranachalam_2021_GSE169159_df.shape)\n",
    "aranachalam_2021_GSE169159_df = aranachalam_2021_GSE169159_df.rename(columns={\n",
    "  'title':'subject_accession', \n",
    "  'geo_accession':'data_accession',\n",
    "  'age':'age',\n",
    "    'sex':'gender',\n",
    "  'contact_city':'origin',\n",
    "  'library_strategy':'METHOD',\n",
    "  'source_name_ch1':'TYPE',\n",
    "  'instrument_model':'PLATFORM_DESCRIPTION',\n",
    "  'platform_id':'PLATFORM_GEO_ID',\n",
    "})\n",
    "aranachalam_2021_GSE169159_df['desease']='Healthy'\n",
    "aranachalam_2021_GSE169159_df['study_accession']='GSE169159'\n",
    "\n",
    "## This is weird as the overwrite of a subset of columns of a dataframe seems not to work. I tried stuff in different patterns here\n",
    "print(f\"First gene: {aranachalam_2021_GSE169159_df.columns.get_loc('FGR')}\")\n",
    "gene_names_to_convert = aranachalam_2021_GSE169159_df.iloc[:, 38:-2].copy().columns\n",
    "aranachalam_2021_GSE169159_ordered_df = reorder_columns_by_metadata_and_gene_counts(aranachalam_2021_GSE169159_df, \n",
    "                                                                                    metadata_cols=METADATA_COLS,\n",
    "                                                                                    gene_columns=gene_names_to_convert)\n",
    "print(f\"First gene: {aranachalam_2021_GSE169159_ordered_df.columns.get_loc('FGR')}\")\n",
    "converted_gene_names = convert_gene_names_to_ensembl(aranachalam_2021_GSE169159_ordered_df.iloc[:, 11:].copy().columns)\n",
    "\n",
    "# Now i want to overwrite every column of the dataset (also i dont need to use loc or iloc)\n",
    "all_dataset_new_columns = METADATA_COLS + converted_gene_names\n",
    "aranachalam_2021_GSE169159_ordered_df.columns = all_dataset_new_columns\n",
    "\n",
    "print(aranachalam_2021_GSE169159_ordered_df.columns[60])\n",
    "print(converted_gene_names[49]) # as i need to add the meta cols ... \n",
    "\n",
    "print(aranachalam_2021_GSE169159_ordered_df.shape)\n",
    "aranachalam_2021_GSE169159_ordered_df.tail()"
   ]
  },
  {
   "cell_type": "code",
   "execution_count": null,
   "metadata": {},
   "outputs": [],
   "source": [
    "# 2023 feargal\n",
    "# '/work/transcriptomics_norm_model/2023_feargal/2023_feargal_combi_df.csv'\n",
    "feargal_2023_GSE199750_df_init = pd.read_csv('/work/transcriptomics_norm_model/2023_feargal/2023_feargal_combi_df.csv')\n",
    "print(feargal_2023_GSE199750_df_init.shape)\n",
    "# HERE IS A BUG, the data got age and gender cols confused in some rows... \n",
    "feargal_2023_GSE199750_df_init.loc[:31, 'characteristics_ch1.2'] = feargal_2023_GSE199750_df_init.loc[:31, 'characteristics_ch1.3']\n",
    "feargal_2023_GSE199750_df_init.loc[:31, 'characteristics_ch1.3'] = feargal_2023_GSE199750_df_init.loc[:31, 'characteristics_ch1.4']"
   ]
  },
  {
   "cell_type": "code",
   "execution_count": null,
   "metadata": {},
   "outputs": [],
   "source": [
    "\n",
    "feargal_2023_GSE199750_df_init['characteristics_ch1.3'].unique()\n"
   ]
  },
  {
   "cell_type": "code",
   "execution_count": null,
   "metadata": {},
   "outputs": [],
   "source": [
    "\n",
    "feargal_2023_GSE199750_df = feargal_2023_GSE199750_df_init.rename(columns={\n",
    "        'characteristics_ch1':'subject_accession', \n",
    "           'geo_accession':'data_accession',\n",
    "           'characteristics_ch1.2':'age',\n",
    "          'characteristics_ch1.3':'gender',\n",
    "          'contact_city':'origin',\n",
    "           'library_strategy':'METHOD',\n",
    "           'source_name_ch1':'TYPE',\n",
    "          'instrument_model':'PLATFORM_DESCRIPTION',\n",
    "          'platform_id':'PLATFORM_GEO_ID',\n",
    "})\n",
    "feargal_2023_GSE199750_df['desease']='Healthy'\n",
    "feargal_2023_GSE199750_df['study_accession']='GSE199750'\n",
    "feargal_2023_GSE199750_reordered_df = reorder_columns_by_metadata_and_gene_counts(feargal_2023_GSE199750_df)\n",
    "print(feargal_2023_GSE199750_reordered_df.shape)\n",
    "feargal_2023_GSE199750_reordered_df.head()"
   ]
  },
  {
   "cell_type": "code",
   "execution_count": null,
   "metadata": {},
   "outputs": [],
   "source": [
    "#SOARES-SCHANINSKI\n",
    "#NOTE CHIKV virus patients and ~20 healthy controls\n",
    "\n",
    "soares_df = pd.read_csv('/work/transcriptomics_norm_model/2019_soares/2019_soares_combi_df.csv')\n",
    "print(soares_df.shape)\n",
    "soares_df = soares_df.rename(columns={\n",
    "                'BioSample':'subject_accession', \n",
    "                'Run':'data_accession',\n",
    "                'Age':'age',\n",
    "                'sex':'gender',\n",
    "                'Center Name':'origin',\n",
    "                'Assay Type':'METHOD',\n",
    "                'tissue':'TYPE',\n",
    "                'Instrument':'PLATFORM_DESCRIPTION',\n",
    "                'disease': 'desease'\n",
    "})\n",
    "soares_df['study_accession']='BioProject'\n",
    "soares_df['PLATFORM_GEO_ID']='-'\n",
    "soares_df = reorder_columns_by_metadata_and_gene_counts(soares_df)\n",
    "print(soares_df.shape)\n",
    "soares_df.head()"
   ]
  },
  {
   "cell_type": "code",
   "execution_count": null,
   "metadata": {},
   "outputs": [],
   "source": []
  },
  {
   "cell_type": "markdown",
   "metadata": {},
   "source": [
    "# 2023 feargal\n",
    "# '/work/transcriptomics_norm_model/2023_feargal/2023_feargal_combi_df.csv'\n",
    "feargal_2023_GSE199750_df_init = pd.read_csv('/work/transcriptomics_norm_model/2023_feargal/2023_feargal_combi_df.csv')\n",
    "print(feargal_2023_GSE199750_df_init.shape)\n",
    "# HERE IS A BUG, the data got age and gender cols confused in some rows... \n",
    "feargal_2023_GSE199750_df_init.loc[:31, 'characteristics_ch1.2'] = feargal_2023_GSE199750_df_init.loc[:31, 'characteristics_ch1.3']\n",
    "feargal_2023_GSE199750_df_init.loc[:31, 'characteristics_ch1.3'] = feargal_2023_GSE199750_df_init.loc[:31, 'characteristics_ch1.4']"
   ]
  },
  {
   "cell_type": "code",
   "execution_count": null,
   "metadata": {},
   "outputs": [],
   "source": [
    "concatinated_df = pd.concat([aranachalam_2020_GSE152418_df, \n",
    "                             wimmers_GEO239787_df_reduced, \n",
    "                             thair_2021_GSE152641_df, \n",
    "                             aranachalam_2021_GSE169159_ordered_df, \n",
    "                             feargal_2023_GSE199750_reordered_df,\n",
    "                             soares_df])\n",
    "print(concatinated_df.shape)\n",
    "concatinated_df.head()"
   ]
  },
  {
   "cell_type": "markdown",
   "metadata": {},
   "source": [
    "### Unify the different valuee "
   ]
  },
  {
   "cell_type": "code",
   "execution_count": null,
   "metadata": {},
   "outputs": [],
   "source": [
    "mapping = {\n",
    "    'disease state: COVID-19': 'Sars-CoV-2',\n",
    "    'disease: COVID19': 'Sars-CoV-2',\n",
    "    'acute': 'Sars-CoV-2',\n",
    "    'acute-omicron': 'Sars-CoV-2',\n",
    "    'disease state: Healthy': 'Healthy',\n",
    "    'healthy': 'Healthy',\n",
    "    'disease: Healthy control': 'Healthy',\n",
    "    'Healthy': 'Healthy',\n",
    "    'Control': 'Healthy',\n",
    "}\n",
    "concatinated_df['desease'] = concatinated_df['desease'].replace(mapping)\n",
    "concatinated_df['desease'].unique()"
   ]
  },
  {
   "cell_type": "code",
   "execution_count": null,
   "metadata": {},
   "outputs": [],
   "source": [
    "mapping = {\n",
    "    'gender: F': 'Female',\n",
    "    'gender: M': 'Male',\n",
    "    'Sex: Male': 'Male',\n",
    "    'Sex: Female': 'Female',\n",
    "    'female': 'Female',\n",
    "    'male': 'Male',\n",
    "}\n",
    "concatinated_df['gender'] = concatinated_df['gender'].replace(mapping)\n",
    "concatinated_df['gender'].unique()\n"
   ]
  },
  {
   "cell_type": "code",
   "execution_count": null,
   "metadata": {},
   "outputs": [],
   "source": [
    "\n",
    "# Apply the function and convert column to float\n",
    "concatinated_df['age'] = concatinated_df['age'].apply(clean_age).astype(float)\n"
   ]
  },
  {
   "cell_type": "markdown",
   "metadata": {},
   "source": [
    "### Unify the different valuee "
   ]
  },
  {
   "cell_type": "code",
   "execution_count": null,
   "metadata": {},
   "outputs": [],
   "source": [
    "mapping = {\n",
    "    'disease state: COVID-19': 'Sars-CoV-2',\n",
    "    'disease: COVID19': 'Sars-CoV-2',\n",
    "    'acute': 'Sars-CoV-2',\n",
    "    'acute-omicron': 'Sars-CoV-2',\n",
    "    'disease state: Healthy': 'Healthy',\n",
    "    'healthy': 'Healthy',\n",
    "    'disease: Healthy control': 'Healthy',\n",
    "    'Healthy': 'Healthy',\n",
    "    'Control': 'Healthy',\n",
    "}\n",
    "concatinated_df['desease'] = concatinated_df['desease'].replace(mapping)\n",
    "concatinated_df['desease'].unique()"
   ]
  },
  {
   "cell_type": "code",
   "execution_count": null,
   "metadata": {},
   "outputs": [],
   "source": [
    "mapping = {\n",
    "    'gender: F': 'Female',\n",
    "    'gender: M': 'Male',\n",
    "    'Sex: Male': 'Male',\n",
    "    'Sex: Female': 'Female',\n",
    "    'female': 'Female',\n",
    "    'male': 'Male',\n",
    "}\n",
    "concatinated_df['gender'] = concatinated_df['gender'].replace(mapping)\n",
    "concatinated_df['gender'].unique()\n",
    "\n",
    "\n",
    "# Why is there nan"
   ]
  },
  {
   "cell_type": "code",
   "execution_count": null,
   "metadata": {},
   "outputs": [],
   "source": [
    "\n",
    "# Apply the function and convert column to float\n",
    "concatinated_df['age'] = concatinated_df['age'].apply(clean_age).astype(float)"
   ]
  },
  {
   "cell_type": "code",
   "execution_count": null,
   "metadata": {},
   "outputs": [],
   "source": [
    "#Filter for duplicated subjects. Here just the same subj ID is most likely not sufficient (check those \"draws and so on \")\n",
    "print(len(concatinated_df['subject_accession'].unique()))\n",
    "concatinated_df_per_subject = concatinated_df.drop_duplicates(subset=['subject_accession'])\n",
    "concatinated_df_per_subject = concatinated_df_per_subject[~concatinated_df_per_subject['subject_accession'].str.endswith('Draw-2', na=False)]\n",
    "print(concatinated_df_per_subject.shape)\n"
   ]
  },
  {
   "cell_type": "code",
   "execution_count": null,
   "metadata": {},
   "outputs": [],
   "source": [
    "#NOTE: Healthy\n",
    "#TODO do we really lose 25 subjects for nan values in age and gender ?\n",
    "concatinated_df_per_subject_healthy = concatinated_df_per_subject[concatinated_df_per_subject['desease'] == 'Healthy']\n",
    "print(concatinated_df_per_subject_healthy.shape)\n",
    "concatinated_df_per_subject_healthy = concatinated_df_per_subject_healthy.dropna(subset=['age', 'gender', 'desease'])\n",
    "print(concatinated_df_per_subject_healthy.shape)\n",
    "concatinated_df_per_subject_healthy\n",
    "violinplot_overall(concatinated_df_per_subject_healthy, 'gender', 'age', hue_split='gender')"
   ]
  },
  {
   "cell_type": "code",
   "execution_count": null,
   "metadata": {},
   "outputs": [],
   "source": [
    "concatinated_df_per_subject[concatinated_df_per_subject['age']<0]"
   ]
  },
  {
   "cell_type": "code",
   "execution_count": null,
   "metadata": {},
   "outputs": [],
   "source": [
    "#NOTE: Sars-CoV-2\n",
    "#TODO do we really lose 25 subjects for nan values in age and gender ?\n",
    "concatinated_df_per_subject_covid = concatinated_df_per_subject[concatinated_df_per_subject['desease'] == 'Sars-CoV-2']\n",
    "print(concatinated_df_per_subject_covid.shape)\n",
    "concatinated_df_per_subject_covid = concatinated_df_per_subject_covid.dropna(subset=['age', 'gender', 'desease'])\n",
    "print(concatinated_df_per_subject_covid.shape)\n",
    "concatinated_df_per_subject_covid\n",
    "violinplot_overall(concatinated_df_per_subject_covid, 'gender', 'age', hue_split='gender')"
   ]
  },
  {
   "cell_type": "code",
   "execution_count": null,
   "metadata": {},
   "outputs": [],
   "source": []
  },
  {
   "cell_type": "code",
   "execution_count": null,
   "metadata": {},
   "outputs": [],
   "source": []
  },
  {
   "cell_type": "markdown",
   "metadata": {},
   "source": [
    "### GTEx database"
   ]
  },
  {
   "cell_type": "code",
   "execution_count": null,
   "metadata": {},
   "outputs": [],
   "source": [
    "\n",
    "\n",
    "def read_gct(file_path):\n",
    "    with open(file_path, 'r') as file:\n",
    "        # Skip the first two lines of metadata\n",
    "        version = file.readline().strip()\n",
    "        dimensions = file.readline().strip()\n",
    "        \n",
    "        # Read the rest of the file into a DataFrame\n",
    "        df = pd.read_csv(file, sep='\\t')\n",
    "    \n",
    "    return version, dimensions, df\n",
    "\n",
    "df = read_gct(\"/home/eliasschreiner/PROJEKT/GTEx_Analysis_2016-01-15_v7_RNASeQCv1.1.8_gene_reads.gct\")\n",
    "#print(df.shape)\n"
   ]
  },
  {
   "cell_type": "code",
   "execution_count": null,
   "metadata": {},
   "outputs": [],
   "source": [
    "df[2].shape\n",
    "GTEx_df = df[2].T\n",
    "print(GTEx_df.shape)\n",
    "GTEx_df.head()"
   ]
  },
  {
   "cell_type": "code",
   "execution_count": null,
   "metadata": {},
   "outputs": [],
   "source": [
    "'''As metadata we get sth like this: \n",
    "SUBJID\tSEX\tAGE\tDTHHRDY\n",
    "GTEX-1117F\t2\t60-69\t4\n",
    "GTEX-111CU\t1\t50-59\t0\n",
    "GTEX-111FC\t1\t60-69\t1\n",
    "GTEX-111VG\t1\t60-69\t3\n",
    "GTEX-111YS\t1\t60-69\t0\n",
    "GTEX-1122O\t2\t60-69\t0\n",
    "GTEX-1128S\t2\t60-69\t2 '''"
   ]
  },
  {
   "cell_type": "markdown",
   "metadata": {},
   "source": [
    "### Unify the different valuee "
   ]
  },
  {
   "cell_type": "code",
   "execution_count": null,
   "metadata": {},
   "outputs": [],
   "source": [
    "mapping = {\n",
    "    'disease state: COVID-19': 'Sars-CoV-2',\n",
    "    'disease: COVID19': 'Sars-CoV-2',\n",
    "    'acute': 'Sars-CoV-2',\n",
    "    'acute-omicron': 'Sars-CoV-2',\n",
    "    'disease state: Healthy': 'Healthy',\n",
    "    'healthy': 'Healthy',\n",
    "    'disease: Healthy control': 'Healthy',\n",
    "    'Healthy': 'Healthy',\n",
    "}\n",
    "concatinated_df['desease'] = concatinated_df['desease'].replace(mapping)\n",
    "concatinated_df['desease'].unique()"
   ]
  },
  {
   "cell_type": "code",
   "execution_count": null,
   "metadata": {},
   "outputs": [],
   "source": [
    "mapping = {\n",
    "    'gender: F': 'Female',\n",
    "    'gender: M': 'Male',\n",
    "    'Sex: Male': 'Male',\n",
    "    'Sex: Female': 'Female',\n",
    "}\n",
    "concatinated_df['gender'] = concatinated_df['gender'].replace(mapping)\n",
    "concatinated_df['gender'].unique()\n"
   ]
  },
  {
   "cell_type": "code",
   "execution_count": null,
   "metadata": {},
   "outputs": [],
   "source": [
    "\n",
    "# Apply the function and convert column to float\n",
    "concatinated_df['age'] = concatinated_df['age'].apply(clean_age).astype(float)\n"
   ]
  },
  {
   "cell_type": "code",
   "execution_count": null,
   "metadata": {},
   "outputs": [],
   "source": []
  }
 ],
 "metadata": {
  "kernelspec": {
   "display_name": "merge_env",
   "language": "python",
   "name": "python3"
  },
  "language_info": {
   "codemirror_mode": {
    "name": "ipython",
    "version": 3
   },
   "file_extension": ".py",
   "mimetype": "text/x-python",
   "name": "python",
   "nbconvert_exporter": "python",
   "pygments_lexer": "ipython3",
   "version": "3.11.5"
  }
 },
 "nbformat": 4,
 "nbformat_minor": 2
}

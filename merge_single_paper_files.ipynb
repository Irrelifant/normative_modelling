{
 "cells": [
  {
   "cell_type": "markdown",
   "metadata": {},
   "source": [
    "### This is designed to merge the single papers together to assemble one bigger data-csv that we can at some point use for model training"
   ]
  },
  {
   "cell_type": "markdown",
   "metadata": {},
   "source": [
    "# General Notes: \n",
    "- To execute the notebook, you frist need to produce the .csv from the underlying papers\n",
    "- I try to convert and select for ENSG gene rows as we got  datasets from Flo with 60k entries which most probably will be me mayjority\n"
   ]
  },
  {
   "cell_type": "code",
   "execution_count": null,
   "metadata": {},
   "outputs": [],
   "source": [
    "%load_ext autoreload\n",
    "%autoreload 2\n",
    "\n",
    "import pandas as pd\n",
    "import numpy as np \n",
    "import matplotlib.pyplot as plt\n",
    "import seaborn as sns\n",
    "import os\n",
    "import sys\n",
    "from scipy.io import mmread\n",
    "from utils.helper import manhattanplot, violinplot_overall, scatter_plot, get_negative_values, METADATA_COLS, reorder_columns_by_metadata_and_gene_counts, convert_gene_names_to_ensembl\n",
    "from filepath import *"
   ]
  },
  {
   "cell_type": "code",
   "execution_count": null,
   "metadata": {},
   "outputs": [],
   "source": [
    "### Wimmers 2023 (NOT INCLUDED)\n",
    "#NOTE This is 1 of 2 Datasets from this paper. \n",
    "#NOTE Also this datasets should be clarified with Flo first. It´s PBMC but not clear from whom ? (maybe GSE239799 ??? but also different)\n",
    "wimmers_2_df = pd.read_csv(PATH_WIMMER2023)\n",
    "print(wimmers_2_df.shape)\n",
    "wimmers_2_df.head()\n",
    "PLATFORM_GEO_ID_wimmers_23 = \"GPL24676\"\n",
    "PLATFORM_DESCRIPTION_wimmers_23 = \"Illumina NovaSeq 6000 (Homo sapiens)\"\n",
    "METHOD_wimmers_23 = \"RNAseq\"\n",
    "#TODO in the data itself PBMC is mentioned but https://www.ncbi.nlm.nih.gov/geo/query/acc.cgi?acc=GSE239787 it is whole blood \n",
    "TYPE_wimmers_23 = \"blood\"\n",
    "study_accession_wimmers_23 = \"???\"\n",
    "desease_wimmers_23 = \"SARS-CoV-2 / healthy\""
   ]
  },
  {
   "cell_type": "code",
   "execution_count": null,
   "metadata": {},
   "outputs": [],
   "source": [
    "### Wimmers 2023 \n",
    "#NOTE This is 2 of 2 Datasets from this paper. \n",
    "wimmers_GEO239787_df = pd.read_csv(PATH_WIMMER2023, index_col=0)\n",
    "print(wimmers_GEO239787_df.shape)\n",
    "wimmers_GEO239787_df = wimmers_GEO239787_df.rename(columns={\n",
    "  'ID':'subject_accession', \n",
    "  'geo_accession':'data_accession',\n",
    "  'characteristics_ch1.4':'age',\n",
    "  'characteristics_ch1.3':'gender',\n",
    "  'Status':'desease', \n",
    "  'contact_city':'origin',\n",
    "  'library_strategy':'METHOD', \n",
    "  'source_name_ch1':'TYPE',\n",
    "  'platform_id':'PLATFORM_GEO_ID',\n",
    "  'instrument_model':'PLATFORM_DESCRIPTION',\n",
    "})\n",
    "wimmers_GEO239787_df['study_accession']='GSE239787'\n",
    "wimmers_GEO239787_df['origin']='Contact City: Palo Alto'\n",
    "wimmers_GEO239787_df['age']=wimmers_GEO239787_df['age'].str.replace('age, months: ', '').astype(float)\n",
    "wimmers_GEO239787_df['age']=wimmers_GEO239787_df['age']/12\n",
    "\n",
    "wimmers_GEO239787_df_reduced = reorder_columns_by_metadata_and_gene_counts(wimmers_GEO239787_df)\n",
    "\n",
    "print(wimmers_GEO239787_df_reduced.shape)\n",
    "wimmers_GEO239787_df_reduced.tail()"
   ]
  },
  {
   "cell_type": "code",
   "execution_count": null,
   "metadata": {},
   "outputs": [],
   "source": [
    "# 2020 Arunachalam, Wimmers\n",
    "#NOTE migh had some issues in the prep df file, but the GEO actually did a good job \n",
    "#NOTE I can probably add 4 more subjects but want to clarify with flo first\n",
    "aranachalam_2020_GSE152418_df = pd.read_csv(PATH_ARUNACHALAM2020_FINALDESTINATION, index_col=0)\n",
    "print(aranachalam_2020_GSE152418_df.shape)\n",
    "aranachalam_2020_GSE152418_df = aranachalam_2020_GSE152418_df.rename(columns={\n",
    "  'title':'subject_accession', \n",
    "  'geo_accession':'data_accession',\n",
    "  'Age':'age',\n",
    "  'characteristics_ch1.2':'gender',\n",
    "  'characteristics_ch1.3':'desease', \n",
    "  'contact_city':'origin',\n",
    "  'library_strategy':'METHOD', \n",
    "  'source_name_ch1':'TYPE',\n",
    "  'instrument_model':'PLATFORM_DESCRIPTION',\n",
    "  'platform_id':'PLATFORM_GEO_ID',\n",
    "})\n",
    "aranachalam_2020_GSE152418_df['study_accession'] = 'GSE152418'\n",
    "aranachalam_2020_GSE152418_df = reorder_columns_by_metadata_and_gene_counts(aranachalam_2020_GSE152418_df)\n",
    "print(aranachalam_2020_GSE152418_df.shape)\n",
    "aranachalam_2020_GSE152418_df.head()"
   ]
  },
  {
   "cell_type": "code",
   "execution_count": null,
   "metadata": {},
   "outputs": [],
   "source": [
    "# 2021 Thair COVID \n",
    "# NOTE \n",
    "\n",
    "thair_2021_GSE152641_df = pd.read_csv(PATH_THAIR2021, low_memory=False, index_col=0)\n",
    "print(thair_2021_GSE152641_df.shape)\n",
    "thair_2021_GSE152641_df = thair_2021_GSE152641_df.rename(columns={\n",
    "  'title':'subject_accession', \n",
    "    'geo_accession':'data_accession',\n",
    "    'characteristics_ch1.3':'age',\n",
    "    'characteristics_ch1.4':'gender',\n",
    "    'characteristics_ch1':'desease',\n",
    "  'contact_city':'origin',\n",
    "  'library_strategy':'METHOD',\n",
    "  'characteristics_ch1.2':'TYPE',\n",
    "  'instrument_model':'PLATFORM_DESCRIPTION',\n",
    "  'platform_id':'PLATFORM_GEO_ID',\n",
    "})\n",
    "thair_2021_GSE152641_df['study_accession'] ='GSE152641'\n",
    "thair_2021_GSE152641_ordered_df = reorder_columns_by_metadata_and_gene_counts(thair_2021_GSE152641_df)\n",
    "print(thair_2021_GSE152641_ordered_df.shape)\n",
    "thair_2021_GSE152641_ordered_df.head()"
   ]
  },
  {
   "cell_type": "code",
   "execution_count": null,
   "metadata": {},
   "outputs": [],
   "source": [
    "# 2021 Aranachalam VACCINE\n",
    "#NOTE Had to convert Gene names to ENSEMBL which sometimes results in a not found version -> Flo how to handle \n",
    "#NOTE Vaccine study, i just took the Baseline (blood before the vaccine was given)\n",
    "\n",
    "import copy\n",
    "\n",
    "aranachalam_2021_GSE169159_df = pd.read_csv(PATH_ARANACHALAM2021)\n",
    "print(aranachalam_2021_GSE169159_df.shape)\n",
    "aranachalam_2021_GSE169159_df = aranachalam_2021_GSE169159_df.rename(columns={\n",
    "  'title':'subject_accession', \n",
    "  'geo_accession':'data_accession',\n",
    "  'age':'age',\n",
    "    'sex':'gender',\n",
    "  'contact_city':'origin',\n",
    "  'library_strategy':'METHOD',\n",
    "  'source_name_ch1':'TYPE',\n",
    "  'instrument_model':'PLATFORM_DESCRIPTION',\n",
    "  'platform_id':'PLATFORM_GEO_ID',\n",
    "})\n",
    "aranachalam_2021_GSE169159_df['desease']='Healthy'\n",
    "aranachalam_2021_GSE169159_df['study_accession']='GSE169159'\n",
    "\n",
    "## This is weird as the overwrite of a subset of columns of a dataframe seems not to work. I tried stuff in different patterns here\n",
    "print(f\"First gene: {aranachalam_2021_GSE169159_df.columns.get_loc('FGR')}\")\n",
    "gene_names_to_convert = aranachalam_2021_GSE169159_df.iloc[:, 38:-2].copy().columns\n",
    "aranachalam_2021_GSE169159_ordered_df = reorder_columns_by_metadata_and_gene_counts(aranachalam_2021_GSE169159_df, \n",
    "                                                                                    metadata_cols=METADATA_COLS,\n",
    "                                                                                    gene_columns=gene_names_to_convert)\n",
    "print(f\"First gene: {aranachalam_2021_GSE169159_ordered_df.columns.get_loc('FGR')}\")\n",
    "converted_gene_names = convert_gene_names_to_ensembl(aranachalam_2021_GSE169159_ordered_df.iloc[:, 11:].copy().columns)\n",
    "\n",
    "# Now i want to overwrite every column of the dataset (also i dont need to use loc or iloc)\n",
    "all_dataset_new_columns = METADATA_COLS + converted_gene_names\n",
    "aranachalam_2021_GSE169159_ordered_df.columns = all_dataset_new_columns\n",
    "\n",
    "print(aranachalam_2021_GSE169159_ordered_df.columns[60])\n",
    "print(converted_gene_names[49]) # as i need to add the meta cols ... \n",
    "\n",
    "print(aranachalam_2021_GSE169159_ordered_df.shape)\n",
    "aranachalam_2021_GSE169159_ordered_df.tail()"
   ]
  },
  {
   "cell_type": "code",
   "execution_count": null,
   "metadata": {},
   "outputs": [],
   "source": []
  },
  {
   "cell_type": "markdown",
   "metadata": {},
   "source": [
    "### Concat together"
   ]
  },
  {
   "cell_type": "markdown",
   "metadata": {},
   "source": [
    "This will contain unprocessed concatinated file with raw counts from rna seq. \n",
    "### TODO´s:\n",
    "- preprocessing\n",
    "- unify entries for everything\n",
    "- NA and NAN in gene counts \n",
    "- douplicates (as there will also be longitudinal data) (check for \"draw as well\")\n"
   ]
  },
  {
   "cell_type": "code",
   "execution_count": null,
   "metadata": {},
   "outputs": [],
   "source": [
    "concatinated_df = pd.concat([aranachalam_2020_GSE152418_df, \n",
    "                             wimmers_GEO239787_df_reduced, \n",
    "                             thair_2021_GSE152641_df, \n",
    "                             aranachalam_2021_GSE169159_ordered_df])\n",
    "print(concatinated_df.shape)\n",
    "concatinated_df.head()\n",
    "\n",
    "\n"
   ]
  },
  {
   "cell_type": "code",
   "execution_count": null,
   "metadata": {},
   "outputs": [],
   "source": []
  }
 ],
 "metadata": {
  "kernelspec": {
   "display_name": "merge_env",
   "language": "python",
   "name": "python3"
  },
  "language_info": {
   "codemirror_mode": {
    "name": "ipython",
    "version": 3
   },
   "file_extension": ".py",
   "mimetype": "text/x-python",
   "name": "python",
   "nbconvert_exporter": "python",
   "pygments_lexer": "ipython3",
   "version": "3.11.5"
  }
 },
 "nbformat": 4,
 "nbformat_minor": 2
}

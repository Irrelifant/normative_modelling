{
 "cells": [
  {
   "cell_type": "markdown",
   "metadata": {},
   "source": [
    "# Example of Data Preparation Using SDY4\n",
    "<i><font size=2 color=\"grey\">Version 1.0, last modified November 2017<br>\n",
    "Python 3.6<br>\n",
    "pandas 0.21.0<br>\n",
    "seaborn 0.8.1<br>\n",
    "matplotlib 2.1.0<br>\n",
    "</font></i> \n",
    "  \n",
    "This is a tutorial on using Python tools to prepare ImmPort study information for analysis. This tutorial should NOT be considered as a real scientific analysis, but is ONLY intended to show how be prepare data for real analysis. This tutorial will use SDY4 as the example study, but we will download all ALLSTUDIES package, to show\n",
    "how you can extract individual studies for analysis. If you are only interested in the analysis of one specific\n",
    "study, individual download packages are available.\n",
    "\n",
    "This tutorial concentrates on how to prepare the lab test and assessments information for analysis. The download\n",
    "packages contain many more types of data that you can explore. The data in the ALLSTUDIES package was extraced\n",
    "from a MySQL database and the content of each file in the ALLSTUDIES package contains the data from a table.\n",
    "An overview of the ImmPort data model is available [here](http://www.immport.org/immport-open/public/schema/schemaTree), the table definitions are available [here](http://www.immport.org/immport-open/public/schema/schemaDefinition/study), and the ER diagrams are available [here](http://www.immport.org/immport-open/public/schema/schemaDiagram/AllTables)\n",
    "\n",
    "\n",
    "For this analysis we will start by creating a top level directory named ALLSTUDIES. Below the ALLSTUDIES directory three directories where created: data, downloads and notebooks. The ALLSTUDIES_DR24_Tab.zip file was downloaded from the ImmPort Data Browser [web site](https://aspera-immport.niaid.nih.gov:9443) to the **downloads** directory.\n",
    "\n",
    "The following commands were used to unzip and move the contents to the **data** directory\n",
    "\n",
    "```shell\n",
    "cd downloads\n",
    "unzip ALLSTUDIES_DR24_Tab.zip\n",
    "cd ALLSTUDES-DR24_Tab/Tab\n",
    "mv * ../../../data\n",
    "```\n",
    "\n",
    "To start the Jupyter Notebook the following commands were used.\n",
    "\n",
    "```shell\n",
    "cd ../../../notebooks\n",
    "jupyter notebook\n",
    "```"
   ]
  },
  {
   "cell_type": "markdown",
   "metadata": {},
   "source": [
    "# Load in Python Modules\n",
    "\n",
    "Import the Python modules we will be using for analysis."
   ]
  },
  {
   "cell_type": "code",
   "execution_count": null,
   "metadata": {},
   "outputs": [],
   "source": [
    "%matplotlib inline\n",
    "import matplotlib.pyplot as plt\n",
    "import pandas as pd\n",
    "import seaborn as sns"
   ]
  },
  {
   "cell_type": "markdown",
   "metadata": {},
   "source": [
    "# Load Data from the ALLSTUDIES Package\n",
    "\n",
    "Preload all the data we will be using for the tutorial. For each file loaded into a DataFrame, the column names\n",
    "and the number of rows and columns for each table will be printed.\n",
    "\n",
    "## Load Study, ARM, Subject and Biosample\n",
    "\n",
    "In the ImmPort model a **study** can have one or more **arms_or_cohort** records, and a **subject** is \n",
    "assigned to **arm_or_cohort**. Read in the study, arm_or_cohort and arm_2_subject data, so we can build\n",
    "a mapping that includes the study_accession, arm_accession and subject_accession. We will use this information later to map **arm** to **assessment** and **lab_test** using the **subject_accession**.\n",
    "\n",
    "We will not use the **study** table for this but you may want to review the column names and content. If you\n",
    "want to make a quick review of the types of data available in any table, you can use the df.head() command\n",
    "to get a tabular view of the table, after using the pd.read_table command. The study.head() command should be\n",
    "the last line in a notebook cell, to get the table to display."
   ]
  },
  {
   "cell_type": "code",
   "execution_count": null,
   "metadata": {},
   "outputs": [],
   "source": [
    "print(\"STUDY\")\n",
    "print(\"============================================================\")\n",
    "study = pd.read_table(\"../data/study.txt\",sep=\"\\t\")\n",
    "print(study.columns)\n",
    "print(study.shape)\n",
    "# study.head()\n",
    "\n",
    "print(\"\")\n",
    "print(\"ARM_OR_COHORT\")\n",
    "print(\"============================================================\")\n",
    "arm_or_cohort = pd.read_table(\"../data/arm_or_cohort.txt\",sep=\"\\t\")\n",
    "print(arm_or_cohort.columns)\n",
    "print(arm_or_cohort.shape)\n",
    "# arm_or_cohort.head()\n",
    "\n",
    "print(\"\")\n",
    "print(\"ARM_2_SUBJECT\")\n",
    "print(\"============================================================\")\n",
    "arm_2_subject = pd.read_table(\"../data/arm_2_subject.txt\",sep=\"\\t\")\n",
    "print(arm_2_subject.columns)\n",
    "print(arm_2_subject.shape)\n",
    "\n",
    "# arm_2_subject.head()\n",
    "\n",
    "print(\"\")\n",
    "print(\"BIOSAMPLE\")\n",
    "print(\"============================================================\")\n",
    "biosample = pd.read_table(\"../data/biosample.txt\",sep=\"\\t\")\n",
    "print(biosample.columns)\n",
    "print(biosample.shape)"
   ]
  },
  {
   "cell_type": "code",
   "execution_count": null,
   "metadata": {},
   "outputs": [],
   "source": [
    "arm_or_cohort_short = arm_or_cohort[['STUDY_ACCESSION','ARM_ACCESSION']]\n",
    "study_arm_subject = pd.merge(arm_or_cohort_short,arm_2_subject,left_on='ARM_ACCESSION',right_on='ARM_ACCESSION')\n",
    "# Uncomment to review contents\n",
    "# study_arm_subject.head()"
   ]
  },
  {
   "cell_type": "code",
   "execution_count": null,
   "metadata": {},
   "outputs": [],
   "source": [
    "study_arm_subject_mapping = study_arm_subject[['STUDY_ACCESSION','ARM_ACCESSION','SUBJECT_ACCESSION']]\n",
    "print(study_arm_subject_mapping.shape)\n",
    "study_arm_subject_mapping.head()"
   ]
  },
  {
   "cell_type": "code",
   "execution_count": null,
   "metadata": {},
   "outputs": [],
   "source": [
    "biosample_short = biosample[['STUDY_ACCESSION','BIOSAMPLE_ACCESSION','SUBJECT_ACCESSION',\n",
    "                            'PLANNED_VISIT_ACCESSION','STUDY_TIME_COLLECTED']]\n",
    "print(biosample_short.shape)\n",
    "biosample_short.head()"
   ]
  },
  {
   "cell_type": "markdown",
   "metadata": {},
   "source": [
    "# Load Assessment Data\n",
    "\n",
    "Assessment information is contained in 2 tables in the ImmPort data model. The **assessment_panel** is\n",
    "used to group individual **assessment_component** records into panels. To perform analysis it is useful\n",
    "to merge the information from these 2 tables into 1 DataFrame"
   ]
  },
  {
   "cell_type": "code",
   "execution_count": null,
   "metadata": {},
   "outputs": [],
   "source": [
    "print(\"ASSESSMENT_PANEL\")\n",
    "print(\"============================================================\")\n",
    "assessment_panel = pd.read_table(\"../data/assessment_panel.txt\",sep=\"\\t\")\n",
    "print(assessment_panel.columns)\n",
    "print(assessment_panel.shape)\n",
    "\n",
    "print(\"\")\n",
    "print(\"ASSESSMENT_COMPONENT\")\n",
    "print(\"============================================================\")\n",
    "assessment_component = pd.read_table(\"../data/assessment_component.txt\",sep=\"\\t\")\n",
    "print(assessment_component.columns)\n",
    "print(assessment_component.shape)"
   ]
  },
  {
   "cell_type": "markdown",
   "metadata": {},
   "source": [
    "## Clean and Merge Assessment_Panel and Assessment_Component"
   ]
  },
  {
   "cell_type": "code",
   "execution_count": null,
   "metadata": {},
   "outputs": [],
   "source": [
    "assessment_panel_short = assessment_panel[['ASSESSMENT_PANEL_ACCESSION','NAME_REPORTED','STUDY_ACCESSION']]\n",
    "assessment_panel_short = assessment_panel_short.rename(columns={'NAME_REPORTED': \"PANEL_NAME\"})\n",
    "# assessment_panel_short.head()"
   ]
  },
  {
   "cell_type": "code",
   "execution_count": null,
   "metadata": {},
   "outputs": [],
   "source": [
    "assessment_component_short = assessment_component[['ASSESSMENT_PANEL_ACCESSION','NAME_REPORTED',\n",
    "                                                     'PLANNED_VISIT_ACCESSION','RESULT_VALUE_REPORTED',\n",
    "                                                     'RESULT_UNIT_REPORTED','STUDY_DAY','SUBJECT_ACCESSION']]\n",
    "assessment_component_short = assessment_component_short.rename(columns={'NAME_REPORTED': \"COMPONENT_NAME\"})\n",
    "# assessment_component_short.head()"
   ]
  },
  {
   "cell_type": "code",
   "execution_count": null,
   "metadata": {},
   "outputs": [],
   "source": [
    "assessments = pd.merge(assessment_panel_short, assessment_component_short,\n",
    "                       left_on='ASSESSMENT_PANEL_ACCESSION', right_on='ASSESSMENT_PANEL_ACCESSION')\n",
    "print(assessments.shape)\n",
    "# assessments.head()"
   ]
  },
  {
   "cell_type": "markdown",
   "metadata": {},
   "source": [
    "## Merge ARM information into assessements\n",
    "\n",
    "In this case we are using the smaller study_arm_subject_mapping DataFrame because we do not want to include additional information from the study_arm_subject DataFrame. But in many cases you may want to use the full\n",
    "study_arm_subject DataFrame, to include information like age at the time of the study or subject_phenotype, etc."
   ]
  },
  {
   "cell_type": "code",
   "execution_count": null,
   "metadata": {},
   "outputs": [],
   "source": [
    "assessments = pd.merge(assessments,study_arm_subject_mapping, left_on=['STUDY_ACCESSION','SUBJECT_ACCESSION'],\n",
    "                      right_on=['STUDY_ACCESSION','SUBJECT_ACCESSION'])\n",
    "print(assessments.shape)\n",
    "assessments.head()"
   ]
  },
  {
   "cell_type": "markdown",
   "metadata": {},
   "source": [
    "# Load Lab Test Data\n",
    "\n",
    "Lab test information is contained in 2 tables in the ImmPort data model. The **lab_test_panel** is used\n",
    "to group individual **lab_test** records into panels. To perform analysis it is useful to merge the \n",
    "information from these 2 tables into 1 DataFrame."
   ]
  },
  {
   "cell_type": "code",
   "execution_count": null,
   "metadata": {},
   "outputs": [],
   "source": [
    "print(\"LAB_TEST_PANEL\")\n",
    "print(\"============================================================\")\n",
    "lab_test_panel = pd.read_table(\"../data/lab_test_panel.txt\",sep=\"\\t\")\n",
    "print(lab_test_panel.columns)\n",
    "print(lab_test_panel.shape)\n",
    "\n",
    "print(\"\")\n",
    "print(\"LAB_TEST\")\n",
    "print(\"============================================================\")\n",
    "lab_test = pd.read_table(\"../data/lab_test.txt\",sep=\"\\t\")\n",
    "print(lab_test.columns)\n",
    "print(lab_test.shape)"
   ]
  },
  {
   "cell_type": "markdown",
   "metadata": {},
   "source": [
    "## Clean Lab_Test_Panel and Lab_Test"
   ]
  },
  {
   "cell_type": "code",
   "execution_count": null,
   "metadata": {},
   "outputs": [],
   "source": [
    "lab_test_panel_short = lab_test_panel[['LAB_TEST_PANEL_ACCESSION','NAME_REPORTED','STUDY_ACCESSION']]\n",
    "lab_test_panel_short = lab_test_panel_short.rename(columns={'NAME_REPORTED': 'PANEL_NAME'})\n",
    "#lab_test_panel_short.head()"
   ]
  },
  {
   "cell_type": "code",
   "execution_count": null,
   "metadata": {},
   "outputs": [],
   "source": [
    "lab_test_short = lab_test[['LAB_TEST_PANEL_ACCESSION','BIOSAMPLE_ACCESSION','NAME_REPORTED',\n",
    "                           'RESULT_VALUE_PREFERRED','RESULT_VALUE_REPORTED','RESULT_UNIT_REPORTED']]\n",
    "lab_test_short = lab_test_short = lab_test_short.rename(columns={'NAME_REPORTED': 'LAB_TEST_NAME'})\n",
    "#lab_test_short.head()"
   ]
  },
  {
   "cell_type": "code",
   "execution_count": null,
   "metadata": {},
   "outputs": [],
   "source": [
    "lab_tests = pd.merge(lab_test_panel_short,lab_test_short,\n",
    "                    left_on='LAB_TEST_PANEL_ACCESSION',right_on='LAB_TEST_PANEL_ACCESSION')\n",
    "print(lab_tests.shape)\n",
    "# lab_tests.head()"
   ]
  },
  {
   "cell_type": "markdown",
   "metadata": {},
   "source": [
    "## Merge Subject and ARM Information into LabTest"
   ]
  },
  {
   "cell_type": "code",
   "execution_count": null,
   "metadata": {},
   "outputs": [],
   "source": [
    "lab_tests = pd.merge(lab_tests,biosample_short, left_on=['STUDY_ACCESSION','BIOSAMPLE_ACCESSION'],\n",
    "                     right_on=['STUDY_ACCESSION','BIOSAMPLE_ACCESSION'])\n",
    "lab_tests = pd.merge(lab_tests,study_arm_subject_mapping, left_on=['STUDY_ACCESSION','SUBJECT_ACCESSION'],\n",
    "                    right_on=['STUDY_ACCESSION','SUBJECT_ACCESSION'])\n",
    "print(lab_test.shape)\n",
    "lab_tests.head()"
   ]
  },
  {
   "cell_type": "markdown",
   "metadata": {},
   "source": [
    "# Helper Methods\n",
    "\n",
    "The methods below can be used to explore the types of assessments or labtests that are available on a study basis.\n",
    "At the end of this section there are a few example of how to use these methods to explore study information.\n",
    "When looking at the results returned by these methods, you may want to adjust the options to control the\n",
    "number of rows to display, or the option to control column width, examples of how to set these options are in\n",
    "the code."
   ]
  },
  {
   "cell_type": "markdown",
   "metadata": {},
   "source": [
    "## Method to Find Assessments for a Study"
   ]
  },
  {
   "cell_type": "code",
   "execution_count": null,
   "metadata": {},
   "outputs": [],
   "source": [
    "def assessment_panels_by_study(study_accession,assessments):\n",
    "    study_assessments = assessments[assessments['STUDY_ACCESSION']==study_accession]\n",
    "    study_panels = study_assessments[['PANEL_NAME','COMPONENT_NAME']]\n",
    "    study_panels = study_panels.groupby(['PANEL_NAME','COMPONENT_NAME']).size().reset_index(name=\"COUNTS\")\n",
    "    return study_panels"
   ]
  },
  {
   "cell_type": "markdown",
   "metadata": {},
   "source": [
    "## Method to Find Labtests for a Study"
   ]
  },
  {
   "cell_type": "code",
   "execution_count": null,
   "metadata": {},
   "outputs": [],
   "source": [
    "def lab_test_panels_by_study(study_accession,lab_tests):\n",
    "    study_lab_tests = lab_tests[lab_tests['STUDY_ACCESSION']==study_accession]\n",
    "    study_panels = study_lab_tests[['PANEL_NAME','LAB_TEST_NAME']]\n",
    "    study_panels = study_panels.groupby(['PANEL_NAME','LAB_TEST_NAME']).size().reset_index(name=\"COUNTS\")\n",
    "    return study_panels"
   ]
  },
  {
   "cell_type": "markdown",
   "metadata": {},
   "source": [
    "## Examples of using the methods\n",
    "\n",
    "For these examples, the maximum number of rows will be set to 10 and the maximum column width will\n",
    "be set to 100. Set the max_rows option to see more of the information. The value passed into the df.head()\n",
    "method should also be increased. At the end of the section,these options will be reset to their default values."
   ]
  },
  {
   "cell_type": "code",
   "execution_count": null,
   "metadata": {},
   "outputs": [],
   "source": [
    "pd.set_option(\"display.max_rows\",10)\n",
    "pd.set_option(\"display.max_colwidth\",100)"
   ]
  },
  {
   "cell_type": "code",
   "execution_count": null,
   "metadata": {},
   "outputs": [],
   "source": [
    "# Show SDY4 ??\n",
    "assessment_panels = assessment_panels_by_study('SDY4',assessments)\n",
    "print(assessment_panels.shape)\n",
    "assessment_panels.head(10)"
   ]
  },
  {
   "cell_type": "code",
   "execution_count": null,
   "metadata": {},
   "outputs": [],
   "source": [
    "labtest_panels = lab_test_panels_by_study('SDY4',lab_tests)\n",
    "print(labtest_panels.shape)\n",
    "labtest_panels.head(10)"
   ]
  },
  {
   "cell_type": "code",
   "execution_count": null,
   "metadata": {},
   "outputs": [],
   "source": [
    "pd.reset_option(\"display.max_rows\")\n",
    "pd.reset_option(\"display.max_colwidth\")"
   ]
  },
  {
   "cell_type": "markdown",
   "metadata": {},
   "source": [
    "# Long and Narrow vs Short and Wide\n",
    "\n",
    "The information in the **assessments** and **labtests** DataFrame is in a format sometimes referred to as Long and Narrow, this means each row contains one row for each subject and value, but in order to do analysis we would like to **pivot** the data based on columns like **subject_accession**, **study_time_collected**, etc. so the data is in  more of a tabluar format, much like an Excel spreadsheet.\n",
    "\n",
    "If you Google terms like \"pivot tables python\", \"reshape data long to wide\", or \"long vs wide format\", there\n",
    "are plenty of examples what this means with respect to data analysis.\n",
    "\n",
    "So for the next part of this tutorial, we will show examples of pivoting the original DataFrame into the wide\n",
    "format. There are many different ways to arrive at the final wide format and these are only examples of a few\n",
    "methods.\n",
    "\n",
    "# Treatment of Null Values\n",
    "\n",
    "How you treat null values in a data set varies widely and depends on your final analysis goals. For this tutorial\n",
    "we will gloss over the problem of nulls, so these are NOT good examples of how to handle null values."
   ]
  },
  {
   "cell_type": "markdown",
   "metadata": {},
   "source": [
    "# Example Preparing CBC_Results for SDY4\n",
    "\n",
    "## Extract CBC Results for SDY4"
   ]
  },
  {
   "cell_type": "code",
   "execution_count": null,
   "metadata": {},
   "outputs": [],
   "source": [
    "SDY4_CBC_Results = lab_tests[(lab_tests['STUDY_ACCESSION'] == 'SDY4') &\n",
    "                             (lab_tests['PANEL_NAME'] == 'CBC_Results')]\n",
    "print(SDY4_CBC_Results.columns)\n",
    "print(SDY4_CBC_Results.shape)\n",
    "SDY4_CBC_Results = SDY4_CBC_Results.reset_index(drop=True)\n",
    "SDY4_CBC_Results.head(10)"
   ]
  },
  {
   "cell_type": "markdown",
   "metadata": {},
   "source": [
    "## Review Results\n",
    "\n",
    "The code below was used to identify that all the results were captured for a single time point, show the \n",
    "distribution of results by ARM, and preliminarly check that each subject has the same number of lab tests.\n",
    "\n",
    "The results below indicate the data makes sense. If you look at the number of each subject in each Arm the\n",
    "counts per Arm look okay.\n",
    "\n",
    "| ARM | Name | Subject | Description |\n",
    "| --- | ---- | ------- | ----------- |\n",
    "| ARM241 | AD+ Acute EH+HSV+ | 21 | AD Subjects with acute Eczema Herpeticum and recurrent herpes simplex virus to follow-up 4-12 weeks after baseline. |\n",
    "| ARM242 | AD+ with history of EH+ HSV+ | 31 | AD Subjects with history of Eczema Herpeticum and recurrent herpes simplex virus. |\n",
    "| ARM243 | AD+ EH- HSV+\t| 61 | AD Subjects without Eczema Herpeticum but with recurrent herpes simplex virus. |\n",
    "| ARM244 | AD+ EH- HSV- | 61 | AD Subjects with no history of Eczema Herpeticum and no recurrent herpes simplex virus. |\n",
    "| ARM245 | Healthy controls | 61 | Non-AD (healthy volunteers). |"
   ]
  },
  {
   "cell_type": "code",
   "execution_count": null,
   "metadata": {},
   "outputs": [],
   "source": [
    "print(SDY4_CBC_Results['STUDY_TIME_COLLECTED'].value_counts())\n",
    "print(SDY4_CBC_Results['ARM_ACCESSION'].value_counts())\n",
    "# print(SDY4_CBC_Results['SUBJECT_ACCESSION'].value_counts())"
   ]
  },
  {
   "cell_type": "markdown",
   "metadata": {},
   "source": [
    "## Look for Null's, Check Column DataType\n",
    "\n",
    "For this example we will be using the RESULT_VALUE_PREFERRED column, so first we check for nulls and we \n",
    "want to make sure the column contains Float values."
   ]
  },
  {
   "cell_type": "code",
   "execution_count": null,
   "metadata": {},
   "outputs": [],
   "source": [
    "print(\"Number of Rows with Null values\")\n",
    "print(\"===============================\")\n",
    "print(SDY4_CBC_Results['RESULT_VALUE_PREFERRED'].isnull().sum())\n",
    "print(\"\")\n",
    "print(\"DataType of the column\")\n",
    "print(\"===============================\")\n",
    "print(SDY4_CBC_Results['RESULT_VALUE_PREFERRED'].dtype)"
   ]
  },
  {
   "cell_type": "markdown",
   "metadata": {},
   "source": [
    "## Treament of Null Value\n",
    "\n",
    "Based on our data exploration above we noticed one row where the RESULT_VALUE_PREFERRED was NaN. In ImmPort the\n",
    "RESULT_VALUE_PREFFERED column is populated by transforming the RESULT_VALUE_REPORTED column into the proper\n",
    "data type. In this case (refer to row below), it looks like the RESULT_VALUE_REPORTED was not entered properly, so the RESULT_VALUE_PREFERRED could not be populated.\n",
    "\n",
    "To assign the missing value, we will take the mean of all the other rows for this ARM and LAB_TEST. Then assign\n",
    "this value to the missing value. Remember this may not be to correct way to assign this missing value, it is\n",
    "only one way to handle the missing value."
   ]
  },
  {
   "cell_type": "code",
   "execution_count": null,
   "metadata": {},
   "outputs": [],
   "source": [
    "SDY4_CBC_Results[SDY4_CBC_Results['RESULT_VALUE_PREFERRED'].isnull()]"
   ]
  },
  {
   "cell_type": "code",
   "execution_count": null,
   "metadata": {},
   "outputs": [],
   "source": [
    "SDY4_CBC_Results.iloc[5376,:]"
   ]
  },
  {
   "cell_type": "code",
   "execution_count": null,
   "metadata": {},
   "outputs": [],
   "source": [
    "mean_value = SDY4_CBC_Results[(SDY4_CBC_Results['ARM_ACCESSION']=='ARM245') &\n",
    "            (SDY4_CBC_Results['LAB_TEST_NAME']=='CD19 positive cells')]['RESULT_VALUE_PREFERRED'].mean()\n",
    "mean_value"
   ]
  },
  {
   "cell_type": "code",
   "execution_count": null,
   "metadata": {},
   "outputs": [],
   "source": [
    "SDY4_CBC_Results.loc[5376,'RESULT_VALUE_PREFERRED'] = 186.0"
   ]
  },
  {
   "cell_type": "code",
   "execution_count": null,
   "metadata": {},
   "outputs": [],
   "source": [
    "SDY4_CBC_Results.iloc[5376,:]"
   ]
  },
  {
   "cell_type": "code",
   "execution_count": null,
   "metadata": {},
   "outputs": [],
   "source": [
    "SDY4_CBC_Results[SDY4_CBC_Results['RESULT_VALUE_PREFERRED'].isnull()]"
   ]
  },
  {
   "cell_type": "markdown",
   "metadata": {},
   "source": [
    "## Convert from Long/Narrow to Short Wide"
   ]
  },
  {
   "cell_type": "code",
   "execution_count": null,
   "metadata": {},
   "outputs": [],
   "source": [
    "XX = SDY4_CBC_Results[['SUBJECT_ACCESSION','ARM_ACCESSION','LAB_TEST_NAME',\n",
    "                                          'RESULT_VALUE_PREFERRED']]\n",
    "XXX = XX.set_index(['SUBJECT_ACCESSION','ARM_ACCESSION']).copy()\n",
    "SDY4_CBC_Results_wide = XXX.pivot(columns='LAB_TEST_NAME')\n",
    "SDY4_CBC_Results_wide.head()"
   ]
  },
  {
   "cell_type": "code",
   "execution_count": null,
   "metadata": {},
   "outputs": [],
   "source": [
    "SDY4_CBC_Results_flat = SDY4_CBC_Results_wide.reset_index()\n",
    "column_names = list(SDY4_CBC_Results_flat.columns.droplevel(0))\n",
    "column_names[0] = 'Subject'\n",
    "column_names[1] = 'ARM'\n",
    "SDY4_CBC_Results_flat.columns = column_names\n",
    "SDY4_CBC_Results_flat.head()"
   ]
  },
  {
   "cell_type": "code",
   "execution_count": null,
   "metadata": {},
   "outputs": [],
   "source": [
    "SDY4_CBC_Results_flat.groupby('ARM')['CD19 positive cells percentage'].mean()"
   ]
  },
  {
   "cell_type": "code",
   "execution_count": null,
   "metadata": {},
   "outputs": [],
   "source": [
    "CBC_Means = pd.DataFrame(index=['ARM241','ARM242','ARM243','ARM244','ARM245'])\n",
    "for column_name in SDY4_CBC_Results_flat.columns[2:]:\n",
    "    CBC_Means[column_name] = SDY4_CBC_Results_flat.groupby('ARM')[column_name].mean()\n",
    "CBC_Means.head()"
   ]
  },
  {
   "cell_type": "code",
   "execution_count": null,
   "metadata": {},
   "outputs": [],
   "source": [
    "sns.boxplot(x='ARM',y='CD19 positive cells percentage',data=SDY4_CBC_Results_flat);"
   ]
  },
  {
   "cell_type": "code",
   "execution_count": null,
   "metadata": {},
   "outputs": [],
   "source": [
    "sns.boxplot(x='ARM',y='CD16 positive/CD56 positive',data=SDY4_CBC_Results_flat);"
   ]
  },
  {
   "cell_type": "code",
   "execution_count": null,
   "metadata": {},
   "outputs": [],
   "source": [
    "for column_name in SDY4_CBC_Results_flat.columns[2:]:\n",
    "    plt.figure()\n",
    "    sns.boxplot(x='ARM',y=column_name,data=SDY4_CBC_Results_flat);"
   ]
  }
 ],
 "metadata": {
  "anaconda-cloud": {},
  "kernelspec": {
   "display_name": "Python [default]",
   "language": "python",
   "name": "python3"
  },
  "language_info": {
   "codemirror_mode": {
    "name": "ipython",
    "version": 3
   },
   "file_extension": ".py",
   "mimetype": "text/x-python",
   "name": "python",
   "nbconvert_exporter": "python",
   "pygments_lexer": "ipython3",
   "version": "3.5.2"
  }
 },
 "nbformat": 4,
 "nbformat_minor": 2
}

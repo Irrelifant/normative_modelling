{
 "cells": [
  {
   "cell_type": "markdown",
   "metadata": {},
   "source": [
    "# here is load the merged .csv state and run analyses / plots to get more insight into the data"
   ]
  },
  {
   "cell_type": "code",
   "execution_count": null,
   "metadata": {},
   "outputs": [],
   "source": [
    "\n",
    "%matplotlib inline\n",
    "import matplotlib.pyplot as plt\n",
    "import numpy as np\n",
    "import pandas as pd\n",
    "import os\n",
    "import seaborn as sns\n",
    "from utils.helper import manhattanplot, violinplot_overall, scatter_plot, METADATA_COLS, get_negative_values\n"
   ]
  },
  {
   "cell_type": "code",
   "execution_count": null,
   "metadata": {},
   "outputs": [],
   "source": [
    "### Load datasets\n",
    "df_10k = pd.read_csv('10k_immu/combi_10k_common.csv', index_col=0)"
   ]
  },
  {
   "cell_type": "code",
   "execution_count": null,
   "metadata": {},
   "outputs": [],
   "source": [
    "print(df_10k.shape)\n",
    "df_10k['DUSP22']"
   ]
  },
  {
   "cell_type": "code",
   "execution_count": null,
   "metadata": {},
   "outputs": [],
   "source": [
    "## scatterplot für age sex usw für zehn random marker\n",
    "#### je per marray und rna seq\n",
    "#### nach verteilungen suchen \n",
    "\n",
    "#### z normalisierung  -> sarah code\n",
    "\n",
    "markers = [\n",
    "    'DUSP22',\n",
    "    'RPS28',\n",
    "    'IPO13',\n",
    "    'AFAP1',\n",
    "    'CDT1',\n",
    "    'TRPV1',\n",
    "    'LPP',\n",
    "    'CCNE2',\n",
    "    'HNRNPAB',\n",
    "    'SNIP1',\n",
    "           ]\n",
    "\n",
    "def scatter_plot(df, x_ID='DUSP22', y_ID='age', hue_ID='study_accession'):\n",
    "    plot = sns.jointplot(x=x_ID, y=y_ID, data=df, kind='scatter', hue=hue_ID)\n",
    "    \n",
    "    plot.ax_joint.legend_.remove()\n",
    "\n",
    "    #plot.ax_joint.scatter(df[x_ID], df[y_ID], c=df['study_accession'])\n",
    "    plt.xlabel(f'{x_ID}')\n",
    "    plt.ylabel(f'{y_ID}')\n",
    "   # plt.title(f'{x_ID} - {y_ID}')\n",
    "    plt.show()\n",
    "    \n",
    "    \n",
    "##### COMBI DF\n",
    "#     scatter_plot(combi_df_whole_blood_reduced, x_ID=marker, y_ID='age')#\n",
    "print('######################################################################################################')\n",
    "print('Combi')\n",
    "print('######################################################################################################')\n",
    "#for marker in markers:\n",
    "    #violinplot_overall(df=combi_df_whole_blood_reduced, x_topic=marker, y_topic='gender', hue_split='gender')\n",
    "    #scatter_plot(combi_df_whole_blood_reduced, x_ID='age', y_ID=marker)\n",
    "\n",
    "### MARRAY\n",
    "print('######################################################################################################')\n",
    "print('MARRAY')\n",
    "print('######################################################################################################')\n",
    "\n",
    "#for marker in markers:\n",
    "    #violinplot_overall(df=marray_whole_blood, x_topic=marker, y_topic='gender', hue_split='gender')\n",
    "    #scatter_plot(marray_whole_blood, x_ID='age', y_ID=marker)\n",
    "\n",
    "### RNAseq\n",
    "print('######################################################################################################')\n",
    "print('RNAseq')\n",
    "print('######################################################################################################')\n",
    "\n",
    "for marker in markers:\n",
    "    #violinplot_overall(df=rna_seq_whole_blood_T_w_meta, x_topic=marker, y_topic='gender', hue_split='gender')\n",
    "    scatter_plot(df_10k, x_ID='age', y_ID=marker)"
   ]
  },
  {
   "cell_type": "code",
   "execution_count": null,
   "metadata": {},
   "outputs": [],
   "source": []
  }
 ],
 "metadata": {
  "kernelspec": {
   "display_name": "merge_env",
   "language": "python",
   "name": "python3"
  },
  "language_info": {
   "codemirror_mode": {
    "name": "ipython",
    "version": 3
   },
   "file_extension": ".py",
   "mimetype": "text/x-python",
   "name": "python",
   "nbconvert_exporter": "python",
   "pygments_lexer": "ipython3",
   "version": "3.12.1"
  }
 },
 "nbformat": 4,
 "nbformat_minor": 2
}

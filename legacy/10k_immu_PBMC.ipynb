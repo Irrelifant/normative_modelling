{
 "cells": [
  {
   "cell_type": "markdown",
   "metadata": {},
   "source": [
    "## 10k immu PBMC\n",
    "\n",
    "To increase the amount of data i wil also add the PBMC sets. Most is copy paste from the whole_blood set\n",
    "\n",
    "Open TODOs:\n",
    "- check if microarray and PBMC is mergeable:\n",
    "    - Flo emails\n",
    "    - online research \n",
    "    - write down preproc pipeline from 10k \n",
    "    - compare manhattans\n",
    "- add study_accession information, (add platform ... ) \n",
    "- clean up whole folder structure\n"
   ]
  },
  {
   "cell_type": "code",
   "execution_count": null,
   "metadata": {},
   "outputs": [],
   "source": [
    "%matplotlib inline\n",
    "import matplotlib.pyplot as plt\n",
    "import numpy as np\n",
    "import pandas as pd\n",
    "import os\n",
    "import seaborn as sns\n",
    "from utils.helper import violinplot_overall, scatter_plot, manhattanplot, get_negative_values, METADATA_COLS\n"
   ]
  },
  {
   "cell_type": "code",
   "execution_count": null,
   "metadata": {},
   "outputs": [],
   "source": [
    "ten_k_prefix=\"/var/datasets/10kImmunomes/transcriptomics/\"\n",
    "print(\"\\n###########################################################\")\n",
    "print(\"rna_seq_pbmc\")\n",
    "print(\"============================================================\")\n",
    "rna_seq_pbmc = pd.read_csv(f\"{ten_k_prefix}/pbmc_rna_counts.csv\",sep=\",\")\n",
    "print(rna_seq_pbmc.columns)\n",
    "print(rna_seq_pbmc.shape)\n",
    "\n",
    "\n",
    "print(\"\\n###########################################################\")\n",
    "print(\"marray_pbmc\")\n",
    "print(\"============================================================\")\n",
    "marray_pbmc = pd.read_csv(f\"{ten_k_prefix}/gene_pbmc_formatted.csv\",sep=\",\")\n",
    "print(marray_pbmc.columns)\n",
    "print(marray_pbmc.shape)\n"
   ]
  },
  {
   "cell_type": "markdown",
   "metadata": {},
   "source": [
    "### Microarray PBMC\n",
    "\n",
    "Exact same method as Whole blood: copy paste"
   ]
  },
  {
   "cell_type": "code",
   "execution_count": null,
   "metadata": {},
   "outputs": [],
   "source": [
    "####Microarray Data: Gene expression array data were obtained in three formats.\n",
    "# Data in their original formats (.CEL files, series matrix files, etc) constitute the “raw” gene expression data.\n",
    "\n",
    "# For data collected on Affymetrix platforms, we utilized the ReadAffy utility in the affy Bioconductor package to read in raw .CEL files. \n",
    "# The rma utility was used to conduct Robust Multichip Average (rma) background correction (as in (4)), quantile normalization, and log2 normalization of the data. \n",
    "##### CRITERIA: PLATFORM_DESCRIPTION contains 'Affymetrix'\n",
    "\n",
    "# For data collected on Illumina platforms and stored in the Gene Expression Omnibus (GEO) database, we utilized the getGEO utility in the \n",
    "# GEOquery Bioconductor package to read the expression files and the preprocessCore package to conduction rma background correction, quantile normalization, and log2 normalization of the gene expression data.\n",
    "##### CRITERIA: PLATFORM_DESCRIPTION contains 'illumina'\n",
    "\n",
    "# Finally, for data collected on Illumina platforms but not stored in GEO, we utilized the read.ilmn utility of the limma Bioconductor package \n",
    "# to read in the data, and the neqc function to rma background correct, quantile normalize, and log2 normalize the gene expression data.\n",
    "##### CRITERIA: Study has GSMxxxxxxxx information for study ? \n",
    "\n",
    "# In all instances, probe IDs were converted to Entrez Gene IDs. Where multiple probes mapped to the same Entrez Gene ID, \n",
    "# the median value across probes was used to represent the expression value of the corresponding gene.\n",
    "# The background-corrected and normalized datasets were combined based on common Entrez IDs, missing values were imputed with a \n",
    "# k-nearest neighbors algorithm (R package: impute, function: impute.knn) using k = 10 and default values for rowmax, colmax, and maxp. \n",
    "# Enter Gene IDs were then converted to HUGO gene names. \n",
    "# These steps together produced the “formatted” gene expression files.\n",
    "\n",
    "# To create the “formatted and normalized” datasets, we utilized established empirical Bayes algorithm ComBat for batch correction (2), compensating for possible batch effects while maintaining potential effects of age, race, and sex across datasets.\n",
    "\n",
    "### okay das is schonmal nicht so einheitlich wie erhofft. \n",
    "### am besten sind die microarrays\n",
    "print(f'Studies: {marray_pbmc.shape}')\n",
    "print(f'Studies: {len(marray_pbmc['study_accession'].unique())}')\n",
    "print(f'Subjects: {len(marray_pbmc['subject_accession'].unique())}')\n",
    "print(f'Data ACCESSIONS ??: {len(marray_pbmc['data_accession'].unique())}')\n",
    "marray_pbmc.head()"
   ]
  },
  {
   "cell_type": "code",
   "execution_count": null,
   "metadata": {},
   "outputs": [],
   "source": [
    "print(marray_pbmc['study_accession'].unique())\n",
    "#SDY269 got 251 different REPOSITORY_ACCESSIONS -> individual subject ... its like GSM734016 -> when u enter into GEO you can get the platform (GPL13158)\n",
    "mapping_platform_geo_id = {\n",
    "    'SDY269':'GPL13158',\n",
    "    'SDY33':'?', # keinen immport eintrag\n",
    "    'SDY404':'GPL10558',\n",
    "    'SDY420':'GPL4133',\n",
    "    'SDY63':'GPL10558',\n",
    "    'SDY720':'GPL10558',\n",
    "    'SDY816':'?',  # keinen immport eintrag\n",
    "                    }\t\n",
    "mapping_platform_description = {\n",
    "    'SDY269':'[HT_HG-U133_Plus_PM] Affymetrix HT HG-U133+ PM Array Plate',\n",
    "    'SDY33':'Affymetrix CEL',\n",
    "    'SDY404':'Illumina HumanHT-12 V4.0 expression beadchip',\n",
    "    'SDY420':'Agilent-014850 Whole Human Genome Microarray 4x44K G4112F (Feature Number version)',\n",
    "    'SDY63':'Illumina HumanHT-12 V4.0 expression beadchip',\n",
    "    'SDY720':'Illumina HumanHT-12 V4.0 expression beadchip',\n",
    "    'SDY816':'Illumina Beadarray',\n",
    "                    }\t\n",
    "\n",
    "marray_pbmc['PLATFORM_GEO_ID'] = marray_pbmc['study_accession'].apply(lambda x: mapping_platform_geo_id.get(x))\n",
    "marray_pbmc['PLATFORM_DESCRIPTION'] = marray_pbmc['study_accession'].apply(lambda x: mapping_platform_description.get(x))\n",
    "marray_pbmc.head()\n",
    "\n"
   ]
  },
  {
   "cell_type": "code",
   "execution_count": null,
   "metadata": {},
   "outputs": [],
   "source": [
    "#REORDER COLUMNS\n",
    "cols = marray_pbmc.columns.tolist()\n",
    "cols = cols[-2:] + cols[:-6]\n",
    "marray_pbmc = marray_pbmc[cols]\n",
    "marray_pbmc = marray_pbmc.drop_duplicates()\n",
    "marray_pbmc['gender'] = marray_pbmc['gender'].apply(lambda x: x.lower() if isinstance(x, str) else x)\n",
    "\n",
    "\n"
   ]
  },
  {
   "cell_type": "code",
   "execution_count": null,
   "metadata": {},
   "outputs": [],
   "source": [
    "marray_pbmc_metadata = marray_pbmc.iloc[:,:8]\n",
    "marray_pbmc_wo_meta =  marray_pbmc.iloc[:,8:]\n",
    "marray_pbmc_wo_meta.columns"
   ]
  },
  {
   "cell_type": "code",
   "execution_count": null,
   "metadata": {},
   "outputs": [],
   "source": [
    "marray_pbmc.describe()\n",
    "print(get_negative_values(marray_pbmc))\n",
    "### min values smaller 0 ... \n",
    "# my approach: reverse log2 transform (2^data) then add 1 then log2 transform \n",
    "\n",
    "marray_pbmc_wo_meta_untransformed = np.exp2(marray_pbmc_wo_meta)\n",
    "marray_pbmc_wo_meta_untransformed = marray_pbmc_wo_meta_untransformed+1\n",
    "marray_pbmc_wo_meta_non_neg = np.log2(marray_pbmc_wo_meta_untransformed)\n",
    "\n",
    "# Ensure no more neg values\n",
    "print(get_negative_values(marray_pbmc_wo_meta_non_neg))\n",
    "\n"
   ]
  },
  {
   "cell_type": "code",
   "execution_count": null,
   "metadata": {},
   "outputs": [],
   "source": [
    "marray_pbmc = marray_pbmc_metadata.join(marray_pbmc_wo_meta_non_neg)\n",
    "marray_pbmc.to_csv(f'pbmc/marray_pbmc_prepared.csv')\n",
    "marray_pbmc.head()\n"
   ]
  },
  {
   "cell_type": "code",
   "execution_count": null,
   "metadata": {},
   "outputs": [],
   "source": [
    "manhattanplot(marray_pbmc, start_col=8)"
   ]
  },
  {
   "cell_type": "code",
   "execution_count": null,
   "metadata": {},
   "outputs": [],
   "source": [
    "violinplot_overall(marray_pbmc,  x_topic='gender', y_topic='age', hue_split='gender', bin_name='pbmc')"
   ]
  },
  {
   "cell_type": "code",
   "execution_count": null,
   "metadata": {},
   "outputs": [],
   "source": [
    "marray_pbmc.describe()"
   ]
  },
  {
   "cell_type": "markdown",
   "metadata": {},
   "source": [
    "## This actually looks good... "
   ]
  },
  {
   "cell_type": "markdown",
   "metadata": {},
   "source": [
    "# RNAseq PBMC\n",
    "\n",
    "already got stuff from 10k_immu notebook... "
   ]
  },
  {
   "cell_type": "code",
   "execution_count": null,
   "metadata": {},
   "outputs": [],
   "source": [
    "#### RNA-Seq Whole Blood and PBMC Data: \n",
    "# The RNA-Seq peripheral mononucler cells comes from Immport study SDY67.\n",
    "# The files used from Immport were formatted and normalized by the EPIC Consortium. \n",
    "#### This apparently made the FKPM transofrmation. -> TPM\n",
    "# The whole blood datasets were converted into TPM files and harmonized together using the HarmonyRNA algorithm. \n",
    "#### \n",
    "# More information on the study can be found in this Nature Article published by Amy H. Lee, et al. \n",
    "# Some minor additional formatting was done for presenting data on 10k Immunomes.\n",
    "print('RNAseq PBMC: ')\n",
    "rna_seq_pbmc_T = rna_seq_pbmc.T\n",
    "rna_seq_pbmc_T.reset_index(0, inplace=True)\n",
    "rna_seq_pbmc_T.columns = rna_seq_pbmc_T.iloc[0]\n",
    "rna_seq_pbmc_T = rna_seq_pbmc_T.drop(rna_seq_pbmc_T.index[0])\n",
    "### metadata is separate here\n",
    "rnaseq_pbmc_metadata = pd.read_csv(ten_k_prefix+'rnaseq_pbmc_metadata.csv')\n",
    "rna_seq_pbmc_T = rna_seq_pbmc_T.rename(columns={'hgnc': 'Subject'})\n",
    "rna_seq_pbmc_T_w_meta = pd.merge(rna_seq_pbmc_T, rnaseq_pbmc_metadata, on='Subject', how='left')\n",
    "\n",
    "## Rearrange columns: \n",
    "cols = rna_seq_pbmc_T_w_meta.columns.tolist()\n",
    "cols = cols[-4:] + cols[:-4]\n",
    "rna_seq_pbmc_T_w_meta = rna_seq_pbmc_T_w_meta[cols]\n",
    "## nice ! \n",
    "print(f'Genes: {rna_seq_pbmc_T_w_meta.shape}')\n",
    "print(f'Studies: {len(rna_seq_pbmc_T_w_meta['Study'].unique())}')\n",
    "print(f'Subjects: {len(rna_seq_pbmc_T_w_meta['Subject'].unique())}')\n",
    "### only one study (SDY67)\n",
    "rna_seq_pbmc_T_w_meta['PLATFORM_GEO_ID'] = 'GPL11154'\n",
    "rna_seq_pbmc_T_w_meta['PLATFORM_DESCRIPTION'] = 'Illumina HiSeq 2500 (Homo sapiens)'\n",
    "## Rearrange columns: \n",
    "cols = rna_seq_pbmc_T_w_meta.columns.tolist()\n",
    "cols = cols[-2:] + cols[:-2]\n",
    "rna_seq_pbmc_T_w_meta = rna_seq_pbmc_T_w_meta[cols]\n",
    "rna_seq_pbmc_T_w_meta = rna_seq_pbmc_T_w_meta.drop_duplicates()\n",
    "rna_seq_pbmc_T_w_meta.head()\n",
    "\n",
    "### SDY67 \n",
    "### hat keine repo ID ... "
   ]
  },
  {
   "cell_type": "markdown",
   "metadata": {},
   "source": [
    "#### (own) Preprocessing\n",
    "match manhattan plots, similar as in whole blood"
   ]
  },
  {
   "cell_type": "code",
   "execution_count": null,
   "metadata": {},
   "outputs": [],
   "source": [
    "## Step1: Quant. normalisation\n",
    "import qnorm\n",
    "rna_seq_pbmc_T_wo_meta = rna_seq_pbmc_T_w_meta.iloc[:, 7:]\n",
    "metadata = rna_seq_pbmc_T_w_meta.iloc[:, :7]\n",
    "rna_seq_pbmc_T_wo_meta_quant = qnorm.quantile_normalize(rna_seq_pbmc_T_wo_meta, axis=0).astype(float)\n",
    "print(rna_seq_pbmc_T_wo_meta_quant.columns)\n",
    "\n",
    "## Step2: log2 normalization\n",
    "rna_seq_pbmc_T_wo_meta_quant = rna_seq_pbmc_T_wo_meta_quant+1.\n",
    "rna_seq_pbmc_T_wo_meta_log2 = np.log2(rna_seq_pbmc_T_wo_meta_quant) \n",
    "rna_seq_pbmc_T_wo_meta_log2 = rna_seq_pbmc_T_wo_meta_log2.astype(float)\n",
    "rna_seq_pbmc_T_wo_meta_log2.describe()"
   ]
  },
  {
   "cell_type": "code",
   "execution_count": null,
   "metadata": {},
   "outputs": [],
   "source": [
    "manhattanplot(rna_seq_pbmc_T_wo_meta_log2, start_col=0)"
   ]
  },
  {
   "cell_type": "code",
   "execution_count": null,
   "metadata": {},
   "outputs": [],
   "source": [
    "### get metadata back into CSV\n",
    "rna_seq_pbmc_T_w_meta = rna_seq_pbmc_T_w_meta.rename(columns={'Age': 'age', 'Sex': 'gender', \n",
    "                                                              'Study':'study_accession', \n",
    "                                                              'Expression': 'data_accession', \n",
    "                                                            'Subject': 'subject_accession'})\n",
    "rna_seq_pbmc_T_w_meta_log2 = metadata.join(rna_seq_pbmc_T_wo_meta_log2)\n",
    "rna_seq_pbmc_T_w_meta_log2.to_csv(f'pbmc/rna_seq_pbmc_T_w_meta_preproc.csv')\n"
   ]
  },
  {
   "cell_type": "code",
   "execution_count": null,
   "metadata": {},
   "outputs": [],
   "source": [
    "rna_seq_pbmc_T_w_meta_log2.head()"
   ]
  },
  {
   "cell_type": "code",
   "execution_count": null,
   "metadata": {},
   "outputs": [],
   "source": [
    "description = rna_seq_pbmc_T_w_meta_log2.describe().T\n",
    "negative_mins = description[description['min'] < 0]\n",
    "print(negative_mins)\n",
    "#### no negative values here \n"
   ]
  },
  {
   "cell_type": "code",
   "execution_count": null,
   "metadata": {},
   "outputs": [],
   "source": [
    "violinplot_overall(rna_seq_pbmc_T_w_meta_log2,  x_topic='Sex', y_topic='Age', hue_split='Sex', bin_name='pbmc')"
   ]
  },
  {
   "cell_type": "markdown",
   "metadata": {},
   "source": [
    "## MERGE area"
   ]
  },
  {
   "cell_type": "code",
   "execution_count": null,
   "metadata": {},
   "outputs": [],
   "source": [
    "rna_seq_pbmc_T_w_meta_log2.shape\n",
    "rna_seq_pbmc_T_w_meta_log2.describe()"
   ]
  },
  {
   "cell_type": "code",
   "execution_count": null,
   "metadata": {},
   "outputs": [],
   "source": [
    "marray_pbmc.shape\n",
    "marray_pbmc.describe()"
   ]
  },
  {
   "cell_type": "code",
   "execution_count": null,
   "metadata": {},
   "outputs": [],
   "source": [
    "## Step1: rename stuff so they match each other (and also whole blood .csv table....)\n",
    "rna_seq_pbmc_T_w_meta_log2['METHOD']='rnaseq'\n",
    "marray_pbmc['METHOD']='array'\n",
    "\n",
    "common_columns = rna_seq_pbmc_T_w_meta_log2.columns.intersection(marray_pbmc.columns)\n",
    "# put metadtaa together\n",
    "common_columns = common_columns.to_list()\n",
    "last_element = common_columns.pop()\n",
    "common_columns.insert(0, last_element)\n",
    "\n",
    "\n",
    "combi_df_pbmc = pd.concat([marray_pbmc, rna_seq_pbmc_T_w_meta_log2], ignore_index=True)\n",
    "combi_df_pbmc['gender'] = combi_df_pbmc['gender'].str.lower()\n",
    "combi_df_pbmc['TYPE']='pbmc'\n",
    "print(combi_df_pbmc.shape)\n",
    "\n",
    "\n",
    "### Remove possible duplicated subjects and entries with Nan \n",
    "combi_df_pbmc_reduced = combi_df_pbmc.drop_duplicates()\n",
    "combi_df_pbmc_reduced = combi_df_pbmc_reduced.drop_duplicates(subset=['subject_accession'], keep='first')\n",
    "print(combi_df_pbmc_reduced.shape)\n",
    "\n",
    "\n",
    "## drop entries that dont fullfill those min metadata\n",
    "essential_columns = ['age', 'gender', 'study_accession']\n",
    "combi_df_pbmc_reduced = combi_df_pbmc_reduced.dropna(subset=essential_columns, axis=0, how='any')\n",
    "print(combi_df_pbmc_reduced.shape)\n",
    "\n",
    "# Handle NA values\n",
    "#combi_df_whole_blood_reduced = combi_df_whole_blood_reduced.dropna(axis=1, how='any') \n",
    "#print(combi_df_whole_blood_reduced.shape)\n",
    "\n",
    "combi_df_pbmc.head()\n"
   ]
  },
  {
   "cell_type": "code",
   "execution_count": null,
   "metadata": {},
   "outputs": [],
   "source": [
    "combi_df_pbmc.to_csv(f'pbmc/combi_df_pbmc_all.csv')\n"
   ]
  },
  {
   "cell_type": "code",
   "execution_count": null,
   "metadata": {},
   "outputs": [],
   "source": [
    "no_meta_cols = list(set(common_columns) - set(METADATA_COLS))\n",
    "print(len(no_meta_cols))\n",
    "new_order_cols = METADATA_COLS + no_meta_cols\n",
    "print(len(new_order_cols))"
   ]
  },
  {
   "cell_type": "code",
   "execution_count": null,
   "metadata": {},
   "outputs": [],
   "source": [
    "combi_df_pbmc_common_cols = combi_df_pbmc[new_order_cols]\n",
    "combi_df_pbmc_common_cols.to_csv(f'pbmc/combi_df_pbmc_ordered_common_cols.csv')\n"
   ]
  },
  {
   "cell_type": "code",
   "execution_count": null,
   "metadata": {},
   "outputs": [],
   "source": [
    "violinplot_overall(combi_df_pbmc_common_cols,  x_topic='gender', y_topic='age', hue_split='gender', bin_name='pbmc')"
   ]
  },
  {
   "cell_type": "code",
   "execution_count": null,
   "metadata": {},
   "outputs": [],
   "source": [
    "print(combi_df_pbmc_common_cols.shape)\n",
    "combi_df_pbmc_common_cols.head()"
   ]
  },
  {
   "cell_type": "code",
   "execution_count": null,
   "metadata": {},
   "outputs": [],
   "source": [
    "combi_df_pbmc_common_cols.describe()"
   ]
  },
  {
   "cell_type": "code",
   "execution_count": null,
   "metadata": {},
   "outputs": [],
   "source": [
    "manhattanplot(combi_df_pbmc_common_cols, start_col=9)"
   ]
  },
  {
   "cell_type": "code",
   "execution_count": null,
   "metadata": {},
   "outputs": [],
   "source": [
    "combi_df_pbmc_common_cols[no_meta_cols] = combi_df_pbmc_common_cols[no_meta_cols].astype(float)"
   ]
  },
  {
   "cell_type": "code",
   "execution_count": null,
   "metadata": {},
   "outputs": [],
   "source": [
    "## Does not yet work as only age is float at the moment\n",
    "description = combi_df_pbmc_common_cols[combi_df_pbmc_common_cols['METHOD']=='rnaseq'].describe().T\n",
    "negative_mins = description[description['min'] < 0]\n",
    "print(negative_mins)\n",
    "combi_df_pbmc_common_cols.describe()"
   ]
  },
  {
   "cell_type": "markdown",
   "metadata": {},
   "source": [
    "# Paper  Enrichment score\n",
    "### Problem: Needs gene sets with related genes ... \n",
    "### Increase comparability between microarray and RNAseq\n",
    "https://journals.plos.org/ploscompbiol/article?id=10.1371/journal.pcbi.1008295 <- hier wird eben gezeigt wie der score nützlich ist (Spearson corr index almost 1)>\n",
    "https://www.nature.com/articles/nature08460 <- des is der eigentliche enrichment score paper >\n",
    "transformed gene expression values to gene set enrichment scores (ES) by mapping the genes on preselected groups of genes. Gene sets are groups of genes that have been experimentally and/or computationally related to a biological function\n",
    "involves the conversion from gene expression levels to ranks"
   ]
  }
 ],
 "metadata": {
  "kernelspec": {
   "display_name": "merge_env",
   "language": "python",
   "name": "python3"
  },
  "language_info": {
   "codemirror_mode": {
    "name": "ipython",
    "version": 3
   },
   "file_extension": ".py",
   "mimetype": "text/x-python",
   "name": "python",
   "nbconvert_exporter": "python",
   "pygments_lexer": "ipython3",
   "version": "3.1.-1"
  }
 },
 "nbformat": 4,
 "nbformat_minor": 2
}

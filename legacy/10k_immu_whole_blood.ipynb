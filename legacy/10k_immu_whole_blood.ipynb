{
 "cells": [
  {
   "cell_type": "code",
   "execution_count": null,
   "metadata": {},
   "outputs": [],
   "source": [
    "##### prepare 10k IMMU tables \n",
    "# Step 1: investigate single studies for data collection platforms\n",
    "# Step 2: Describe “formatted” preprocessing way as i can find in literature -> for Microarray its rather clear, right ?\n",
    "# Step 3: Standartize them to make them comparable\n",
    "# Step 4: Add 3-4 paper´s data to also get a deseased dataset (or maybe even finish the search in immport, as I think new studies got collected since release of 10kimmu)\n",
    "# Step 5: GAMLLS model creation. \n",
    "\n",
    "%matplotlib inline\n",
    "import matplotlib.pyplot as plt\n",
    "import numpy as np\n",
    "import pandas as pd\n",
    "import os\n",
    "import seaborn as sns\n",
    "import sys\n",
    "sys.path.append('/home/eliasschreiner/PROJEKT/utils/')  # Adjust this to the path where `utils` resides\n",
    "\n",
    "from utils.helper import manhattanplot, violinplot_overall, scatter_plot, get_negative_values, METADATA_COLS\n"
   ]
  },
  {
   "cell_type": "code",
   "execution_count": null,
   "metadata": {},
   "outputs": [],
   "source": [
    "\n",
    "ten_k_prefix=\"/var/datasets/10kImmunomes/transcriptomics/\"\n",
    "### Files we got:\n",
    "## pbmc_rna_counts.csv\n",
    "## whole_blood_rna_tpm.csv\n",
    "## Gene_Expression_PBMC \n",
    "### gene_pbmc_formatted.csv ; gene_pbmc_normalized.csv  -> i take formatted as the wholeblood only exists in formatted... \n",
    "## Gene_Expression_Whole_Blood_formatted.csv \n",
    "\n",
    "print(\"\\n###########################################################\")\n",
    "print(\"rna_seq_whole_blood.csv\")\n",
    "print(\"============================================================\")\n",
    "rna_seq_whole_blood = pd.read_csv(f\"{ten_k_prefix}/whole_blood_rna_tpm.csv\",sep=\",\")\n",
    "print(rna_seq_whole_blood.columns)\n",
    "print(rna_seq_whole_blood.shape)\n",
    "\n",
    "print(\"\\n###########################################################\")\n",
    "print(\"marray_whole_blood\")\n",
    "print(\"============================================================\")\n",
    "marray_whole_blood = pd.read_csv(f\"{ten_k_prefix}/Gene_Expression_Whole_Blood_formatted.csv\",sep=\",\")\n",
    "print(marray_whole_blood.columns)\n",
    "print(marray_whole_blood.shape)\n"
   ]
  },
  {
   "cell_type": "markdown",
   "metadata": {},
   "source": [
    "# Microarray"
   ]
  },
  {
   "cell_type": "code",
   "execution_count": null,
   "metadata": {},
   "outputs": [],
   "source": [
    "####Microarray Data: Gene expression array data were obtained in three formats.\n",
    "# Data in their original formats (.CEL files, series matrix files, etc) constitute the “raw” gene expression data.\n",
    "\n",
    "# For data collected on Affymetrix platforms, we utilized the ReadAffy utility in the affy Bioconductor package to read in raw .CEL files. \n",
    "# The rma utility was used to conduct Robust Multichip Average (rma) background correction (as in (4)), quantile normalization, and log2 normalization of the data. \n",
    "##### CRITERIA: PLATFORM_DESCRIPTION contains 'Affymetrix'\n",
    "\n",
    "# For data collected on Illumina platforms and stored in the Gene Expression Omnibus (GEO) database, we utilized the getGEO utility in the \n",
    "# GEOquery Bioconductor package to read the expression files and the preprocessCore package to conduction rma background correction, quantile normalization, and log2 normalization of the gene expression data.\n",
    "##### CRITERIA: PLATFORM_DESCRIPTION contains 'illumina'\n",
    "\n",
    "# Finally, for data collected on Illumina platforms but not stored in GEO, we utilized the read.ilmn utility of the limma Bioconductor package \n",
    "# to read in the data, and the neqc function to rma background correct, quantile normalize, and log2 normalize the gene expression data.\n",
    "##### CRITERIA: Study has GSMxxxxxxxx information for study ? \n",
    "\n",
    "# In all instances, probe IDs were converted to Entrez Gene IDs. Where multiple probes mapped to the same Entrez Gene ID, \n",
    "# the median value across probes was used to represent the expression value of the corresponding gene.\n",
    "# The background-corrected and normalized datasets were combined based on common Entrez IDs, missing values were imputed with a \n",
    "# k-nearest neighbors algorithm (R package: impute, function: impute.knn) using k = 10 and default values for rowmax, colmax, and maxp. \n",
    "# Enter Gene IDs were then converted to HUGO gene names. \n",
    "# These steps together produced the “formatted” gene expression files.\n",
    "\n",
    "# To create the “formatted and normalized” datasets, we utilized established empirical Bayes algorithm ComBat for batch correction (2), compensating for possible batch effects while maintaining potential effects of age, race, and sex across datasets.\n"
   ]
  },
  {
   "cell_type": "code",
   "execution_count": null,
   "metadata": {},
   "outputs": [],
   "source": [
    "\n",
    "#### Procedure of getting the platform: \n",
    "#### Try to get the Repo_Accessions (gene_expression table) for the study.\n",
    "######## If found, output all platforms for the accessions. (was always only 1)\n",
    "######## If not found, download the protocols from ImmPort via study acession -> read the microarray protocol and try to find the geo id (succeeded in all but SDY364) \n",
    "# needed: immport_platform.ipynb\n",
    "marray_whole_blood = pd.read_csv(f\"{ten_k_prefix}/Gene_Expression_Whole_Blood_formatted.csv\",sep=\",\")\n",
    "mapping_platform_geo_id = {'SDY111': 'GPL10558', 'SDY112': 'GPL15207', \n",
    "                    'SDY113': 'GPL15207', 'SDY144': 'GPL10558',\n",
    "                    'SDY180': 'GPL6947', 'SDY212': 'GPL6947',\n",
    "                    'SDY301': 'GPL6947', 'SDY305': 'GPL15207',\n",
    "                    'SDY364': '?', 'SDY690': 'GPL6947',\n",
    "                    }\t\n",
    "mapping_platform_description = {'SDY111': 'Illumina HumanHT-12 V4.0 expression beadchip', 'SDY112': '[PrimeView] Affymetrix Human Gene Expression Array', \n",
    "                    'SDY113': '[PrimeView] Affymetrix Human Gene Expression Array', 'SDY144': 'Illumina HumanHT-12 V4.0 expression beadchip',\n",
    "                    'SDY180': 'Illumina HumanHT-12 V3.0 expression beadchip', 'SDY212': 'Illumina HumanHT-12 V3.0 expression beadchip',\n",
    "                    'SDY301': 'Illumina HumanHT-12 V3.0 expression beadchip', 'SDY305': '[PrimeView] Affymetrix Human Gene Expression Array',\n",
    "                    'SDY364': 'Illumina Human WG-6 V4 beadchips', 'SDY690': 'Illumina HumanHT-12 V3.0 expression beadchip',\n",
    "                    }\n",
    "marray_whole_blood['PLATFORM_GEO_ID'] = marray_whole_blood['study_accession'].apply(lambda x: mapping_platform_geo_id.get(x))\n",
    "marray_whole_blood['PLATFORM_DESCRIPTION'] = marray_whole_blood['study_accession'].apply(lambda x: mapping_platform_description.get(x))\n",
    "\n",
    "\n",
    "### For SDY112: data_Accession = Ji_Batch2_22.295185 ...   -> download protocols hat geholfen\n",
    "### SDY301 -> ES769620 aber finde nicht im expsample ...  -> nicht in gene_expression ABER in expsample \n",
    "###### in EXPSAMPLE table: Upload_status -> Not parsed. also ich denke es ist irgendwas kaputt gegangen, es hat auch nur einen eintrag .  aus Experiment id: 'AIRFV Microarray'  -> download protocols hat geholfen\n",
    "### SDY690 -> ES769464 ... same story...  wieso sind die nicht im gene expression enthalten ? \n",
    "###### Exp name: 'Compare whole blood (Tempus tube) to PBMC gene...\t' -> download protocols hat geholfen\n",
    "### SDY364 -> 8962917052_E ?????? wat  -> download protocols hat geholfen \n",
    "###### Leider hab ich die GEO accession nicht komplett wiedergefunden und hab mal GPL14951 eingetragen\n",
    "\n",
    "## Rearrange columns: \n",
    "cols = marray_whole_blood.columns.tolist()\n",
    "cols = cols[-2:] + cols[:-2]\n",
    "marray_whole_blood = marray_whole_blood[cols]\n",
    "\n",
    "print(marray_whole_blood['study_accession'].unique()) \n",
    "marray_whole_blood = marray_whole_blood.dropna()\n",
    "marray_whole_blood.to_csv(f'whole_blood/microarray_whole_blood/marray_whole_blood_prepared.csv')\n",
    "\n",
    "print(f'Studies: {marray_whole_blood.shape}')\n",
    "print(f'Studies: {len(marray_whole_blood['study_accession'].unique())}')\n",
    "print(f'Subjects: {len(marray_whole_blood['subject_accession'].unique())}')\n",
    "print(f'Data ACCESSIONS ??: {len(marray_whole_blood['data_accession'].unique())}')\n",
    "marray_whole_blood.head()\n"
   ]
  },
  {
   "cell_type": "code",
   "execution_count": null,
   "metadata": {},
   "outputs": [],
   "source": [
    "marray_whole_blood.describe()"
   ]
  },
  {
   "cell_type": "markdown",
   "metadata": {},
   "source": [
    "## Error: Negative values of Study 180 (Microarray whole blood)... I spotted that neg values is a microarray thing to do ... i need to standardize this differently. ... \n",
    "### remove SDY180"
   ]
  },
  {
   "cell_type": "code",
   "execution_count": null,
   "metadata": {},
   "outputs": [],
   "source": [
    "#marray_whole_blood[marray_whole_blood['study_accession'] == 'SDY180'].shape\n",
    "marray_whole_blood = marray_whole_blood[~marray_whole_blood.apply(lambda row: row.astype(str).str.contains('SDY180').any(), axis=1)]\n",
    "marray_whole_blood.shape"
   ]
  },
  {
   "cell_type": "code",
   "execution_count": null,
   "metadata": {},
   "outputs": [],
   "source": [
    "marray_whole_blood_wo_meta = marray_whole_blood.iloc[:, 8:]\n",
    "marray_whole_blood_wo_meta = marray_whole_blood_wo_meta.reindex(sorted(marray_whole_blood_wo_meta.columns), axis=1)\n",
    "marray_whole_blood_wo_meta.head()"
   ]
  },
  {
   "cell_type": "code",
   "execution_count": null,
   "metadata": {},
   "outputs": [],
   "source": [
    "marray_whole_blood.describe()"
   ]
  },
  {
   "cell_type": "code",
   "execution_count": null,
   "metadata": {},
   "outputs": [],
   "source": [
    "get_negative_values(marray_whole_blood)"
   ]
  },
  {
   "cell_type": "code",
   "execution_count": null,
   "metadata": {},
   "outputs": [],
   "source": [
    "marray_whole_blood_young = marray_whole_blood[marray_whole_blood['age']<20]\n",
    "manhattanplot(marray_whole_blood_young, save_name='whole_blood/microarray_whole_blood')"
   ]
  },
  {
   "cell_type": "code",
   "execution_count": null,
   "metadata": {},
   "outputs": [],
   "source": [
    "violinplot_overall(marray_whole_blood, x_topic='gender', y_topic='age', hue_split='gender', bin_name='whole_blood/microarray_whole_blood')\n",
    "# starke abweichung von RNAseq, ComBat für bayes based batch correction -> soll wohl lt. homas nicht weil GAMLSS das bereits berücksichtigt\n"
   ]
  },
  {
   "cell_type": "markdown",
   "metadata": {},
   "source": [
    "# ################ RNAseq"
   ]
  },
  {
   "cell_type": "code",
   "execution_count": null,
   "metadata": {},
   "outputs": [],
   "source": [
    "#### RNA-Seq Whole Blood and PBMC Data: \n",
    "# The RNA-Seq whole blood data was downloaded from Immport (Studies: SDY1092, SDY1172, SDY1381, and SDY1412).\n",
    "# The files used from Immport were formatted and normalized by the EPIC Consortium. \n",
    "#### This apparently made the FKPM transofrmation. -> TPM\n",
    "# The whole blood datasets were converted into TPM files and harmonized together using the HarmonyRNA algorithm. \n",
    "#### \n",
    "# More information on the study can be found in this Nature Article published by Amy H. Lee, et al. \n",
    "# Some minor additional formatting was done for presenting data on 10k Immunomes."
   ]
  },
  {
   "cell_type": "code",
   "execution_count": null,
   "metadata": {},
   "outputs": [],
   "source": [
    "\n",
    "## Formatted means: background correction, quantile normalization, and log2 normalization\n",
    "## Normalized: empirical Bayes algorithm for batch correction (2), compensating for possible batch effects\n",
    "\n",
    "print('RNAseq Whole blood: ')\n",
    "rna_seq_whole_blood_T = rna_seq_whole_blood.T\n",
    "rna_seq_whole_blood_T.reset_index(0, inplace=True)\n",
    "\n",
    "## Hier hab ich quasi 2 headlines: eins ist eben für die ENSGxxxxx nummern und eine f+r den Gene bezeichner -> mapping table \n",
    "ensg_numbers = rna_seq_whole_blood_T.iloc[0]\n",
    "ensg_2_gene_mapping_df = pd.DataFrame([rna_seq_whole_blood_T.iloc[0], rna_seq_whole_blood_T.iloc[1]]).T\n",
    "ensg_2_gene_mapping_df.columns=ensg_2_gene_mapping_df.iloc[0]\n",
    "ensg_2_gene_mapping_df = ensg_2_gene_mapping_df.drop(ensg_2_gene_mapping_df.index[0])\n",
    "\n",
    "\n",
    "rna_seq_whole_blood_T.columns = rna_seq_whole_blood_T.iloc[1]\n",
    "rna_seq_whole_blood_T = rna_seq_whole_blood_T.drop(rna_seq_whole_blood_T.index[0])\n",
    "rna_seq_whole_blood_T = rna_seq_whole_blood_T.drop(rna_seq_whole_blood_T.index[0])\n",
    "\n",
    "### METADATA\n",
    "rnaseq_whole_blood_metadata = pd.read_csv(ten_k_prefix+'rnaseq_whole_blood_metadata.csv')\n",
    "print(rnaseq_whole_blood_metadata.shape)\n",
    "\n",
    "### Bugfix for SDY1381 Subject names\n",
    "def add_X(row):\n",
    "    if row['Study']=='SDY1381':\n",
    "        return 'X' + row['Subject']\n",
    "    else:\n",
    "        return row['Subject']\n",
    "rnaseq_whole_blood_metadata['Subject'] = rnaseq_whole_blood_metadata.apply(add_X, axis=1)\n",
    "\n",
    "print(rna_seq_whole_blood_T.shape)\n",
    "rna_seq_whole_blood_T = rna_seq_whole_blood_T.rename(columns={'hgnc': 'Subject'})\n",
    "rna_seq_whole_blood_T_w_meta = pd.merge(rna_seq_whole_blood_T, rnaseq_whole_blood_metadata, on='Subject', how='inner')\n",
    "\n",
    "## da wir hier glaub dier selben subjects mit longitudinal data haben: \n",
    "unique_subjects = [x.split('_')[0] for x in rna_seq_whole_blood_T_w_meta['Subject'].tolist()]\n",
    "print(f'Genes: {rna_seq_whole_blood_T_w_meta.shape}')\n",
    "print(f'Studies: {len(rna_seq_whole_blood_T_w_meta['Study'].unique())}')\n",
    "print(rna_seq_whole_blood_T_w_meta['Study'].unique())\n",
    "print(f'Subjects: {len(set(unique_subjects))}')\n",
    "\n",
    "mapping_platform_geo_id = {'SDY1412': 'GPL16791', \n",
    "                           'SDY1092': 'GPL11154', \n",
    "                           'SDY1172': 'GPL11154', \n",
    "                           'SDY1381': 'GPL11154'}\n",
    "mapping_platform_description = {'SDY1412': 'Illumina HiSeq 2500 (Homo sapiens)', 'SDY1092': 'Illumina HiSeq 2500 (Homo sapiens)', \n",
    "                    'SDY1172': 'Illumina HiSeq 2500 (Homo sapiens)', 'SDY1381': 'Illumina HiSeq 2500 (Homo sapiens)'}\n",
    "rna_seq_whole_blood_T_w_meta['PLATFORM_GEO_ID'] = rna_seq_whole_blood_T_w_meta['Study'].apply(lambda x: mapping_platform_geo_id.get(x))\n",
    "rna_seq_whole_blood_T_w_meta['PLATFORM_DESCRIPTION'] = rna_seq_whole_blood_T_w_meta['Study'].apply(lambda x: mapping_platform_description.get(x))\n",
    "\n",
    "\n",
    "## Rearrange columns: \n",
    "cols = rna_seq_whole_blood_T_w_meta.columns.tolist()\n",
    "cols = cols[-6:] + cols[:-6]\n",
    "rna_seq_whole_blood_T_w_meta = rna_seq_whole_blood_T_w_meta[cols]\n",
    "rna_seq_whole_blood_T_w_meta = rna_seq_whole_blood_T_w_meta.drop_duplicates()\n",
    "#rna_seq_whole_blood_T_w_meta = rna_seq_whole_blood_T_w_meta.dropna()\n",
    "### maybe 10k uses other datasets besides immport and those are nan ? -> figure out\n",
    "rna_seq_whole_blood_T_w_meta['Sex'] = rna_seq_whole_blood_T_w_meta['Sex'].apply(lambda x: x.lower() if isinstance(x, str) else x)\n",
    "\n",
    "rna_seq_whole_blood_T_w_meta.to_csv(f'whole_blood/rna_seq_whole_blood/rnaseq_whole_blood_prepared.csv')\n",
    "rna_seq_whole_blood_T_w_meta.head()\n",
    "\n",
    "rna_seq_whole_blood_T_w_meta\n",
    "\n",
    "#Studies: SDY1092, SDY1172, SDY1412 and -> missing: SDY1381\n",
    "### that one was tricky, in all_Data we got a leading X infront of all subjects from SDY1381, \n",
    "### i will now add a leading X to my metadata for this study and hope it fixes it"
   ]
  },
  {
   "cell_type": "code",
   "execution_count": null,
   "metadata": {},
   "outputs": [],
   "source": [
    "   \n",
    "violinplot_overall(rna_seq_whole_blood_T_w_meta, x_topic='Sex', y_topic='Age', hue_split='Sex', bin_name='whole_blood/rna_seq_whole_blood')\n"
   ]
  },
  {
   "cell_type": "code",
   "execution_count": null,
   "metadata": {},
   "outputs": [],
   "source": [
    "manhattanplot(rna_seq_whole_blood_T_w_meta, start_col=7, save_name='whole_blood/rna_seq_whole_blood')\n",
    "# Große abweichung von array\n",
    "\n",
    "\n",
    "# Aus paper. Leider keine info, da des wohl nachgereicht wurde:\n",
    "#   Additionally, some highly sought data types, such as RNA sequencing (RNA-seq), are not yet available in sufficient volume in ImmPort to merit inclusion in the initial release of the resource"
   ]
  },
  {
   "cell_type": "code",
   "execution_count": null,
   "metadata": {},
   "outputs": [],
   "source": [
    "rna_seq_whole_blood_T_wo_meta = rna_seq_whole_blood_T_w_meta.iloc[:,7:]\n",
    "metadata = rna_seq_whole_blood_T_w_meta.iloc[:,:7]\n",
    "rna_seq_whole_blood_T_wo_meta = rna_seq_whole_blood_T_wo_meta.astype(float)\n",
    "rna_seq_whole_blood_T_wo_meta.head()"
   ]
  },
  {
   "cell_type": "markdown",
   "metadata": {},
   "source": [
    "## Own preprocessing of RNAseq whole blood \n",
    "#### was done to \"match\" manhattan plots"
   ]
  },
  {
   "cell_type": "code",
   "execution_count": null,
   "metadata": {},
   "outputs": [],
   "source": [
    "## AXIS 0 is rows (y) and AXIS 1 is cols (x)\n",
    "### we do this to rteduce technical artifacty that i assume are super high \n",
    "### quantile normalization is a technique for making two distributions identical in statistical properties\n",
    "# I do this using qnorm\n",
    "import qnorm\n",
    "rna_seq_whole_blood_T_wo_meta_quant = qnorm.quantile_normalize(rna_seq_whole_blood_T_wo_meta, axis=0)\n",
    "#### -> you do this if you expect the distributions to be the same. Actually i can not ...\n",
    "\n",
    "rna_seq_whole_blood_T_wo_meta_quant = rna_seq_whole_blood_T_wo_meta_quant+1 ## I do this bc log2 of 0-1 value is negative\n",
    "rna_seq_whole_blood_T_wo_meta_log2 = np.log2(rna_seq_whole_blood_T_wo_meta_quant)\n",
    "rna_seq_whole_blood_T_wo_meta_log2.to_csv('whole_blood/rna_seq_whole_blood/rna_seq_whole_blood_T_wo_meta_preproc.csv')\n"
   ]
  },
  {
   "cell_type": "code",
   "execution_count": null,
   "metadata": {},
   "outputs": [],
   "source": [
    "rna_seq_whole_blood_T_w_meta = rna_seq_whole_blood_T_w_meta.rename(columns={'Age': 'age', 'Sex': 'gender', 'Study':'study_accession', 'Expression': 'data_accession', \n",
    "                                             'Subject': 'subject_accession'})\n",
    "print(rna_seq_whole_blood_T_w_meta['gender'].unique())\n",
    "## apply the preproc to the with meta df\n",
    "rna_seq_whole_blood_T_w_meta_log2 = metadata.join(rna_seq_whole_blood_T_wo_meta_log2)\n",
    "#rna_seq_whole_blood_T_w_meta_log2 = rna_seq_whole_blood_T_wo_meta_log2.combine_first(rna_seq_whole_blood_T_w_meta)\n",
    "rna_seq_whole_blood_T_w_meta_log2.to_csv(f'whole_blood/rna_seq_whole_blood/rna_seq_whole_blood_T_w_meta_preproc.csv')"
   ]
  },
  {
   "cell_type": "code",
   "execution_count": null,
   "metadata": {},
   "outputs": [],
   "source": [
    "rna_seq_whole_blood_T_w_meta_log2.shape"
   ]
  },
  {
   "cell_type": "code",
   "execution_count": null,
   "metadata": {},
   "outputs": [],
   "source": [
    "rna_seq_whole_blood_T_w_meta_log2.describe()"
   ]
  },
  {
   "cell_type": "code",
   "execution_count": null,
   "metadata": {},
   "outputs": [],
   "source": [
    "description = rna_seq_whole_blood_T_w_meta_log2.describe().T\n",
    "negative_mins = description[description['min'] < 0]\n",
    "print(negative_mins)"
   ]
  },
  {
   "cell_type": "code",
   "execution_count": null,
   "metadata": {},
   "outputs": [],
   "source": [
    "manhattanplot(rna_seq_whole_blood_T_wo_meta_log2)"
   ]
  },
  {
   "cell_type": "markdown",
   "metadata": {},
   "source": []
  },
  {
   "cell_type": "markdown",
   "metadata": {},
   "source": [
    "# ################# MERGE whole blood"
   ]
  },
  {
   "cell_type": "code",
   "execution_count": null,
   "metadata": {},
   "outputs": [],
   "source": [
    "### Merge the data\n",
    "## Step1: Common cols: \n",
    "## Step2: Common metadata: (adapt rna_seq_whole_blood_T_w_meta to marray)\n",
    "rna_seq_whole_blood_T_w_meta_log2['METHOD']='rnaseq'\n",
    "marray_whole_blood['METHOD']='array'\n",
    "common_columns = rna_seq_whole_blood_T_w_meta_log2.columns.intersection(marray_whole_blood.columns)\n",
    "\n",
    "combi_df_whole_blood = pd.concat([marray_whole_blood, rna_seq_whole_blood_T_w_meta_log2], ignore_index=True)\n",
    "combi_df_whole_blood['gender'] = combi_df_whole_blood['gender'].str.lower()\n",
    "combi_df_whole_blood['TYPE']='whole_blood'\n",
    "### Combi df of all data CONTAINING Nan and possible duplicates\n",
    "print(combi_df_whole_blood.shape)\n",
    "#combi_df_whole_blood.to_csv(f'whole_blood/whole_blood_combi_all.csv')"
   ]
  },
  {
   "cell_type": "code",
   "execution_count": null,
   "metadata": {},
   "outputs": [],
   "source": [
    "no_meta_cols = list(set(common_columns) - set(METADATA_COLS))\n",
    "print(len(no_meta_cols))\n",
    "new_order_cols = METADATA_COLS + no_meta_cols\n",
    "print(len(new_order_cols))"
   ]
  },
  {
   "cell_type": "code",
   "execution_count": null,
   "metadata": {},
   "outputs": [],
   "source": [
    "combi_df_whole_blood_common_columns = combi_df_whole_blood[new_order_cols]\n",
    "combi_df_whole_blood_common_columns.to_csv(f'whole_blood/whole_blood_combi_common_columns.csv')"
   ]
  },
  {
   "cell_type": "code",
   "execution_count": null,
   "metadata": {},
   "outputs": [],
   "source": [
    "combi_df_whole_blood_common_columns.head()"
   ]
  },
  {
   "cell_type": "code",
   "execution_count": null,
   "metadata": {},
   "outputs": [],
   "source": [
    "combi_df_whole_blood.head()"
   ]
  },
  {
   "cell_type": "code",
   "execution_count": null,
   "metadata": {},
   "outputs": [],
   "source": [
    "\n",
    "### Remove possible duplicated subjects and entries with Nan \n",
    "combi_df_whole_blood_reduced = combi_df_whole_blood.drop_duplicates()\n",
    "combi_df_whole_blood_reduced = combi_df_whole_blood_reduced.drop_duplicates(subset=['subject_accession'], keep='first')\n",
    "print(combi_df_whole_blood_reduced.shape)\n",
    "\n",
    "## drop entries that dont fullfill those min metadata\n",
    "essential_columns = ['age', 'gender', 'PLATFORM_GEO_ID']\n",
    "combi_df_whole_blood_reduced = combi_df_whole_blood_reduced.dropna(subset=essential_columns, axis=0, how='any')\n",
    "print(combi_df_whole_blood_reduced.shape)\n",
    "### Here i wanted to fix an error that i made by renaming the cols (sex, gender... )\n",
    "\n",
    "# TODO \n",
    "## impute mean value \n",
    "## calc percentage of nan per gene. \n",
    "## drop biomarkers for values with Nan\n",
    "# this reduces the genes to about /2 \n",
    "combi_df_whole_blood_reduced = combi_df_whole_blood_reduced.dropna(axis=1, how='any') \n",
    "print(combi_df_whole_blood_reduced.shape)\n",
    "combi_df_whole_blood_reduced.to_csv(f'whole_blood/whole_blood_combi_reduced.csv')"
   ]
  },
  {
   "cell_type": "code",
   "execution_count": null,
   "metadata": {},
   "outputs": [],
   "source": [
    "violinplot_overall(combi_df_whole_blood_reduced,  x_topic='gender', y_topic='age', hue_split='gender', bin_name='whole_blood')"
   ]
  },
  {
   "cell_type": "code",
   "execution_count": null,
   "metadata": {},
   "outputs": [],
   "source": [
    "combi_df_whole_blood_reduced.columns"
   ]
  },
  {
   "cell_type": "code",
   "execution_count": null,
   "metadata": {},
   "outputs": [],
   "source": [
    "manhattanplot(combi_df_whole_blood_reduced, start_col=9, save_name='whole_blood/manhattan_plot.csv')"
   ]
  },
  {
   "cell_type": "markdown",
   "metadata": {},
   "source": [
    "### individual plots"
   ]
  },
  {
   "cell_type": "code",
   "execution_count": null,
   "metadata": {},
   "outputs": [],
   "source": [
    "\n",
    "### So we got our tables now: \n",
    "##### Next steps\n",
    "# TODO: \n",
    "## - find paper that uses microarray and RNAseq, both...\n",
    "#### decided to wait for answer of 10k --- \n",
    "## - find nonhealthy samples (what are  the samples we currently got ?) -> they are healthy as 10k lists only healthy subjects! \n",
    "#### \"Subject-level immunology data from >10,000 healthy normal human subjects\"\n",
    "\n"
   ]
  },
  {
   "cell_type": "code",
   "execution_count": null,
   "metadata": {},
   "outputs": [],
   "source": [
    "description = combi_df_whole_blood_reduced.describe().T\n",
    "negative_mins = description[description['min'] < 0]\n",
    "print(negative_mins)\n",
    "print(combi_df_whole_blood_reduced.shape)\n",
    "combi_df_whole_blood_reduced.describe()\n"
   ]
  },
  {
   "cell_type": "code",
   "execution_count": null,
   "metadata": {},
   "outputs": [],
   "source": []
  },
  {
   "cell_type": "code",
   "execution_count": null,
   "metadata": {},
   "outputs": [],
   "source": []
  }
 ],
 "metadata": {
  "kernelspec": {
   "display_name": "Python 3",
   "language": "python",
   "name": "python3"
  },
  "language_info": {
   "codemirror_mode": {
    "name": "ipython",
    "version": 3
   },
   "file_extension": ".py",
   "mimetype": "text/x-python",
   "name": "python",
   "nbconvert_exporter": "python",
   "pygments_lexer": "ipython3",
   "version": "3.12.1"
  }
 },
 "nbformat": 4,
 "nbformat_minor": 2
}

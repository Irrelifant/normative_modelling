{
 "cells": [
  {
   "cell_type": "markdown",
   "metadata": {},
   "source": [
    "# Here I want to merge together the data from different sources\n",
    "# TODO prio\n",
    "### TODO Here i reduce all the rnaseq data! Check if thats right. Its already bit strange that there are that many duplicate subjects within the data\n",
    "## find algorithm to make microarray and RNAseq data more comparable (OR. only use one of the techniques but increase data amount)\n",
    "## merge COVID dataset from wimmers\n",
    "## create gamlss models for the merged datasets\n",
    "\n",
    "# TODO less\n",
    "## impute mean value to nans\n",
    "## calc percentage of nan per gene. \n",
    "## drop biomarkers for values with Nan\n"
   ]
  },
  {
   "cell_type": "code",
   "execution_count": null,
   "metadata": {},
   "outputs": [],
   "source": [
    "\n",
    "%matplotlib inline\n",
    "import matplotlib.pyplot as plt\n",
    "import numpy as np\n",
    "import pandas as pd\n",
    "import os\n",
    "import seaborn as sns\n",
    "from utils.helper import manhattanplot, violinplot_overall, scatter_plot, get_negative_values, METADATA_COLS\n"
   ]
  },
  {
   "cell_type": "markdown",
   "metadata": {},
   "source": [
    "## Step 1 10k immu"
   ]
  },
  {
   "cell_type": "code",
   "execution_count": null,
   "metadata": {},
   "outputs": [],
   "source": [
    "whole_blood_common = pd.read_csv('whole_blood/whole_blood_combi_common_columns.csv', index_col=0)\n",
    "print(get_negative_values(whole_blood_common))\n",
    "whole_blood_common.describe()"
   ]
  },
  {
   "cell_type": "code",
   "execution_count": null,
   "metadata": {},
   "outputs": [],
   "source": [
    "pbmc_common = pd.read_csv('pbmc/combi_df_pbmc_ordered_common_cols.csv', index_col=0)\n",
    "print(pbmc_common.shape)\n",
    "print(get_negative_values(pbmc_common))\n",
    "pbmc_common.describe()"
   ]
  },
  {
   "cell_type": "code",
   "execution_count": null,
   "metadata": {},
   "outputs": [],
   "source": [
    "combi_df_all_reduced['METHOD'].unique()"
   ]
  },
  {
   "cell_type": "code",
   "execution_count": null,
   "metadata": {},
   "outputs": [],
   "source": [
    "common_columns = whole_blood_common.columns.intersection(pbmc_common.columns)\n",
    "\n",
    "combi_df_all = pd.concat([whole_blood_common, pbmc_common], ignore_index=True)\n",
    "print(combi_df_all.shape)\n",
    "\n",
    "### Remove possible duplicated subjects and entries with Nan \n",
    "#combi_df_all_reduced = combi_df_all.drop_duplicates()\n",
    "combi_df_all_reduced = combi_df_all.drop_duplicates(subset=['subject_accession'], keep='first')\n",
    "print(combi_df_all_reduced.shape)\n",
    "###TODO Here i reduce all the rnaseq data! Check if thats right. Its already bit strange that there are that many duplicate subjects within the data\n",
    "\n",
    "## drop entries that dont fullfill those min metadata\n",
    "essential_columns = ['age', 'gender', 'subject_accession']\n",
    "combi_df_all_reduced = combi_df_all_reduced.dropna(subset=essential_columns, axis=0, how='any')\n",
    "print(combi_df_all_reduced.shape)\n",
    "\n"
   ]
  },
  {
   "cell_type": "code",
   "execution_count": null,
   "metadata": {},
   "outputs": [],
   "source": [
    "manhattanplot(combi_df_all[combi_df_all['TYPE']=='pbmc'], start_col=9)\n"
   ]
  },
  {
   "cell_type": "code",
   "execution_count": null,
   "metadata": {},
   "outputs": [],
   "source": [
    "combi_df_all_reduced.to_csv('10k_immu/combi_10k_all.csv')"
   ]
  },
  {
   "cell_type": "code",
   "execution_count": null,
   "metadata": {},
   "outputs": [],
   "source": [
    "no_meta_cols = list(set(common_columns) - set(METADATA_COLS))\n",
    "print(len(no_meta_cols))\n",
    "new_order_cols = METADATA_COLS + no_meta_cols\n",
    "print(len(new_order_cols))"
   ]
  },
  {
   "cell_type": "code",
   "execution_count": null,
   "metadata": {},
   "outputs": [],
   "source": [
    "combi_df_common = combi_df_all_reduced[new_order_cols]\n",
    "print(combi_df_common.shape)\n",
    "combi_df_common.to_csv('10k_immu/combi_10k_common.csv')"
   ]
  },
  {
   "cell_type": "code",
   "execution_count": null,
   "metadata": {},
   "outputs": [],
   "source": [
    "# WHAT ????? negative AND max values that are waaaay too off .... \n",
    "# max vals should be MAX 20 (as i log 2 transformed the data)\n",
    "# no negative min vals \n",
    "combi_df_common.describe()"
   ]
  },
  {
   "cell_type": "code",
   "execution_count": null,
   "metadata": {},
   "outputs": [],
   "source": [
    "combi_df_common.head()"
   ]
  },
  {
   "cell_type": "code",
   "execution_count": null,
   "metadata": {},
   "outputs": [],
   "source": [
    "violinplot_overall(combi_df_common, x_topic='gender', y_topic='age', hue_split='gender', bin_name='10k_immu')"
   ]
  },
  {
   "cell_type": "code",
   "execution_count": null,
   "metadata": {},
   "outputs": [],
   "source": [
    "manhattanplot(combi_df_common, start_col=9, save_name='10k_immu/combi_10k_common')\n",
    "### The plot looks okay, because the median per gene is probably corrected by the increased number of subjects"
   ]
  },
  {
   "cell_type": "code",
   "execution_count": null,
   "metadata": {},
   "outputs": [],
   "source": [
    "combi_df_common['METHOD'].unique()"
   ]
  },
  {
   "cell_type": "code",
   "execution_count": null,
   "metadata": {},
   "outputs": [],
   "source": [
    "manhattanplot(combi_df_common[combi_df_common['METHOD']=='rnaseq'], start_col=9)\n"
   ]
  },
  {
   "cell_type": "code",
   "execution_count": null,
   "metadata": {},
   "outputs": [],
   "source": [
    "manhattanplot(combi_df_common[combi_df_common['METHOD']=='array'], start_col=9)\n"
   ]
  },
  {
   "cell_type": "code",
   "execution_count": null,
   "metadata": {},
   "outputs": [],
   "source": [
    "manhattanplot(combi_df_common[combi_df_common['TYPE']=='whole_blood'], start_col=9)\n"
   ]
  },
  {
   "cell_type": "code",
   "execution_count": null,
   "metadata": {},
   "outputs": [],
   "source": [
    "print(combi_df_common[combi_df_common['TYPE']=='pbmc'].shape)\n"
   ]
  },
  {
   "cell_type": "code",
   "execution_count": null,
   "metadata": {},
   "outputs": [],
   "source": [
    "manhattanplot(combi_df_common[combi_df_common['TYPE']=='pbmc'], start_col=9)\n"
   ]
  },
  {
   "cell_type": "markdown",
   "metadata": {},
   "source": []
  },
  {
   "cell_type": "code",
   "execution_count": null,
   "metadata": {},
   "outputs": [],
   "source": [
    "def scatter_plot(df, x_ID='DUSP22', y_ID='age', hue_ID='study_accession'):\n",
    "    plot = sns.jointplot(x=x_ID, y=y_ID, data=df, kind='scatter', hue=hue_ID)\n",
    "    \n",
    "    plot.ax_joint.legend_.remove()\n",
    "\n",
    "    #plot.ax_joint.scatter(df[x_ID], df[y_ID], c=df['study_accession'])\n",
    "    plt.xlabel(f'{x_ID}')\n",
    "    plt.ylabel(f'{y_ID}')\n",
    "   # plt.title(f'{x_ID} - {y_ID}')\n",
    "    plt.show()\n",
    "    \n",
    "scatter_plot(combi_df_common)"
   ]
  },
  {
   "cell_type": "code",
   "execution_count": null,
   "metadata": {},
   "outputs": [],
   "source": []
  }
 ],
 "metadata": {
  "kernelspec": {
   "display_name": "merge_env",
   "language": "python",
   "name": "python3"
  },
  "language_info": {
   "codemirror_mode": {
    "name": "ipython",
    "version": 3
   },
   "file_extension": ".py",
   "mimetype": "text/x-python",
   "name": "python",
   "nbconvert_exporter": "python",
   "pygments_lexer": "ipython3",
   "version": "3.12.1"
  }
 },
 "nbformat": 4,
 "nbformat_minor": 2
}

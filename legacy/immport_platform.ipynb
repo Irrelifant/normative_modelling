{
 "cells": [
  {
   "cell_type": "code",
   "execution_count": null,
   "metadata": {},
   "outputs": [],
   "source": [
    "## imports\n",
    "%matplotlib inline\n",
    "import matplotlib.pyplot as plt\n",
    "import numpy as np\n",
    "import pandas as pd\n",
    "import seaborn as sns"
   ]
  },
  {
   "cell_type": "code",
   "execution_count": null,
   "metadata": {},
   "outputs": [],
   "source": [
    "immport_prefix=\"/var/datasets/ImmPort/immune_RNAseq/ALLSTUDIES/ALLSTUDIES-DR49.2_Tab/Tab/\"\n",
    "\n",
    "\n",
    "print(\"WORKSPACE\")\n",
    "print(\"============================================================\")\n",
    "workspace = pd.read_table(f\"{immport_prefix}/workspace.txt\",sep=\"\\t\")\n",
    "print(workspace.columns)\n",
    "print(workspace.shape)\n",
    "\n",
    "### contains elinks\n",
    "print(\"lk_exp_measurement_tech\")\n",
    "print(\"============================================================\")\n",
    "lk_exp_measurement_tech = pd.read_table(f\"{immport_prefix}/lk_exp_measurement_tech.txt\",sep=\"\\t\")\n",
    "print(lk_exp_measurement_tech.columns)\n",
    "print(lk_exp_measurement_tech.shape)\n",
    "\n",
    "print(\"EXPERIMENT\")\n",
    "print(\"============================================================\")\n",
    "experiment = pd.read_table(f\"{immport_prefix}/experiment.txt\",sep=\"\\t\")\n",
    "print(experiment.columns)\n",
    "print(experiment.shape)\n",
    "experiment.head()\n",
    "\n",
    "lk_exp_measurement_tech.head()"
   ]
  },
  {
   "cell_type": "code",
   "execution_count": null,
   "metadata": {},
   "outputs": [],
   "source": [
    "print(\"EXPSAMPLE_PLUBLIC_REPOSITORY\")\n",
    "print(\"============================================================\")\n",
    "gene_expression = pd.read_table(f\"{immport_prefix}/expsample_public_repository.txt\",sep=\"\\t\")\n",
    "print(gene_expression.columns)\n",
    "print(gene_expression.shape)\n",
    "\n",
    "print(\"EXPSAMPLE\")\n",
    "print(\"============================================================\")\n",
    "expsample = pd.read_table(f\"{immport_prefix}/expsample.txt\",sep=\"\\t\")\n",
    "print(expsample.columns)\n",
    "print(expsample.shape)\n",
    "\n",
    "print(\"EXPERIMENT\")\n",
    "print(\"============================================================\")\n",
    "experiment = pd.read_table(f\"{immport_prefix}/experiment.txt\",sep=\"\\t\")\n",
    "print(experiment.columns)\n",
    "print(experiment.shape)"
   ]
  },
  {
   "cell_type": "code",
   "execution_count": null,
   "metadata": {},
   "outputs": [],
   "source": [
    "expsample[expsample['EXPSAMPLE_ACCESSION']=='ES769464']"
   ]
  },
  {
   "cell_type": "code",
   "execution_count": null,
   "metadata": {},
   "outputs": [],
   "source": [
    "experiment[experiment['EXPERIMENT_ACCESSION']=='EXP4018']"
   ]
  },
  {
   "cell_type": "code",
   "execution_count": null,
   "metadata": {},
   "outputs": [],
   "source": [
    "expsample_gene_expr = pd.merge(gene_expression, expsample, on='EXPSAMPLE_ACCESSION', how='inner')\n",
    "experiment_sample_gene_expr = pd.merge(expsample_gene_expr, experiment, on='EXPERIMENT_ACCESSION', how='outer')\n",
    "print(experiment_sample_gene_expr.shape)\n",
    "experiment_sample_gene_expr.head()\n"
   ]
  },
  {
   "cell_type": "code",
   "execution_count": null,
   "metadata": {},
   "outputs": [],
   "source": [
    "experiment_sample_gene_expr[experiment_sample_gene_expr['EXPERIMENT_ACCESSION']=='EXP13377']"
   ]
  },
  {
   "cell_type": "code",
   "execution_count": null,
   "metadata": {},
   "outputs": [],
   "source": [
    "### RNAseq whole blood\n",
    "# experiment_sample_gene_expr[experiment_sample_gene_expr['STUDY_ACCESSION']=='SDY1412']['REPOSITORY_ACCESSION'].unique() ###GPL16791\tIllumina HiSeq 2500 (Homo sapiens)\n",
    "#experiment_sample_gene_expr[experiment_sample_gene_expr['STUDY_ACCESSION']=='SDY1092']['REPOSITORY_ACCESSION'].unique() ###GPL11154\tIllumina HiSeq 2000 (Homo sapiens)\n",
    "#experiment_sample_gene_expr[experiment_sample_gene_expr['STUDY_ACCESSION']=='SDY1172']['REPOSITORY_ACCESSION'].unique() ###GPL11154\tIllumina HiSeq 2000 (Homo sapiens)\n",
    "#experiment_sample_gene_expr[experiment_sample_gene_expr['STUDY_ACCESSION']=='SDY1381']['REPOSITORY_ACCESSION'].unique() ###GPL11154\tIllumina HiSeq 2000 (Homo sapiens)\n",
    "### RNAseq PBMC -> TODO hat keine Repository ID ? wtf... \n",
    "### fokus auf whole blood... \n",
    "experiment_sample_gene_expr[experiment_sample_gene_expr['STUDY_ACCESSION']=='SDY67']['REPOSITORY_ACCESSION'].unique() ### \n",
    "#experiment_sample_gene_expr[experiment_sample_gene_expr['EXPSAMPLE_ACCESSION']=='ES769464']['REPOSITORY_ACCESSION'].unique() ### \n",
    "### nope, but in immport NGS.PTL5892.docx    -> Illumina HiSeq 2000 (Homo sapiens)\n",
    "#### Microarray whole blood: \n",
    "\n"
   ]
  },
  {
   "cell_type": "code",
   "execution_count": null,
   "metadata": {},
   "outputs": [],
   "source": [
    "#### Function that gives me the platform info for my study. \n",
    "from Bio import Entrez\n",
    "\n",
    "def get_platform_info(accession_numbers):\n",
    "    Entrez.email = 'elias.schreiner@uni-tuebingen.de'\n",
    "    for accession in accession_numbers:\n",
    "        handle = Entrez.esearch(db=\"gds\", term=accession)\n",
    "        record = Entrez.read(handle)\n",
    "        if record[\"IdList\"]:\n",
    "            gds_id = record[\"IdList\"][0]\n",
    "            handle = Entrez.efetch(db=\"gds\", id=gds_id, retmode=\"xml\")\n",
    "            records = Entrez.read(handle)\n",
    "            for record in records:\n",
    "                platform = record[\"Platform_id\"]\n",
    "                title = record[\"title\"]\n",
    "                print(f\"Accession: {accession}, Platform: {platform}, Title: {title}\")\n",
    "        else:\n",
    "            print(f\"No information found for accession: {accession}\")\n",
    "\n",
    "# Example usage:\n",
    "accession_numbers = [\"GSM1234567\", \"GSM9876543\"]\n",
    "get_platform_info(accession_numbers)"
   ]
  },
  {
   "cell_type": "code",
   "execution_count": null,
   "metadata": {},
   "outputs": [],
   "source": []
  }
 ],
 "metadata": {
  "kernelspec": {
   "display_name": "Python 3",
   "language": "python",
   "name": "python3"
  },
  "language_info": {
   "codemirror_mode": {
    "name": "ipython",
    "version": 3
   },
   "file_extension": ".py",
   "mimetype": "text/x-python",
   "name": "python",
   "nbconvert_exporter": "python",
   "pygments_lexer": "ipython3",
   "version": "3.12.1"
  }
 },
 "nbformat": 4,
 "nbformat_minor": 2
}

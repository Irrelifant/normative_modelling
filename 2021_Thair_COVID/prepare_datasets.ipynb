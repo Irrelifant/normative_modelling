{
 "cells": [
  {
   "cell_type": "markdown",
   "metadata": {},
   "source": [
    "## Problems\n",
    "## TODO:\n",
    "### understand the .rds import\n",
    "### find out where those ~600 samples from the paper went... \n",
    "##### -> when were from other papers with infectious data. We could use that as well but i guess the focus on corona is higher.. \n",
    "### ensembl IDs\n",
    "\n",
    "## attached .rds file: 86 subjects only! GEO accession for more info GSE152641 \n",
    "Total RNA sequencing from whole blood of 62 COVID-19 patients and 24 healthy controls was compared to publicly available expression data from other infections.\"\n",
    "\n",
    "- Whole blood \n",
    "62 COVID\n",
    "24 HD\n",
    "\n",
    "## inflammatrix.rds vs GSE152641_Inflammatix_COVID19_counts_entrez.csv.gz\t"
   ]
  },
  {
   "cell_type": "code",
   "execution_count": null,
   "metadata": {},
   "outputs": [],
   "source": [
    "import pandas as pd\n",
    "import numpy as np \n",
    "import matplotlib.pyplot as plt\n",
    "import seaborn as sns\n",
    "import os\n",
    "from filepath import *\n"
   ]
  },
  {
   "cell_type": "markdown",
   "metadata": {},
   "source": [
    "# inflammatrix.rds"
   ]
  },
  {
   "cell_type": "code",
   "execution_count": null,
   "metadata": {},
   "outputs": [],
   "source": [
    "import pyreadr\n",
    "# Thanks to: https://stackoverflow.com/questions/40996175/loading-a-rds-file-in-pandas \n",
    "\n",
    "thair_data = pyreadr.read_r(PATH_THAIR2021_DATA) # also works for RData\n",
    "\n",
    "# done! \n",
    "# result is a dictionary where keys are the name of objects and the values python\n",
    "# objects. In the case of Rds there is only one object with None as key\n",
    "#df = thair_data[None] # extract the pandas data frame \n",
    "thair_data"
   ]
  },
  {
   "cell_type": "code",
   "execution_count": null,
   "metadata": {},
   "outputs": [],
   "source": [
    "import rpy2.robjects as robjects\n",
    "from rpy2.robjects import pandas2ri\n",
    "\n",
    "pandas2ri.activate()\n",
    "\n",
    "readRDS = robjects.r['readRDS']\n",
    "r_data = readRDS(PATH_THAIR2021_DATA)\n",
    "readRDS\n"
   ]
  },
  {
   "cell_type": "code",
   "execution_count": null,
   "metadata": {},
   "outputs": [],
   "source": [
    "print(r_data[0])\n",
    "print(r_data[1])\n",
    "print(r_data[2])\n",
    "\n",
    "\n",
    "if isinstance(r_data, robjects.vectors.ListVector):\n",
    "  df_list = []\n",
    "  for item in r_data:\n",
    "    if isinstance(item, robjects.vectors.DataFrame):\n",
    "      df_list.append(pandas2ri.rpy2py(item))\n",
    "    else:\n",
    "      # Handle other types if necessary\n",
    "      pass\n",
    "  # Example: Combine all dataframes in the list into a single dataframe (if they are compatible)\n",
    "  df = pd.concat(df_list, ignore_index=True)\n",
    "else:\n",
    "  # Assuming r_data is a DataFrame-like object\n",
    "  df = pandas2ri.rpy2py(r_data)\n",
    "df\n",
    "type(r_data)\n",
    "#df = pandas2ri.ri2py(r_data)\n",
    "# do something with the dataframe"
   ]
  },
  {
   "cell_type": "code",
   "execution_count": null,
   "metadata": {},
   "outputs": [],
   "source": [
    "def r_df_to_pd_df(r_df, index=0):\n",
    "  print(type(r_df[index]))\n",
    "  from rpy2.robjects import pandas2ri\n",
    "  pandas2ri.activate()\n",
    "  return  pandas2ri.rpy2py(r_df[index])\n",
    "    \n",
    "    \n",
    "metadata_df = r_df_to_pd_df(r_data, index=1) #metadata\n",
    "print(metadata_df.shape)\n",
    "metadata_df.head()"
   ]
  },
  {
   "cell_type": "markdown",
   "metadata": {},
   "source": [
    "### preproc steps (by papers): \n",
    "\n",
    "Normalization and voom transformation of RNAseq counts\n",
    "\n",
    "Low-expressed genes were filtered using the following cutoff: max counts per million\n",
    "(CPM) less than 5 across all 86 samples. Normalization factors were obtained using\n",
    "edgeR’s Trimmed Mean of M values (TMM) method (R package v.3.28.0) (Robinson,\n",
    "McCarthy and Smyth, 2009). The voom method (limma R package v.3.41.18) was then\n",
    "used to transform counts into normalized log2-CPM (Supplementary Figure 1)(Ritchie\n",
    "et al., 2015). \n",
    "\n",
    "Non-COVID-19 viral dataset processing\n",
    "\n",
    "Raw microarray data for each dataset was renormalized (when available) using\n",
    "standardized methods. Affymetrix arrays were renormalized using the robust multichip\n",
    "average (RMA) method. Illumina, Agilent, GE, and other commercial arrays were\n",
    "renormalized via normal-exponential background correction followed by quantile\n",
    "normalization. Data were log2-transformed. Probe to gene (Entrez ID) summarization\n",
    "was performed within each study using the mean signal intensity for probes mapping\n",
    "to a single gene. While there is no consensus in the community, we have used this\n",
    "method across a multitude of studies, being that if more than one probe mapped to a\n",
    "specific gene, probes were summarized with a fixed-effects model because a gene\n",
    "within a sample can have only one expression value(Ramasamy et al., 2008)."
   ]
  },
  {
   "cell_type": "code",
   "execution_count": null,
   "metadata": {},
   "outputs": [],
   "source": [
    "preproc_array = list(r_data[0])\n",
    "preproc_df = pd.DataFrame(preproc_array)\n",
    "print(preproc_df.shape)\n",
    "preproc_df.head()"
   ]
  },
  {
   "cell_type": "code",
   "execution_count": null,
   "metadata": {},
   "outputs": [],
   "source": [
    "counts_array = list(r_data[2])\n",
    "counts_df = pd.DataFrame(counts_array)\n",
    "print(counts_df.shape)\n",
    "counts_df.head()"
   ]
  },
  {
   "cell_type": "markdown",
   "metadata": {},
   "source": [
    "# GSE152641_Inflammatix_COVID19_counts_entrez.csv.gz\t\n",
    "### This seems to be a bit better. The amount of entries matches rather the ensamble IDs \n",
    "### Also, i think for the -rds files we got some kind of high quality reads, i did nopt really find a good emplaination for it tho ... "
   ]
  },
  {
   "cell_type": "code",
   "execution_count": null,
   "metadata": {},
   "outputs": [],
   "source": [
    "df_csv = pd.read_csv(PATH_THAIR2021_GEO)\n",
    "print(df_csv)\n",
    "df_csv.head()"
   ]
  },
  {
   "cell_type": "markdown",
   "metadata": {},
   "source": [
    "### Problem here: No annotation twhat gene ids are used. from the plain number my guess goes to Entrez IDs"
   ]
  },
  {
   "cell_type": "code",
   "execution_count": null,
   "metadata": {},
   "outputs": [],
   "source": [
    "import mygene\n",
    "\n",
    "df_csv = df_csv.rename(columns={df_csv.columns[0]: 'Entrez'})\n",
    "\n",
    "mg = mygene.MyGeneInfo()\n",
    "entrez_ids = df_csv.iloc[:, 0].tolist()\n",
    "query_results = mg.querymany(entrez_ids, scopes='entrezgene', fields='ensembl.gene', species='human', returnall=True)\n",
    "query_results\n"
   ]
  },
  {
   "cell_type": "code",
   "execution_count": null,
   "metadata": {},
   "outputs": [],
   "source": [
    "query_results['out']"
   ]
  },
  {
   "cell_type": "code",
   "execution_count": null,
   "metadata": {},
   "outputs": [],
   "source": [
    "query_results['out'][90]['ensembl']['gene']"
   ]
  },
  {
   "cell_type": "code",
   "execution_count": null,
   "metadata": {},
   "outputs": [],
   "source": [
    "# no hit for: ['9220', '10638', '10896', '23285', '84953', '285464', '286223', '338809', '388289', '388813', '3924\n",
    "mapping = {str(res['query']): res['ensembl'][0]['gene'] if isinstance(res.get('ensembl'), list) else res['ensembl']['gene'] \n",
    "           for res in query_results['out'] if 'ensembl' in res}\n",
    "mapping_df = pd.DataFrame(list(mapping.items()), columns=['Entrez_Gene_ID', 'Ensembl_Gene_ID'])\n",
    "mapping_df.head()"
   ]
  },
  {
   "cell_type": "markdown",
   "metadata": {},
   "source": [
    "Quantitation: Mapped reads were quantified as per Ensembl transcript ID as defined in\n",
    "GENCODE v32 annotation. Reads were summed across Ensembl transcript IDs\n",
    "mapping to Entrez gene IDs in order to compare them with other viral data assayed by\n",
    "microarrays (AnnotationDbi from Bioconductor)(Pagès et al., 2017).\n",
    "\n",
    "As entrez ID´s could match to the indexes, and are mentioned in the methods part oif the paper i guess i need to map to them "
   ]
  },
  {
   "cell_type": "code",
   "execution_count": null,
   "metadata": {},
   "outputs": [],
   "source": [
    "df_csv['Entrez'] = df_csv['Entrez'].astype(str)\n",
    "mapping_df['Entrez_Gene_ID'] = mapping_df['Entrez_Gene_ID'].astype(str)"
   ]
  },
  {
   "cell_type": "code",
   "execution_count": null,
   "metadata": {},
   "outputs": [],
   "source": [
    "merged_df = df_csv.merge(mapping_df, how='left', left_on='Entrez', right_on='Entrez_Gene_ID')\n",
    "merged_df.head()\n"
   ]
  },
  {
   "cell_type": "code",
   "execution_count": null,
   "metadata": {},
   "outputs": [],
   "source": [
    "## As I decided to use the GOE data insteal of the .rds file. I now need metadata and only seem to see age and sex info in the regarding study accession. Therefore i try to automate the process by using Entrez from Biopython \n",
    "\n",
    "import pandas as pd\n",
    "from Bio import Entrez\n",
    "\n",
    "\n",
    "Entrez.email = \"elias.schreiner@uni-tuebingen.de\"\n",
    "data = {\n",
    "  'StudyAccession': ['GSE152641'],\n",
    "  'SubjectAccession': ['GSM4622627']\n",
    "}\n",
    "df = pd.DataFrame(data)\n",
    "df.head()\n"
   ]
  },
  {
   "cell_type": "code",
   "execution_count": null,
   "metadata": {},
   "outputs": [],
   "source": [
    "import sys\n",
    "sys.path.append(os.path.abspath(os.path.join('..', 'utils')))\n",
    "from geo_utils import read_prefixes_from_metadata_txt \n",
    "\n",
    "sample_metadata_df = read_prefixes_from_metadata_txt(PATH_THAIR2021_METADATA)\n",
    "sample_metadata_df = sample_metadata_df.applymap(lambda x: x.strip('\"') if isinstance(x, str) else x)\n",
    "\n",
    "sample_metadata_df.head()\n"
   ]
  },
  {
   "cell_type": "code",
   "execution_count": null,
   "metadata": {},
   "outputs": [],
   "source": [
    "merged_df_T = merged_df.T\n",
    "merged_df_T.columns = merged_df_T.iloc[-1]\n",
    "merged_df_T.rename(columns={merged_df_T.columns[0]: 'Subject_ID'}, inplace=True)\n",
    "merged_df_T.reset_index(inplace=True)\n",
    "merged_df_T.head()"
   ]
  },
  {
   "cell_type": "code",
   "execution_count": null,
   "metadata": {},
   "outputs": [],
   "source": [
    "combi_df = merged_df_T.merge(sample_metadata_df, how='left', left_on='index', right_on='title')\n",
    "combi_df.head()"
   ]
  },
  {
   "cell_type": "code",
   "execution_count": null,
   "metadata": {},
   "outputs": [],
   "source": [
    "combi_df.to_csv('thair_combi_covid.csv')"
   ]
  },
  {
   "cell_type": "markdown",
   "metadata": {},
   "source": [
    "### R Section to compare"
   ]
  },
  {
   "cell_type": "code",
   "execution_count": null,
   "metadata": {},
   "outputs": [],
   "source": []
  }
 ],
 "metadata": {
  "kernelspec": {
   "display_name": "merge_env",
   "language": "python",
   "name": "python3"
  },
  "language_info": {
   "codemirror_mode": {
    "name": "ipython",
    "version": 3
   },
   "file_extension": ".py",
   "mimetype": "text/x-python",
   "name": "python",
   "nbconvert_exporter": "python",
   "pygments_lexer": "ipython3",
   "version": "3.11.5"
  }
 },
 "nbformat": 4,
 "nbformat_minor": 2
}

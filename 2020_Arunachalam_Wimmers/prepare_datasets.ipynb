{
 "cells": [
  {
   "cell_type": "markdown",
   "metadata": {},
   "source": [
    "One dataset fits well but lacka age information (GSE152418)\n",
    "        Werde  nicht alles mappen können, habe zwar eine xlsx file von flo bekommen, dabei sind aber nicht alle samples enthalten (nCov034) z.b. nicht... denke ich kann ein mapping hinbekommen, aber mit abstrichen\n",
    "The other one is single-cell but does not lack ages (fokus for now is bulk)"
   ]
  },
  {
   "cell_type": "code",
   "execution_count": null,
   "metadata": {},
   "outputs": [],
   "source": [
    "import pandas as pd\n",
    "import os\n",
    "import sys\n",
    "from scipy.io import mmread\n",
    "sys.path.append(os.path.abspath(os.path.join('..', 'utils')))\n",
    "from geo_utils import read_prefixes_from_metadata_txt\n",
    "from filepath import *\n"
   ]
  },
  {
   "cell_type": "code",
   "execution_count": null,
   "metadata": {},
   "outputs": [],
   "source": [
    "counts_gse152418 = pd.read_csv(PATH_ARUNACHALAM2020_RAWDATA, sep='\\t')\n",
    "counts_gse152418_T = counts_gse152418.T\n",
    "counts_gse152418_T.columns = counts_gse152418_T.iloc[0,:]\n",
    "counts_gse152418_T = counts_gse152418_T.drop(counts_gse152418_T.index[0])\n",
    "print(counts_gse152418.shape)\n",
    "\n",
    "counts_gse152418_T.head()"
   ]
  },
  {
   "cell_type": "code",
   "execution_count": null,
   "metadata": {},
   "outputs": [],
   "source": [
    "\n",
    "metadata_txt_GSE152418 = read_prefixes_from_metadata_txt(PATH_ARUNACHALAM2020_GEOMETADATA)\n",
    "print(metadata_txt_GSE152418.shape)\n",
    "metadata_txt_GSE152418.head()"
   ]
  },
  {
   "cell_type": "code",
   "execution_count": null,
   "metadata": {},
   "outputs": [],
   "source": [
    "merged_df_GSE152418 = pd.merge(metadata_txt_GSE152418, counts_gse152418_T, left_on='title', right_index=True)"
   ]
  },
  {
   "cell_type": "code",
   "execution_count": null,
   "metadata": {},
   "outputs": [],
   "source": [
    "print(merged_df_GSE152418.shape)\n",
    "merged_df_GSE152418.head()\n"
   ]
  },
  {
   "cell_type": "code",
   "execution_count": null,
   "metadata": {},
   "outputs": [],
   "source": [
    "merged_df_GSE152418.to_csv(PATH_ARUNACHALAM2020_FINALDESTINATION)"
   ]
  },
  {
   "cell_type": "code",
   "execution_count": null,
   "metadata": {},
   "outputs": [],
   "source": [
    "merged_df_GSE152418[['ID_1', 'ID_2']] = merged_df_GSE152418['title'].str.split('_', expand=True, n=1)\n",
    "merged_df_GSE152418.head()"
   ]
  },
  {
   "cell_type": "code",
   "execution_count": null,
   "metadata": {},
   "outputs": [],
   "source": [
    "\n",
    "#### Then i need mapping for the ESEMBLEID´s to gene descriptors. I used this: https://www.biotools.fr/mouse/ensembl_symbol_converter \n",
    "# TODO @Elias Schreiner: please rename after you removed your home dir from the path!\n",
    "ensambleid_mapping = pd.read_csv('../utils/ENSEMBLID_mapping.txt', sep='\\t')\n",
    "mapping_dict_ensemblid = ensambleid_mapping.set_index('ENSEMBLID')['Gene'].to_dict()\n",
    "counts_gse152418_T.columns = counts_gse152418_T.columns.map(mapping_dict_ensemblid)\n"
   ]
  },
  {
   "cell_type": "code",
   "execution_count": null,
   "metadata": {},
   "outputs": [],
   "source": [
    "print(counts_gse152418_T.shape)\n",
    "counts_gse152418_T.head()"
   ]
  },
  {
   "cell_type": "code",
   "execution_count": null,
   "metadata": {},
   "outputs": [],
   "source": [
    "### I got data per mail from Flo Wimmers:\n",
    "\n",
    "# TODO @Elias Schreiner: please rename after you removed your home dir from the path!\n",
    "metadata_flo_gse152418_path = \"/home/eliasschreiner/PROJEKT/2020_Arunachalam_Wimmers/arunachalam_subjects.xlsx\"\n",
    "metadata_gse152418 = pd.read_excel(metadata_flo_gse152418_path)\n",
    "print(metadata_gse152418.shape)\n",
    "print(f\"Unique patient ids in metadata: {len(list(metadata_gse152418['Patient_ID'].unique()))}\")\n",
    "metadata_gse152418.iloc[74:111,:]\n",
    "\n",
    "metadata_gse152418.head()\n",
    "metadata_gse152418.iloc[73:112,:].head()\n",
    "# Conditionally transform the 'original_id' column to match the 'ID_2' format only if it contains \"(Draw X)\"\n",
    "metadata_gse152418['ID_2'] = metadata_gse152418['Patient_ID'].astype(str).apply(\n",
    "  lambda x: x if pd.isnull(x) or '(Draw ' not in x else x.replace(' (Draw ', '-Draw-').replace(')', '')\n",
    ")\n"
   ]
  },
  {
   "cell_type": "code",
   "execution_count": null,
   "metadata": {},
   "outputs": [],
   "source": [
    "merged_df_GSE152418_w_age_df_left = pd.merge(merged_df_GSE152418, metadata_gse152418, on='ID_2', how='left', indicator=True)\n",
    "print(merged_df_GSE152418_w_age_df.shape)\n",
    "merged_df_GSE152418_w_age_df[merged_df_GSE152418_w_age_df['_merge'] == 'left_only']['title']\n",
    "# unmergeable: \n",
    "''' \n",
    "0               S145_nCOV001_C\n",
    "7     S154_nCoV0010EUHM-Draw-1\n",
    "8             S155_nCOV021EUHM\n",
    "9      S156_nCOV024EUHM-Draw-1\n",
    "10           S157_nCOV0029EUHM\n",
    "11     S175_nCoV024EUHM-Draw-2\n",
    "15     S179_nCoV033EUHM-Draw-1\n",
    "16     S180_nCoV034EUHM-Draw-1\n",
    "30                 S182_SHXA10\n",
    "32                 S184_SHXA18\n",
    "34                 S186_SHXA14\n",
    "'''\n",
    "### I guess i could manually add: S145_nCOV001_C, S154_nCoV0010EUHM-Draw-1 and S157_nCOV0029EUHM(probably a type and a 0 was added), S155_nCOV021EUHM (as there is only 1 draw), \n",
    "merged_df_GSE152418_w_age_df_matches = merged_df_GSE152418_w_age_df[merged_df_GSE152418_w_age_df['_merge'] != 'left_only']\n",
    "print(merged_df_GSE152418_w_age_df_matches.shape)\n",
    "merged_df_GSE152418_w_age_df_matches.head()"
   ]
  },
  {
   "cell_type": "code",
   "execution_count": null,
   "metadata": {},
   "outputs": [],
   "source": [
    "merged_df_GSE152418_w_age_df_matches.to_csv(\"2020_aranachalam_GSE152418_combi.csv\")"
   ]
  },
  {
   "cell_type": "code",
   "execution_count": null,
   "metadata": {},
   "outputs": [],
   "source": []
  },
  {
   "cell_type": "code",
   "execution_count": null,
   "metadata": {},
   "outputs": [],
   "source": []
  },
  {
   "cell_type": "code",
   "execution_count": null,
   "metadata": {},
   "outputs": [],
   "source": [
    "metadata_gse152418\n",
    "\n",
    "\n",
    "\n",
    "\n",
    "# ### Metadata from the SRA Run tool -> i feel like this metadata is wrong... . Currently the SRA selector tool lacka age... \n",
    "# -> Flo fragen ob er hier noch infos zu der subjects ages hat \n",
    "\n",
    "\n",
    "## was for the other GSE sample which is single cell. .\n",
    "# metadata_file = gse152418_folder + '/metadata.txt'\n",
    "# metadata_gse152418 = pd.read_csv(metadata_file)\n",
    "# print(metadata_gse152418.shape)\n",
    "# metadata_gse152418.head()\n"
   ]
  },
  {
   "cell_type": "code",
   "execution_count": null,
   "metadata": {},
   "outputs": [],
   "source": [
    "### Oooookay my mapping did not work out, the GSM from meta differs from the downloaded table\n",
    "metadata_gse152418[metadata_gse152418['Sample Name']=='GSM4614987']"
   ]
  },
  {
   "cell_type": "code",
   "execution_count": null,
   "metadata": {},
   "outputs": [],
   "source": [
    "#### IMPORTANT; We merge per sample, NOT per subject here! \n",
    "combi_df_all_meta = pd.merge(counts_gse152418_T, metadata_gse152418, left_on='ID', right_on='Sample Name', how='left')\n",
    "print(combi_df_all_meta.shape)\n",
    "combi_df_all_meta.head()\n",
    "#### großen all meta file saven\n",
    "#### reduzieren um mit 10kimmu zu matchen\n",
    "\n",
    "\n",
    "#### dann evtl \"optimieren\"\n"
   ]
  },
  {
   "cell_type": "code",
   "execution_count": null,
   "metadata": {},
   "outputs": [],
   "source": []
  },
  {
   "cell_type": "code",
   "execution_count": null,
   "metadata": {},
   "outputs": [],
   "source": []
  },
  {
   "cell_type": "code",
   "execution_count": null,
   "metadata": {},
   "outputs": [],
   "source": []
  },
  {
   "cell_type": "code",
   "execution_count": null,
   "metadata": {},
   "outputs": [],
   "source": []
  },
  {
   "cell_type": "markdown",
   "metadata": {},
   "source": []
  },
  {
   "cell_type": "code",
   "execution_count": null,
   "metadata": {},
   "outputs": [],
   "source": [
    "totalseq_df = pd.read_csv(gse152418_folder + 'geo/.csv')\n"
   ]
  },
  {
   "cell_type": "code",
   "execution_count": null,
   "metadata": {},
   "outputs": [],
   "source": [
    "## Biomarkers from \n",
    "print(f'Biomarkers: {len(totalseq_df['Specificity'].unique())}')\n",
    "spec_names = totalseq_df['Specificity'].unique()\n",
    "totalseq_df['Specificity'].unique()\n",
    "# what is: \n",
    "## Catalog (table headline), and Clone ?\n",
    "## κ Isotype Control ?\n",
    "# Not important but: Can you even count an antibody as a biomarker ? \n",
    "# Count try: {entry: totalseq_df['Specificity'].value_counts().get(entry, 0) for entry in spec_names}"
   ]
  },
  {
   "cell_type": "markdown",
   "metadata": {},
   "source": []
  },
  {
   "cell_type": "code",
   "execution_count": null,
   "metadata": {},
   "outputs": [],
   "source": [
    "# TODO @Elias Schreiner: please rename after you removed your home dir from the path!\n",
    "features_df = pd.read_csv(gse152418_folder + 'geo/GSE155673_features.tsv', sep='\\t')\n",
    "print(features_df.shape)\n",
    "features_df.head()\n",
    "#### HAS NO COLUMNSNAMES -> 1. Gene ID Ensample id, 2. Gene symbol , 3. Descriptor ?\n",
    "### scTranscriptsome pro proble gibts pro zelle einen wert.\n",
    "###### spalte: sc "
   ]
  },
  {
   "cell_type": "code",
   "execution_count": null,
   "metadata": {},
   "outputs": [],
   "source": [
    "\n",
    "# TODO @Elias Schreiner: please rename after you removed your home dir from the path!\n",
    "barcodes_df = pd.read_csv(gse152418_folder + 'geo/GSE155673_barcodes.tsv', sep='\\t')\n",
    "barcodes_df.head()"
   ]
  },
  {
   "cell_type": "code",
   "execution_count": null,
   "metadata": {},
   "outputs": [],
   "source": [
    "### COV 1 -> this is a subject\n",
    "\n",
    "# TODO @Elias Schreiner: please rename after you removed your home dir from the path!\n",
    "cov1_barcodes_df =  pd.read_csv(gse152418_folder + 'geo/GSE155673_cov01_barcodes.tsv', sep='\\t')\n",
    "cov1_barcodes_df.head()"
   ]
  },
  {
   "cell_type": "code",
   "execution_count": null,
   "metadata": {},
   "outputs": [],
   "source": [
    "\n",
    "# TODO @Elias Schreiner: please rename after you removed your home dir from the path!\n",
    "sparse_matrix = mmread(gse152418_folder+ 'geo/GSE155673_cov01_matrix.mtx')\n",
    "dense_matrix = sparse_matrix.todense()\n",
    "cov1_matrix_as_df = pd.DataFrame(dense_matrix)\n",
    "print(cov1_matrix_as_df.shape)\n",
    "cov1_matrix_as_df.head()"
   ]
  },
  {
   "cell_type": "code",
   "execution_count": null,
   "metadata": {},
   "outputs": [],
   "source": []
  }
 ],
 "metadata": {
  "kernelspec": {
   "display_name": "base",
   "language": "python",
   "name": "python3"
  },
  "language_info": {
   "codemirror_mode": {
    "name": "ipython",
    "version": 3
   },
   "file_extension": ".py",
   "mimetype": "text/x-python",
   "name": "python",
   "nbconvert_exporter": "python",
   "pygments_lexer": "ipython3",
   "version": "3.12.1"
  }
 },
 "nbformat": 4,
 "nbformat_minor": 2
}

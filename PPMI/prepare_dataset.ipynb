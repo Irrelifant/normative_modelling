{
 "cells": [
  {
   "cell_type": "markdown",
   "metadata": {},
   "source": [
    "### PPMI Parkinsons set\n",
    "\n",
    "In the extracted files count folder: \n",
    "~9800 count files from Phase1 and PHase 2 of IR2 and IR3 (checked for IR1 ... )\n",
    "I split them into different folders to make scripts run easier:\n",
    "\n",
    "phase1:\n",
    "    IR2:\n",
    "    IR3:\n",
    "phase2:\n",
    "    IR2\n",
    "    IR3\n",
    "\n",
    "I want to use IR3 release as its the latest release of the data BUT kind of get an understanding of the dataset by extracting both ... \n",
    "\n",
    "\n",
    "Sample names are period delimited with the following fields:\n",
    "    FIELD 1: study and release version (PPMI-phase1-IR1) -> removed \n",
    "    FIELD 2: individualID or PATNO (e.g. 3385)\n",
    "    FIELD 3: visit (e.g. V08)\n",
    "    FIELD 4: sampleID (e.g. PP00175168)\n",
    "    FIELD 5: sequencing facility ID (e.g. 5104-SL-0001)\n",
    "    FIELD 6: assay (longRNA-NEBKAP)\n",
    "    FIELD 7: analysis (salmon-gtf or starTG) \n",
    "    FIELD 8+: optional compression tar/gz and additional file sub-dividers\n",
    "\n",
    "\n",
    "Visit Code\n",
    "Visit Description\n",
    "Number of Subjects\n",
    "SC\n",
    "Screening\n",
    "5525\n",
    "BL\n",
    "Baseline\n",
    "2986\n",
    "V01\n",
    "Month 3\n",
    "8\n",
    "V02\n",
    "Month 6\n",
    "46\n",
    "V03\n",
    "Month 9\n",
    "0\n",
    "V04\n",
    "Month 12\n",
    "1418\n",
    "V05\n",
    "Month 18\n",
    "22\n",
    "V06\n",
    "Month 24\n",
    "1150\n",
    "V07\n",
    "Month 30\n",
    "0\n",
    "V08\n",
    "Month 36\n",
    "87\n",
    "V09\n",
    "Month 42\n",
    "0\n",
    "V10\n",
    "Month 48\n",
    "\n"
   ]
  },
  {
   "cell_type": "code",
   "execution_count": null,
   "metadata": {},
   "outputs": [],
   "source": []
  },
  {
   "cell_type": "code",
   "execution_count": null,
   "metadata": {},
   "outputs": [],
   "source": [
    "%load_ext autoreload\n",
    "%autoreload 2\n",
    "\n",
    "import pandas as pd\n",
    "import numpy as np \n",
    "import matplotlib.pyplot as plt\n",
    "import seaborn as sns\n",
    "import os\n",
    "import sys\n",
    "from scipy.io import mmread\n",
    "sys.path.append(os.path.abspath(os.path.join('..', 'utils')))\n",
    "from helper import assemble_single_featureCounts_outputs_to_df\n",
    "import geo_utils\n",
    "from geo_utils import read_prefixes_from_metadata_txt\n",
    "from filepath import *\n",
    "import glob\n",
    "%autoreload 2"
   ]
  },
  {
   "cell_type": "code",
   "execution_count": null,
   "metadata": {},
   "outputs": [],
   "source": [
    "file_list = glob.glob(os.path.join(PPMI_P1_IR3, \"*.txt\"))\n",
    "len(file_list)"
   ]
  },
  {
   "cell_type": "code",
   "execution_count": null,
   "metadata": {},
   "outputs": [],
   "source": [
    "# NOTE The follwing 2 operations took 50min each, i saved both in work ppmi and will continue from there on.\n",
    "#p2_ir3_df = assemble_single_featureCounts_outputs_to_df(PPMI_P1_IR3) # depending on the input list this may take a long while\n",
    "#P1_IR3_df.to_csv(BASE_PATH +  '/ppmi/combi_p1.csv')\n",
    "#p2_ir3_df = assemble_single_featureCounts_outputs_to_df(PPMI_P2_IR3) # depending on the input list this may take a long while\n",
    "#p2_ir3_df.to_csv(BASE_PATH +  '/ppmi/combi_p1.csv')"
   ]
  },
  {
   "cell_type": "code",
   "execution_count": null,
   "metadata": {},
   "outputs": [],
   "source": [
    "#NOTE still takes like 5 min\n",
    "p1_ir3_df = pd.read_csv(BASE_PATH +  '/ppmi/combi_p1.csv')\n",
    "print(p1_ir3_df.shape)\n",
    "p1_ir3_df.head()"
   ]
  },
  {
   "cell_type": "code",
   "execution_count": null,
   "metadata": {},
   "outputs": [],
   "source": [
    "p2_ir3_df = pd.read_csv(BASE_PATH +  '/ppmi/combi_p2.csv')\n",
    "print(p2_ir3_df.shape)\n",
    "p2_ir3_df.head()"
   ]
  },
  {
   "cell_type": "code",
   "execution_count": null,
   "metadata": {},
   "outputs": [],
   "source": [
    "ir3_combi_df =pd.concat([p1_ir3_df, p2_ir3_df], axis=1)\n",
    "print(ir3_combi_df.shape)\n",
    "ir3_combi_df = ir3_combi_df.iloc[:, 1:]\n",
    "ir3_combi_df.head()"
   ]
  },
  {
   "cell_type": "code",
   "execution_count": null,
   "metadata": {},
   "outputs": [],
   "source": [
    "#ir3_combi_df.to_csv(BASE_PATH + '/ppmi/combi.csv')\n",
    "ir3_combi_df = pd.read_csv(BASE_PATH + '/ppmi/combi.csv')"
   ]
  },
  {
   "cell_type": "code",
   "execution_count": null,
   "metadata": {},
   "outputs": [],
   "source": [
    "ir3_combi_df[ir3_combi_df['PATNO']==1009]"
   ]
  },
  {
   "cell_type": "code",
   "execution_count": null,
   "metadata": {},
   "outputs": [],
   "source": [
    "#NOTE Investigation only \n",
    "'''from collections import Counter\n",
    "\n",
    "split_entries=[]\n",
    "columns_combi = ir3_combi_df.columns\n",
    "for entry in columns_combi:\n",
    "    split_entries.extend(entry.split('.'))\n",
    "counter = Counter(split_entries)\n",
    "# Sort occurrences in descending order\n",
    "sorted_occurrences = counter.most_common()\n",
    "\n",
    "# Print all occurrences in descending order\n",
    "for element, count in sorted_occurrences:\n",
    "    print(f\"{element}: {count}\")\n",
    "'''\n",
    "### OUT;\n",
    "''' \n",
    "BL: 1530  # BASELINE \n",
    "V04: 873 Visit 4\n",
    "V02: 861 Visit 2\n",
    "V06: 843\n",
    "V08: 543\n",
    "POOL: 106\n",
    "'''"
   ]
  },
  {
   "cell_type": "code",
   "execution_count": null,
   "metadata": {},
   "outputs": [],
   "source": [
    "meta_ir3 = pd.read_csv(PPMI_IR3_META)\n",
    "print(meta_ir3.shape)\n",
    "meta_ir3.head()\n",
    "\n",
    "#1009.POOL.0003202425.5104-SL-0095\t\n",
    "\n",
    "#PATNO.CLINICAL_EVENT.Specimen Bar Code.1.HudAlphaID\n",
    "meta_ir3.head()"
   ]
  },
  {
   "cell_type": "code",
   "execution_count": null,
   "metadata": {},
   "outputs": [],
   "source": [
    "meta_ir3['PATNO'].nunique()\n",
    "meta_ir3_BL = meta_ir3[meta_ir3['CLINICAL_EVENT'] == 'BL']\n",
    "meta_ir3_BL.shape"
   ]
  },
  {
   "cell_type": "code",
   "execution_count": null,
   "metadata": {},
   "outputs": [],
   "source": [
    "# I try to sort out the Baseline (BL) columns as i want to start with non longitudinal data first\n",
    "#TODO find out what POOL is ... according to the paper there are single cell poolings. Neither the data doc seemed to helphere: https://ida.loni.usc.edu/download/files/study/a30291c2-12ca-41fa-a1a4-da9fad1682b3/file/ppmi/PPMI_Data_User_Guide_v.1.2_20240627.pdf \n",
    "\n",
    "\n",
    "filtered_columns = [col for col in ir3_combi_df.columns if len(col.split('.')) > 1 and col.split('.')[1] == 'BL']\n",
    "ir3_combi_df_BL = ir3_combi_df[filtered_columns]\n",
    "ir3_combi_df_BL.columns = [col.split('.')[0] for col in ir3_combi_df_BL.columns]\n",
    "ir3_combi_df_BL_T = ir3_combi_df_BL.T\n",
    "ir3_combi_df_BL_T.columns = list(ir3_combi_df['Geneid'])\n",
    "ir3_combi_df_BL_T['PATNO'] = ir3_combi_df_BL_T.index\n",
    "print(ir3_combi_df_BL_T.shape)\n",
    "ir3_combi_df_BL_T.head()\n",
    "\n"
   ]
  },
  {
   "cell_type": "code",
   "execution_count": null,
   "metadata": {},
   "outputs": [],
   "source": [
    "#meta_ir3_BL['PATNO'] = meta_ir3_BL['PATNO'].astype(str)\n",
    "meta_ir3['PATNO'] = meta_ir3['PATNO'].astype(str)\n",
    "ir3_combi_df_BL_w_meta = pd.merge(meta_ir3, ir3_combi_df_BL_T, left_on='PATNO', right_on='PATNO', how='right') # As I wantz the baseline only\n",
    "print(ir3_combi_df_BL_w_meta.shape)\n",
    "\n",
    "ir3_combi_df_BL_w_meta.head()\n"
   ]
  },
  {
   "cell_type": "code",
   "execution_count": null,
   "metadata": {},
   "outputs": [],
   "source": [
    "ir3_combi_df_BL_w_meta.to_csv(BASE_PATH + '/ppmi/ir3_bl_w_meta_combi.csv')"
   ]
  },
  {
   "cell_type": "code",
   "execution_count": null,
   "metadata": {},
   "outputs": [],
   "source": [
    "#TODO Investigate if there are IR2 data apart from this here ... "
   ]
  }
 ],
 "metadata": {
  "kernelspec": {
   "display_name": "merge_env",
   "language": "python",
   "name": "python3"
  },
  "language_info": {
   "codemirror_mode": {
    "name": "ipython",
    "version": 3
   },
   "file_extension": ".py",
   "mimetype": "text/x-python",
   "name": "python",
   "nbconvert_exporter": "python",
   "pygments_lexer": "ipython3",
   "version": "3.12.1"
  }
 },
 "nbformat": 4,
 "nbformat_minor": 2
}

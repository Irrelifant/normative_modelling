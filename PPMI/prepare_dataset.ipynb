{
 "cells": [
  {
   "cell_type": "markdown",
   "metadata": {},
   "source": [
    "### PPMI Parkinsons set\n",
    "\n",
    "In the extracted files count folder: \n",
    "~9800 count files from Phase1 and PHase 2 of IR2 and IR3 (checked for IR1 ... )\n",
    "I split them into different folders to make scripts run easier:\n",
    "\n",
    "phase1:\n",
    "    IR2:\n",
    "    IR3:\n",
    "phase2:\n",
    "    IR2\n",
    "    IR3\n",
    "\n",
    "I want to use IR3 release as its the latest release of the data BUT kind of get an understanding of the dataset by extracting both ... \n",
    "\n",
    "\n",
    "Sample names are period delimited with the following fields:\n",
    "    FIELD 1: study and release version (PPMI-phase1-IR1) -> removed \n",
    "    FIELD 2: individualID or PATNO (e.g. 3385)\n",
    "    FIELD 3: visit (e.g. V08)\n",
    "    FIELD 4: sampleID (e.g. PP00175168)\n",
    "    FIELD 5: sequencing facility ID (e.g. 5104-SL-0001)\n",
    "    FIELD 6: assay (longRNA-NEBKAP)\n",
    "    FIELD 7: analysis (salmon-gtf or starTG) \n",
    "    FIELD 8+: optional compression tar/gz and additional file sub-dividers\n"
   ]
  },
  {
   "cell_type": "code",
   "execution_count": null,
   "metadata": {},
   "outputs": [],
   "source": [
    "%load_ext autoreload\n",
    "%autoreload 2\n",
    "\n",
    "import pandas as pd\n",
    "import numpy as np \n",
    "import matplotlib.pyplot as plt\n",
    "import seaborn as sns\n",
    "import os\n",
    "import sys\n",
    "from scipy.io import mmread\n",
    "sys.path.append(os.path.abspath(os.path.join('..', 'utils')))\n",
    "from helper import assemble_single_featureCounts_outputs_to_df\n",
    "import geo_utils\n",
    "from geo_utils import read_prefixes_from_metadata_txt\n",
    "from filepath import *\n",
    "import glob\n",
    "%autoreload 2"
   ]
  },
  {
   "cell_type": "code",
   "execution_count": null,
   "metadata": {},
   "outputs": [],
   "source": [
    "file_list = glob.glob(os.path.join(PPMI_P1_IR3, \"*.txt\"))\n",
    "len(file_list)"
   ]
  },
  {
   "cell_type": "code",
   "execution_count": null,
   "metadata": {},
   "outputs": [],
   "source": [
    "# NOTE The follwing 2 operations took 50min each, i saved both in work ppmi and will continue from there on.\n",
    "#p2_ir3_df = assemble_single_featureCounts_outputs_to_df(PPMI_P1_IR3) # depending on the input list this may take a long while\n",
    "#P1_IR3_df.to_csv(BASE_PATH +  '/ppmi/combi_p1.csv')\n",
    "#p2_ir3_df = assemble_single_featureCounts_outputs_to_df(PPMI_P2_IR3) # depending on the input list this may take a long while\n",
    "#p2_ir3_df.to_csv(BASE_PATH +  '/ppmi/combi_p1.csv')"
   ]
  },
  {
   "cell_type": "code",
   "execution_count": null,
   "metadata": {},
   "outputs": [],
   "source": [
    "#NOTE still takes like 5 min\n",
    "p1_ir3_df = pd.read_csv(BASE_PATH +  '/ppmi/combi_p1.csv')\n",
    "print(p1_ir3_df.shape)\n",
    "p1_ir3_df.head()"
   ]
  },
  {
   "cell_type": "code",
   "execution_count": null,
   "metadata": {},
   "outputs": [],
   "source": [
    "p2_ir3_df = pd.read_csv(BASE_PATH +  '/ppmi/combi_p2.csv')\n",
    "print(p2_ir3_df.shape)\n",
    "p2_ir3_df.head()"
   ]
  },
  {
   "cell_type": "code",
   "execution_count": null,
   "metadata": {},
   "outputs": [],
   "source": [
    "ir3_combi_df =pd.concat([p1_ir3_df, p2_ir3_df])\n",
    "print(ir3_combi_df.shape)\n",
    "ir3_combi_df.head()"
   ]
  },
  {
   "cell_type": "code",
   "execution_count": null,
   "metadata": {},
   "outputs": [],
   "source": [
    "from collections import Counter\n",
    "\n",
    "\n",
    "columns_combi = ir3_combi_df.columns\n",
    "for entry in columns_combi:\n",
    "    split_entries.extend(entry.split('.'))\n",
    "counter = Counter(split_entries)\n",
    "# Sort occurrences in descending order\n",
    "sorted_occurrences = counter.most_common()\n",
    "\n",
    "# Print all occurrences in descending order\n",
    "for element, count in sorted_occurrences:\n",
    "    print(f\"{element}: {count}\")\n"
   ]
  },
  {
   "cell_type": "code",
   "execution_count": null,
   "metadata": {},
   "outputs": [],
   "source": []
  }
 ],
 "metadata": {
  "kernelspec": {
   "display_name": "merge_env",
   "language": "python",
   "name": "python3"
  },
  "language_info": {
   "codemirror_mode": {
    "name": "ipython",
    "version": 3
   },
   "file_extension": ".py",
   "mimetype": "text/x-python",
   "name": "python",
   "nbconvert_exporter": "python",
   "pygments_lexer": "ipython3",
   "version": "3.12.1"
  }
 },
 "nbformat": 4,
 "nbformat_minor": 2
}

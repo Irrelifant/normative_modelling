{
 "cells": [
  {
   "cell_type": "markdown",
   "metadata": {},
   "source": [
    "# Michlmayr\n",
    "Only virus data! \n",
    "\n",
    "## Data processing\t\n",
    "Sequencer-generated base call (BCL) files were converted to FASTQ files and the multiplexed samples were separated using bcl2fastq\n",
    "Demultiplexed fastq were assessed for sequencing quality using FastQC (version 0.11.4, http://www.bioinformatics.babraham.ac.uk/projects/fastqc/)\n",
    "The fastq files were quality filtered by using FASTAX Toolkit (http://hannonlab.cshl.edu/fastx_toolkit/) with the invocation fastq_quality_filter -q 30 -p 50 -v -Q 33\n",
    "Sequencing reads that met all quality control requirements were aligned to the latest human reference genome (GRCh38) using HISAT2 (version 2.0.4)\n",
    "\n",
    "Gene expression in units of overlapping read counts per million were obtained by using the htseq-count script from HTseq on SAM files of preprocessed RNA-seq alignments.\n",
    "Counts per million were normalized using the voom methodology and expression profiles were modeled using mixed-effect models in limma (version 3.30.6)\n",
    "Genome_build: GRCh38\n",
    "\n",
    "\n",
    "Supplementary_files_format_and_content: csv file with the following output: lgFCH_AcuteVsConv: log2 of the fold change in expression between acute and convalescent timepoints, FCH_AcuteVsConv: fold change in expression between acute and convalescent timepoints, pvals_AcuteVsConv, fdrs_AcuteVsConv, StatusFCH2FDR0.05_AcuteVsConv, a cutoff for |fold change| >2 and FDR <0.05. It is -1 if the gene is fold change <-2 and FDR <0.05, and it is +1 if the gene is fold change >2 and FDR <0.05. Otherwise it is 0."
   ]
  },
  {
   "cell_type": "code",
   "execution_count": null,
   "metadata": {},
   "outputs": [],
   "source": [
    "import pandas as pd\n",
    "import numpy as np \n",
    "import matplotlib.pyplot as plt\n",
    "import seaborn as sns\n",
    "import os\n",
    "import sys\n",
    "from scipy.io import mmread\n",
    "sys.path.append(os.path.abspath(os.path.join('..', 'utils')))\n",
    "import geo_utils\n",
    "from geo_utils import read_prefixes_from_metadata_txt\n",
    "\n",
    "root_path = '/var/datasets/single_papers/2018_michlmayr'\n"
   ]
  },
  {
   "cell_type": "code",
   "execution_count": null,
   "metadata": {},
   "outputs": [],
   "source": [
    "metadata = read_prefixes_from_metadata_txt(f'{root_path}/GSE99992_series_matrix.txt')\n",
    "print(metadata.shape)\n",
    "metadata.head()"
   ]
  },
  {
   "cell_type": "code",
   "execution_count": null,
   "metadata": {},
   "outputs": [],
   "source": [
    "raw_counts = pd.read_csv(f'{root_path}/GSE99992_BigTab.Timepoint.AllGenes.2017-04-25_Transcripts.csv')\n",
    "print(raw_counts.shape)\n",
    "raw_counts.head()"
   ]
  },
  {
   "cell_type": "code",
   "execution_count": null,
   "metadata": {},
   "outputs": [],
   "source": []
  }
 ],
 "metadata": {
  "kernelspec": {
   "display_name": "merge_env",
   "language": "python",
   "name": "python3"
  },
  "language_info": {
   "codemirror_mode": {
    "name": "ipython",
    "version": 3
   },
   "file_extension": ".py",
   "mimetype": "text/x-python",
   "name": "python",
   "nbconvert_exporter": "python",
   "pygments_lexer": "ipython3",
   "version": "3.12.1"
  }
 },
 "nbformat": 4,
 "nbformat_minor": 2
}

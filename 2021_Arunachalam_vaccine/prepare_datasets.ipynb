{
 "cells": [
  {
   "cell_type": "markdown",
   "metadata": {},
   "source": [
    "GSE169159: blood, healthy afaik, longitudinal \n",
    "GSE171964: Single-cell data, deseased, PBMC\n",
    "\n",
    "Preprocessing bulk: \n",
    "- outlier detection with PCA (3 samples removed as they were more than 1.5sd away)\n",
    "raw counts available \n",
    "- RLE > 0.6 removed \n",
    "- normalised by DESeq2 / BTMsT8\n",
    "\n",
    "Relative log expression (RLE) plots were generated with EDAseq40; samples with an RLE > 0.6 were removed from the analysis. Differential gene analysis was performed using DESeq241 (v.1.26.0), incorporating participant identifier into the model to account for inter-participant bias. Genes were ranked by the Wald statistic as reported by DESeq2 for GSEA using the BTMs18. Per-participant fold changes were computed by dividing the DESeq2 normalized expression data for the day of interest by either day 0 (for day 1, day2 and day 7) or day 21 (for day 22, 28 and 42). To obtain BTM correlates with age, the age of each participant was compared against the per-participant fold changes for day 22. The resulting correlation values were ranked by t-statistic and analysed with GSEA. The same method was employed to obtain BTM correlates with IFNγ. IFN scores were computed by taking the per-participant mean fold change on day 22 of the unique set of genes present in the 5 interferon BTMs (M75, M111.1, M150, M127 and M68) that significantly correlated with day-22 IFNγ fold change. Similarly, the per-participant M16 gene score was computed using average fold change on day 22 of the genes present in M16.\n",
    "\n",
    "\n",
    "Check: GSE97590 -> normalized count matrix from GEO used... -> we see this paper also does not compare microarray data with RNseq\n",
    "(Baseline normalized log2-transformed fold changes were then computed per subject for all genes. GSEA was then performed to identify enriched BTMs using gene lists for each dataset ranked by t-statistic from two-sided Student’s t-tests on the post-vaccination log2-transformed fold changes.)\n",
    "\n",
    "\n"
   ]
  },
  {
   "cell_type": "code",
   "execution_count": null,
   "metadata": {},
   "outputs": [],
   "source": [
    "import pandas as pd\n",
    "from filepath import *"
   ]
  },
  {
   "cell_type": "code",
   "execution_count": null,
   "metadata": {},
   "outputs": [],
   "source": [
    "#With his I mostly want to find out how i can integrate this papers data into ImmPort\n",
    "# TODO find out what is _BL (i suspect Baseline): Check it means baseline, i gutesss i will take this for the GAMLSS"
   ]
  },
  {
   "cell_type": "code",
   "execution_count": null,
   "metadata": {},
   "outputs": [],
   "source": [
    "## Testwise integration of 2020_Arachandra_Wimmers\n",
    "\n",
    "metadata_df = pd.read_csv(PATH_ARUNACHALAM2021_METADATA)\n",
    "print(metadata_df.shape)\n",
    "metadata_df.head()"
   ]
  },
  {
   "cell_type": "code",
   "execution_count": null,
   "metadata": {},
   "outputs": [],
   "source": [
    "counts_df = pd.read_csv(PATH_ARUNACHALAM2021_RAWDATA, index_col='gene')\n",
    "print(counts_df.shape)\n",
    "counts_df.head()"
   ]
  },
  {
   "cell_type": "code",
   "execution_count": null,
   "metadata": {},
   "outputs": [],
   "source": [
    "\n",
    "# Problem: SRA Toolkit metadata does not have the study Subject accessions ...  Let´s see how else i can get them \n",
    "import sys\n",
    "import importlib\n",
    "import os\n",
    "sys.path.append(os.path.abspath(os.path.join('..', 'utils')))\n",
    "import geo_utils\n",
    "from geo_utils import read_prefixes_from_metadata_txt\n",
    "importlib.reload(geo_utils)\n",
    "\n",
    "metadata_geo_df = read_prefixes_from_metadata_txt(PATH_ARUNACHALAM2021_GEOMETADATA) # here we get age and sex info but my method yet overwrite it with the last of that tag (here it was !Sample_characteristics_ch1)\n",
    "print(metadata_geo_df.shape)\n",
    "## As this meta file saves several infos under the same \"tag\" I manually need to rename the cols to get desired info\n",
    "\n",
    "\n",
    "metadata_geo_df = metadata_geo_df.rename(columns={'characteristics_ch1':'age', \n",
    "                                'characteristics_ch1.2':'day', \n",
    "                                'characteristics_ch1.3': 'sex'})\n",
    "metadata_geo_df['age'] = metadata_geo_df['age'].str.lstrip('age: ')\n",
    "metadata_geo_df['day'] = metadata_geo_df['day'].str.lstrip('day: ')\n",
    "metadata_geo_df['sex'] = metadata_geo_df['sex'].str.lstrip('Sex: ')\n",
    "\n",
    "metadata_geo_df.head()"
   ]
  },
  {
   "cell_type": "code",
   "execution_count": null,
   "metadata": {},
   "outputs": [],
   "source": [
    "counts_df_T = counts_df.T\n",
    "combi_df = counts_df.merge(metadata_geo_df, right_on='title', how='left', left_on='gene')\n",
    "print(combi_df.shape)\n",
    "combi_df.head()"
   ]
  },
  {
   "cell_type": "code",
   "execution_count": null,
   "metadata": {},
   "outputs": [],
   "source": [
    "combi_df.to_csv('2021_aranachalam_vaccine_combi_df.csv')"
   ]
  },
  {
   "cell_type": "code",
   "execution_count": null,
   "metadata": {},
   "outputs": [],
   "source": [
    "## Now I want to have only the Baseline data, as we dont need all the longituninal stuff and also thats not a healthy anymore\n",
    "counts_df_two = counts_df\n",
    "counts_df_two_filtered = counts_df_two.filter(regex='_BL$')\n",
    "\n",
    "counts_df_two_filtered_T = counts_df_two_filtered.T\n",
    "combi_df_baselines = counts_df_two_filtered_T.merge(metadata_geo_df, right_on='title', how='left', left_index=True)\n",
    "meta_cols = list(combi_df_baselines.columns[-37:])\n",
    "count_cols = list(combi_df_baselines.columns[:-37])\n",
    "new_order_cols = meta_cols + count_cols\n",
    "combi_df_baselines = combi_df_baselines[new_order_cols]\n",
    "print(combi_df_baselines.shape)\n",
    "combi_df_baselines.head()"
   ]
  },
  {
   "cell_type": "code",
   "execution_count": null,
   "metadata": {},
   "outputs": [],
   "source": [
    "combi_df_baselines.to_csv(PATH_ARUNACHALAM2021_FINALDESTINATION)"
   ]
  },
  {
   "cell_type": "code",
   "execution_count": null,
   "metadata": {},
   "outputs": [],
   "source": []
  }
 ],
 "metadata": {
  "kernelspec": {
   "display_name": "base",
   "language": "python",
   "name": "python3"
  },
  "language_info": {
   "codemirror_mode": {
    "name": "ipython",
    "version": 3
   },
   "file_extension": ".py",
   "mimetype": "text/x-python",
   "name": "python",
   "nbconvert_exporter": "python",
   "pygments_lexer": "ipython3",
   "version": "3.11.5"
  }
 },
 "nbformat": 4,
 "nbformat_minor": 2
}

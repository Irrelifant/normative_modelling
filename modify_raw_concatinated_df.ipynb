{
 "cells": [
  {
   "cell_type": "code",
   "execution_count": null,
   "metadata": {},
   "outputs": [],
   "source": [
    "%load_ext autoreload\n",
    "%autoreload 2\n",
    "\n",
    "import pandas as pd\n",
    "import numpy as np \n",
    "import matplotlib.pyplot as plt\n",
    "import seaborn as sns\n",
    "import os\n",
    "import sys\n",
    "from scipy.io import mmread\n",
    "from utils.plotting import manhattanplot, violinplot_overall, scatter_plot\n",
    "from utils.helper import keep_latest_ensamble_version, get_negative_values, METADATA_COLS, reorder_columns_by_metadata_and_gene_counts, convert_gene_names_to_ensembl, clean_age\n",
    "from utils.filepath import *\n",
    "%autoreload 2\n",
    "\n"
   ]
  },
  {
   "cell_type": "markdown",
   "metadata": {},
   "source": [
    "## Preprocess"
   ]
  },
  {
   "cell_type": "code",
   "execution_count": null,
   "metadata": {},
   "outputs": [],
   "source": [
    "concatinated_df = pd.read_csv(f'{BASE_PATH}/concatinated_df_per_subject_11.10.24.csv')"
   ]
  },
  {
   "cell_type": "code",
   "execution_count": null,
   "metadata": {},
   "outputs": [],
   "source": []
  },
  {
   "cell_type": "markdown",
   "metadata": {},
   "source": [
    "## Analyse"
   ]
  },
  {
   "cell_type": "code",
   "execution_count": null,
   "metadata": {},
   "outputs": [],
   "source": [
    "#NOTE produces output thats shows how many healthy samples per gene. \n",
    "output = concatinated_df[concatinated_df['desease']=='Healthy'].count()\n",
    "with open('healthy_per_gene.txt', 'w') as file:\n",
    "    file.write(output.to_string())"
   ]
  },
  {
   "cell_type": "markdown",
   "metadata": {},
   "source": [
    "### Healthy"
   ]
  },
  {
   "cell_type": "code",
   "execution_count": null,
   "metadata": {},
   "outputs": [],
   "source": [
    "#NOTE: Healthy\n",
    "concatinated_df_per_subject_healthy = concatinated_df_per_subject[concatinated_df_per_subject['desease'] == 'Healthy']\n",
    "print(concatinated_df_per_subject_healthy.shape)\n",
    "concatinated_df_per_subject_healthy = concatinated_df_per_subject_healthy.dropna(subset=['age', 'gender', 'desease'])\n",
    "print(concatinated_df_per_subject_healthy.shape)\n",
    "concatinated_df_per_subject_healthy\n",
    "violinplot_overall(concatinated_df_per_subject_healthy, 'gender', 'age', hue_split='gender')"
   ]
  },
  {
   "cell_type": "code",
   "execution_count": null,
   "metadata": {},
   "outputs": [],
   "source": [
    "concatinated_df_per_subject[concatinated_df_per_subject['age']<0]"
   ]
  },
  {
   "cell_type": "markdown",
   "metadata": {},
   "source": [
    "### SarS-CoV-2"
   ]
  },
  {
   "cell_type": "code",
   "execution_count": null,
   "metadata": {},
   "outputs": [],
   "source": [
    "#NOTE: Sars-CoV-2\n",
    "concatinated_df_per_subject_covid = concatinated_df_per_subject[concatinated_df_per_subject['desease'] == 'Sars-CoV-2']\n",
    "print(concatinated_df_per_subject_covid.shape)\n",
    "concatinated_df_per_subject_covid = concatinated_df_per_subject_covid.dropna(subset=['age', 'gender', 'desease'])\n",
    "print(concatinated_df_per_subject_covid.shape)\n",
    "concatinated_df_per_subject_covid\n",
    "violinplot_overall(concatinated_df_per_subject_covid, 'gender', 'age', hue_split='gender')"
   ]
  },
  {
   "cell_type": "code",
   "execution_count": null,
   "metadata": {},
   "outputs": [],
   "source": []
  },
  {
   "cell_type": "markdown",
   "metadata": {},
   "source": [
    "### Parkinson"
   ]
  },
  {
   "cell_type": "code",
   "execution_count": null,
   "metadata": {},
   "outputs": [],
   "source": [
    "concatinated_df_per_subject_covid = concatinated_df_per_subject[concatinated_df_per_subject['desease'] == 'PD']\n",
    "print(concatinated_df_per_subject_covid.shape)\n",
    "concatinated_df_per_subject_covid = concatinated_df_per_subject_covid.dropna(subset=['age', 'gender', 'desease'])\n",
    "print(concatinated_df_per_subject_covid.shape)\n",
    "concatinated_df_per_subject_covid\n",
    "violinplot_overall(concatinated_df_per_subject_covid, 'gender', 'age', hue_split='gender')"
   ]
  }
 ],
 "metadata": {
  "kernelspec": {
   "display_name": "merge_env",
   "language": "python",
   "name": "python3"
  },
  "language_info": {
   "codemirror_mode": {
    "name": "ipython",
    "version": 3
   },
   "file_extension": ".py",
   "mimetype": "text/x-python",
   "name": "python",
   "nbconvert_exporter": "python",
   "pygments_lexer": "ipython3",
   "version": "3.12.1"
  }
 },
 "nbformat": 4,
 "nbformat_minor": 2
}

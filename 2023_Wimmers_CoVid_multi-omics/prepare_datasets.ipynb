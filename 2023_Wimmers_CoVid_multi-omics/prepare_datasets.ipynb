{
 "cells": [
  {
   "cell_type": "markdown",
   "metadata": {},
   "source": [
    "### Problems: \n",
    "#### Longitudinal data of young children, we need to check if we take one entry each ? then we are only left with a few... \n",
    "#### subject ID as actually the match group (.xlsx)"
   ]
  },
  {
   "cell_type": "code",
   "execution_count": null,
   "metadata": {},
   "outputs": [],
   "source": [
    "%load_ext autoreload\n",
    "%autoreload 2\n",
    "\n",
    "import pandas as pd\n",
    "import os, sys\n",
    "from scipy.io import mmread\n",
    "sys.path.append(os.path.join(os.getcwd(), '..', 'utils'))\n",
    "from filepath import *\n",
    "%load_ext autoreload\n",
    "%autoreload 2"
   ]
  },
  {
   "cell_type": "code",
   "execution_count": null,
   "metadata": {},
   "outputs": [],
   "source": [
    "#NOTE: There is a xlsx file in the folder that contains some info i try to integrate into the df´s\n",
    "### NOTE: The first merged dataset here is not the one refered in the paper. the GSE2397987 one is found as the second one merged here... \n",
    "# Its a bit weird as the PBMC sample in GEO got only 86 samples and this one 119 (123) \n"
   ]
  },
  {
   "cell_type": "code",
   "execution_count": null,
   "metadata": {},
   "outputs": [],
   "source": [
    "# what is disStage\n",
    "### disease stage: paper specific\n",
    "# what is Diff.From.Infant.Pos\n",
    "### paper specific\n",
    "# why is counts 119 and metadata 123 ?  \n",
    "### See .xlsx file: 3 are excluded  \n",
    "\n",
    "metadata = pd.read_csv(PATH_WIMMER2023_METADATA, sep=\",\")\n",
    "print(metadata.shape)\n",
    "metadata.head()\n"
   ]
  },
  {
   "cell_type": "code",
   "execution_count": null,
   "metadata": {},
   "outputs": [],
   "source": [
    "rawdata = pd.read_csv(PATH_WIMMER2023_RAWDATA, sep=\"\\t\", header=None).T\n",
    "rawdata.columns = rawdata.iloc[0]\n",
    "rawdata = rawdata.iloc[1:]\n",
    "print(rawdata.shape)\n",
    "rawdata.head()\n",
    "# ID vol sample: 'p22061-s001_barcode269931-subjectidCC0069-iridCR141-date20200605' "
   ]
  },
  {
   "cell_type": "code",
   "execution_count": null,
   "metadata": {},
   "outputs": [],
   "source": [
    "# Here i want to make it better readable what single entries mean (i split up that identifier string. .. )\n",
    "columns_order = ['sample_id', 'barcode', 'subjectid', 'irid', 'date'] + list(rawdata.columns)\n",
    "rawdata[['sample_id', 'barcode', 'subjectid', 'irid', 'date']] = rawdata['gene_id'].str.split('-', expand=True)\n",
    "## add the first 4 chars of the barcode columns to the first one, as it is visible in the .xlsx file that it is supposed to be part of the sample_id\n",
    "prefixes = rawdata['barcode'].str[:4]\n",
    "rawdata['sample_id'] = rawdata['sample_id'] + '_' + prefixes\n",
    "rawdata = rawdata[columns_order]\n",
    "rawdata.head()"
   ]
  },
  {
   "cell_type": "code",
   "execution_count": null,
   "metadata": {},
   "outputs": [],
   "source": [
    "prefixes = {\n",
    "  'subjectid': 'subjectid',\n",
    "  'irid': 'irid',\n",
    "  'date': 'date'\n",
    "}\n",
    "for column, prefix in prefixes.items():\n",
    "  rawdata[column] = rawdata[column].str.replace(f'^{prefix}', '', regex=True)\n",
    "rawdata['barcode'] = rawdata['barcode'].str[12:] # buts the sxxx_barcode prefix\n",
    "rawdata.head()"
   ]
  },
  {
   "cell_type": "code",
   "execution_count": null,
   "metadata": {},
   "outputs": [],
   "source": [
    "# Convert the date_column to datetime format so i can hopefully merge them\n",
    "metadata['PBMC.Collection.Date'] = pd.to_datetime(metadata['PBMC.Collection.Date'], format='%m/%d/%y')\n",
    "metadata['PBMC.Collection.Date'] = metadata['PBMC.Collection.Date'].dt.strftime('%Y%m%d')\n"
   ]
  },
  {
   "cell_type": "code",
   "execution_count": null,
   "metadata": {},
   "outputs": [],
   "source": [
    "# I now try to create a new index to merge meta with rawdata\n",
    "metadata['merge_index'] = metadata['PBMC.Collection.Date'] + metadata['Subject.ID']\n",
    "print(metadata.head())\n",
    "\n",
    "rawdata['merge_index'] = rawdata['date'] + rawdata['subjectid']\n",
    "rawdata.head()"
   ]
  },
  {
   "cell_type": "code",
   "execution_count": null,
   "metadata": {},
   "outputs": [],
   "source": [
    "combi_df = pd.merge(metadata, rawdata, on='merge_index', how='inner')\n",
    "print(combi_df.shape)\n",
    "\n",
    "## convert age \n",
    "combi_df['Age (years)'] = combi_df['Age at PBMC Collection (Months)'] / 12.\n",
    "combi_df.head()"
   ]
  },
  {
   "cell_type": "code",
   "execution_count": null,
   "metadata": {},
   "outputs": [],
   "source": [
    "combi_df.groupby('disStage').count()"
   ]
  },
  {
   "cell_type": "code",
   "execution_count": null,
   "metadata": {},
   "outputs": [],
   "source": [
    "combi_df.to_csv(PATH_WIMMERS2023_WORK + '2023_Wimmers_combi_df.csv')"
   ]
  },
  {
   "cell_type": "markdown",
   "metadata": {},
   "source": [
    "## As there was a confusion with PBMC vs. whole blood datatype (PBMC stated in col header and whole blood in https://www.ncbi.nlm.nih.gov/geo/query/acc.cgi?acc=GSE239787) i also want to import the raw counts from GEO \n"
   ]
  },
  {
   "cell_type": "code",
   "execution_count": null,
   "metadata": {},
   "outputs": [],
   "source": [
    "raw_counts_GEO_df = pd.read_csv(PATH_WIMMER2023_GEO_RAW, sep=\"\\t\")\n",
    "print(raw_counts_GEO_df.shape)\n",
    "raw_counts_GEO_df.head()"
   ]
  },
  {
   "cell_type": "markdown",
   "metadata": {},
   "source": []
  },
  {
   "cell_type": "code",
   "execution_count": null,
   "metadata": {},
   "outputs": [],
   "source": [
    "import sys\n",
    "import geo_utils\n",
    "from geo_utils import read_prefixes_from_metadata_txt\n",
    "sys.path.append(os.path.abspath(os.path.join('..', 'utils')))\n",
    "\n",
    "metadata_GEO_df = read_prefixes_from_metadata_txt(PATH_WIMMER2023_GEO_METADATA)\n",
    "metadata_GEO_df[['ID', 'Status']] = metadata_GEO_df['title'].str.replace('Subject ', '').str.split(' ', expand=True)\n",
    "print(metadata_GEO_df.shape)\n"
   ]
  },
  {
   "cell_type": "code",
   "execution_count": null,
   "metadata": {},
   "outputs": [],
   "source": [
    "columns_metadata = ['geo_accession', 'source_name_ch1', 'instrument_model', 'library_strategy', 'platform_id', 'ID', 'Status',\n",
    "                    'characteristics_ch1.2', 'characteristics_ch1.3', 'characteristics_ch1.4', 'contact_city', 'description']\n",
    "metadata_GEO_df_reduced_metadata = metadata_GEO_df[columns_metadata]\n",
    "metadata_GEO_df_reduced_metadata.head()"
   ]
  },
  {
   "cell_type": "code",
   "execution_count": null,
   "metadata": {},
   "outputs": [],
   "source": [
    "raw_counts_GEO_df.T \n",
    "raw_counts_transposed_df = raw_counts_GEO_df.set_index('x[, 1]').T.reset_index().rename(columns={'index': 'key'})\n",
    "raw_counts_transposed_df.head()"
   ]
  },
  {
   "cell_type": "code",
   "execution_count": null,
   "metadata": {},
   "outputs": [],
   "source": [
    "metadata_GEO_df_reduced_metadata = metadata_GEO_df_reduced_metadata.rename(columns={'description':'key'})\n",
    "merged_df_GSE239787 = pd.merge(metadata_GEO_df_reduced_metadata, raw_counts_transposed_df, on='key')\n",
    "print(merged_df_GSE239787.shape)\n",
    "merged_df_GSE239787.head()"
   ]
  },
  {
   "cell_type": "code",
   "execution_count": null,
   "metadata": {},
   "outputs": [],
   "source": [
    "merged_df_GSE239787[merged_df_GSE239787['ID']==\"CC0014\"]"
   ]
  },
  {
   "cell_type": "code",
   "execution_count": null,
   "metadata": {},
   "outputs": [],
   "source": [
    "merged_df_GSE239787.groupby('Status').count()"
   ]
  },
  {
   "cell_type": "code",
   "execution_count": null,
   "metadata": {},
   "outputs": [],
   "source": [
    "merged_df_GSE239787.to_csv(PATH_WIMMERS2023_GEO)"
   ]
  },
  {
   "cell_type": "code",
   "execution_count": null,
   "metadata": {},
   "outputs": [],
   "source": []
  }
 ],
 "metadata": {
  "kernelspec": {
   "display_name": "base",
   "language": "python",
   "name": "python3"
  },
  "language_info": {
   "codemirror_mode": {
    "name": "ipython",
    "version": 3
   },
   "file_extension": ".py",
   "mimetype": "text/x-python",
   "name": "python",
   "nbconvert_exporter": "python",
   "pygments_lexer": "ipython3",
   "version": "3.12.1"
  }
 },
 "nbformat": 4,
 "nbformat_minor": 2
}

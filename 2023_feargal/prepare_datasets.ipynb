{
 "cells": [
  {
   "cell_type": "code",
   "execution_count": null,
   "metadata": {},
   "outputs": [],
   "source": [
    "import pandas as pd\n",
    "import numpy as np \n",
    "import matplotlib.pyplot as plt\n",
    "import seaborn as sns\n",
    "import os\n",
    "import sys\n",
    "from scipy.io import mmread\n",
    "sys.path.append(os.path.abspath(os.path.join('..', 'utils')))\n",
    "import geo_utils\n",
    "from geo_utils import read_prefixes_from_metadata_txt\n",
    "\n",
    "root_path = '/var/datasets/single_papers/2023_feargal/GSE199750'\n"
   ]
  },
  {
   "cell_type": "code",
   "execution_count": null,
   "metadata": {},
   "outputs": [],
   "source": [
    "metadata_df = read_prefixes_from_metadata_txt(f'{root_path}/GSE199750_series_matrix.txt')\n",
    "print(metadata_df.shape)\n",
    "metadata_df.head()"
   ]
  },
  {
   "cell_type": "code",
   "execution_count": null,
   "metadata": {},
   "outputs": [],
   "source": [
    "input_dir = f'{root_path}/GSE199750_RAW'\n",
    "count_matrix = pd.DataFrame()\n",
    "\n",
    "\n",
    "for file in os.listdir(input_dir):\n",
    "    if file.endswith(\".featureCounts.txt\"):\n",
    "        file_path = os.path.join(input_dir, file)\n",
    "        data = pd.read_csv(file_path, comment='#', sep='\\t')\n",
    "        gene_counts = data[['Geneid', data.columns[-1]]]  # Last column is the count column\n",
    "        sample_name = next(part for part in file.split('_') if part.startswith(\"GSM\"))\n",
    "        gene_counts.columns = ['Geneid', sample_name]\n",
    "        if count_matrix.empty:\n",
    "            count_matrix = gene_counts\n",
    "        else:\n",
    "            count_matrix = pd.merge(count_matrix, gene_counts, on='Geneid', how='outer')\n",
    "count_matrix_T = count_matrix.T\n",
    "\n",
    "        "
   ]
  },
  {
   "cell_type": "code",
   "execution_count": null,
   "metadata": {},
   "outputs": [],
   "source": [
    "count_matrix_T.columns = count_matrix_T.iloc[0]\n",
    "count_matrix_T = count_matrix_T[1:]\n",
    "#count_matrix_T.reset_index(drop=True, inplace=True)\n",
    "print(count_matrix_T.shape)\n",
    "count_matrix_T.head()"
   ]
  },
  {
   "cell_type": "code",
   "execution_count": null,
   "metadata": {},
   "outputs": [],
   "source": [
    "# As I only want the pre vaccine expression counts: \n",
    "\n",
    "metadata_v0_df = metadata_df[metadata_df['title'].str.contains('V0')]\n",
    "print(metadata_v0_df.shape)\n",
    "metadata_v0_df.tail()"
   ]
  },
  {
   "cell_type": "code",
   "execution_count": null,
   "metadata": {},
   "outputs": [],
   "source": [
    "combi_df = count_matrix_T.merge(metadata_v0_df, right_on='geo_accession', how='inner', left_index=True)\n",
    "print(combi_df.shape)\n",
    "combi_df.head()\n"
   ]
  },
  {
   "cell_type": "code",
   "execution_count": null,
   "metadata": {},
   "outputs": [],
   "source": [
    "combi_df.to_csv('/work/transcriptomics_norm_model/2023_feargal/2023_feargal_combi_df.csv')"
   ]
  },
  {
   "cell_type": "code",
   "execution_count": null,
   "metadata": {},
   "outputs": [],
   "source": []
  }
 ],
 "metadata": {
  "kernelspec": {
   "display_name": "merge_env",
   "language": "python",
   "name": "python3"
  },
  "language_info": {
   "codemirror_mode": {
    "name": "ipython",
    "version": 3
   },
   "file_extension": ".py",
   "mimetype": "text/x-python",
   "name": "python",
   "nbconvert_exporter": "python",
   "pygments_lexer": "ipython3",
   "version": "3.12.1"
  }
 },
 "nbformat": 4,
 "nbformat_minor": 2
}

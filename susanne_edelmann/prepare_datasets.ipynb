{
 "cells": [
  {
   "cell_type": "code",
   "execution_count": null,
   "metadata": {},
   "outputs": [],
   "source": [
    "%load_ext autoreload\n",
    "%autoreload 2\n",
    "\n",
    "import pandas as pd\n",
    "import numpy as np \n",
    "import matplotlib.pyplot as plt\n",
    "import seaborn as sns\n",
    "import os\n",
    "import sys\n",
    "from scipy.io import mmread\n",
    "sys.path.append(os.path.abspath(os.path.join('..', 'utils')))\n",
    "\n",
    "import geo_utils\n",
    "from geo_utils import read_prefixes_from_metadata_txt\n",
    "from filepath import *\n",
    "\n",
    "%autoreload 2"
   ]
  },
  {
   "cell_type": "code",
   "execution_count": null,
   "metadata": {},
   "outputs": [],
   "source": [
    "counts = pd.read_csv(EDLMANN2023_COUNTS)\n",
    "counts['genes'] = counts['genes'].str.replace('counts.', '', regex=False)\n",
    "counts_df = counts.T\n",
    "counts_df.columns = counts_df.iloc[0]\n",
    "counts_df = counts_df[1:].reset_index(drop=False)\n",
    "print(counts_df.shape)\n",
    "\n",
    "counts_df.head()"
   ]
  },
  {
   "cell_type": "code",
   "execution_count": null,
   "metadata": {},
   "outputs": [],
   "source": [
    "# I will refer noSAD as Healthy as written in the paper \n",
    "meta = pd.read_csv(EDLMANN2023_META)\n",
    "print(meta.shape)\n",
    "print(meta.columns)\n",
    "meta['SAD'] = meta['SAD'].replace('noSAD', 'healthy')\n",
    "\n",
    "meta.head\n",
    "\n",
    "\n"
   ]
  },
  {
   "cell_type": "code",
   "execution_count": null,
   "metadata": {},
   "outputs": [],
   "source": [
    "merged_df = pd.merge(meta, counts_df, left_on='seq_name', right_on=\"index\", how='left')\n",
    "merged_df"
   ]
  },
  {
   "cell_type": "code",
   "execution_count": null,
   "metadata": {},
   "outputs": [],
   "source": [
    "merged_df.to_csv(EDLMANN2023_COMBI)"
   ]
  },
  {
   "cell_type": "code",
   "execution_count": null,
   "metadata": {},
   "outputs": [],
   "source": [
    "### I detected their GEO accession (just a bit too late ...  ) https://www.ncbi.nlm.nih.gov/geo/query/acc.cgi?acc=GSE228702 "
   ]
  },
  {
   "cell_type": "code",
   "execution_count": null,
   "metadata": {},
   "outputs": [],
   "source": [
    "from geo_utils import read_prefixes_from_metadata_txt\n",
    "\n",
    "meta_GEO = read_prefixes_from_metadata_txt(EDLMANN2023_SERIES_MATRIX)\n",
    "meta_GEO.head()"
   ]
  },
  {
   "cell_type": "code",
   "execution_count": null,
   "metadata": {},
   "outputs": [],
   "source": []
  },
  {
   "cell_type": "code",
   "execution_count": null,
   "metadata": {},
   "outputs": [],
   "source": []
  }
 ],
 "metadata": {
  "kernelspec": {
   "display_name": "merge_env",
   "language": "python",
   "name": "python3"
  },
  "language_info": {
   "codemirror_mode": {
    "name": "ipython",
    "version": 3
   },
   "file_extension": ".py",
   "mimetype": "text/x-python",
   "name": "python",
   "nbconvert_exporter": "python",
   "pygments_lexer": "ipython3",
   "version": "3.12.1"
  }
 },
 "nbformat": 4,
 "nbformat_minor": 2
}
